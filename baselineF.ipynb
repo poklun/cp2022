{
 "cells": [
  {
   "cell_type": "code",
   "execution_count": 1,
   "metadata": {
    "id": "xCPgrUJEEgaP"
   },
   "outputs": [],
   "source": [
    "import pandas as pd\n",
    "import numpy as np\n",
    "from scipy.sparse import csr_matrix\n",
    "from sklearn.model_selection import train_test_split\n",
    "from tqdm.notebook import tqdm"
   ]
  },
  {
   "cell_type": "markdown",
   "metadata": {},
   "source": [
    "<h1>Считывание данных</h1>"
   ]
  },
  {
   "cell_type": "code",
   "execution_count": 2,
   "metadata": {
    "id": "8mfp-NaFD6KW"
   },
   "outputs": [],
   "source": [
    "users = pd.read_csv('train/users.csv', sep=';', index_col=None, dtype={'age': str, 'chb': str, 'chit_type': str, 'gender': str})\n",
    "items = pd.read_csv('train/items.csv', sep=';', index_col=None, dtype={'author': str, 'bbk': str, 'izd': str, 'sys_numb': str, 'title': str, 'year_izd': str})\n",
    "train_transactions = pd.read_csv('train/train_transactions_extended.csv', sep=';', index_col=None, dtype={'chb': str, 'date_1': str, 'is_printed': str, 'is_real': str, 'source': str, 'sys_numb': str, 'type': str})"
   ]
  },
  {
   "cell_type": "code",
   "execution_count": 3,
   "metadata": {
    "colab": {
     "base_uri": "https://localhost:8080/"
    },
    "id": "C6L-vQgH5Sbe",
    "outputId": "5488cb00-1254-4602-91e0-5ec164183e79"
   },
   "outputs": [
    {
     "name": "stdout",
     "output_type": "stream",
     "text": [
      "Кол-во пользователей: 16753\n",
      "Кол-во документов в истории пользователей: 194666\n",
      "Общее кол-во документов: 354355\n"
     ]
    }
   ],
   "source": [
    "print(f\"Кол-во пользователей: {len(train_transactions['chb'].unique())}\")\n",
    "print(f\"Кол-во документов в истории пользователей: {len(train_transactions['sys_numb'].unique())}\")\n",
    "print(f\"Общее кол-во документов: {len(items['sys_numb'].unique())}\")"
   ]
  },
  {
   "cell_type": "markdown",
   "metadata": {},
   "source": [
    "<h1>Предобработка данных</h1>"
   ]
  },
  {
   "cell_type": "code",
   "execution_count": 4,
   "metadata": {},
   "outputs": [],
   "source": [
    "users['age'] = users['age'].replace(['0', 'отсутствует'], np.nan)\n",
    "users['gender'] = users['gender'].replace(['не указан', 'отсутствует'], np.nan)\n",
    "users['chit_type'] = users['chit_type'].replace(['нет данных', 'отсутствует'], np.nan)"
   ]
  },
  {
   "cell_type": "code",
   "execution_count": 5,
   "metadata": {},
   "outputs": [],
   "source": [
    "users = users[['chb','age','gender']].dropna()\n",
    "items = items[['sys_numb','title']]\n",
    "train_transactions = train_transactions[['chb','sys_numb']]"
   ]
  },
  {
   "cell_type": "markdown",
   "metadata": {},
   "source": [
    "<h1>Нормализация текста</h1>"
   ]
  },
  {
   "cell_type": "code",
   "execution_count": 6,
   "metadata": {},
   "outputs": [],
   "source": [
    "from nltk.corpus import stopwords as sw\n",
    "import pymorphy2\n",
    "import re\n",
    "stopwords = set(sw.words(\"russian\"))"
   ]
  },
  {
   "cell_type": "code",
   "execution_count": 7,
   "metadata": {},
   "outputs": [],
   "source": [
    "morph = pymorphy2.MorphAnalyzer()\n",
    "token_pattern = re.compile(r'\\b[\\w\\.\\/]+\\b')\n",
    "tokenize = lambda doc: token_pattern.findall(doc)\n",
    "\n",
    "badlist = set(['отсутствует', 'отсутствовать'])\n",
    "\n",
    "def get_tokens(line):\n",
    "    cur_line = tokenize(line)\n",
    "    normalized_tokens = [morph.parse(x)[0].normal_form for x in cur_line]\n",
    "    filtered_tokens = [token for token in normalized_tokens if not token in badlist and not token in stopwords]\n",
    "    return filtered_tokens\n",
    "                "
   ]
  },
  {
   "cell_type": "code",
   "execution_count": 8,
   "metadata": {},
   "outputs": [],
   "source": [
    "from multiprocessing import Pool"
   ]
  },
  {
   "cell_type": "code",
   "execution_count": 9,
   "metadata": {},
   "outputs": [],
   "source": [
    "pool = Pool()\n",
    "items['title_tokens'] = pool.map(get_tokens, items['title'].values)\n",
    "pool.terminate()"
   ]
  },
  {
   "cell_type": "code",
   "execution_count": 10,
   "metadata": {},
   "outputs": [
    {
     "data": {
      "text/html": [
       "<div>\n",
       "<style scoped>\n",
       "    .dataframe tbody tr th:only-of-type {\n",
       "        vertical-align: middle;\n",
       "    }\n",
       "\n",
       "    .dataframe tbody tr th {\n",
       "        vertical-align: top;\n",
       "    }\n",
       "\n",
       "    .dataframe thead th {\n",
       "        text-align: right;\n",
       "    }\n",
       "</style>\n",
       "<table border=\"1\" class=\"dataframe\">\n",
       "  <thead>\n",
       "    <tr style=\"text-align: right;\">\n",
       "      <th></th>\n",
       "      <th>sys_numb</th>\n",
       "      <th>title</th>\n",
       "      <th>title_tokens</th>\n",
       "    </tr>\n",
       "  </thead>\n",
       "  <tbody>\n",
       "    <tr>\n",
       "      <th>236516</th>\n",
       "      <td>RSL01004324139</td>\n",
       "      <td>Марк Шагал об искусстве и культуре</td>\n",
       "      <td>[марк, шагать, искусство, культура]</td>\n",
       "    </tr>\n",
       "    <tr>\n",
       "      <th>54505</th>\n",
       "      <td>RSL01003628213</td>\n",
       "      <td>Волшебный камень : Vice Versa by Anstey</td>\n",
       "      <td>[волшебный, камень, vice, versa, by, anstey]</td>\n",
       "    </tr>\n",
       "    <tr>\n",
       "      <th>105767</th>\n",
       "      <td>RSL07000416141</td>\n",
       "      <td>отсутствует</td>\n",
       "      <td>[]</td>\n",
       "    </tr>\n",
       "  </tbody>\n",
       "</table>\n",
       "</div>"
      ],
      "text/plain": [
       "              sys_numb                                    title  \\\n",
       "236516  RSL01004324139       Марк Шагал об искусстве и культуре   \n",
       "54505   RSL01003628213  Волшебный камень : Vice Versa by Anstey   \n",
       "105767  RSL07000416141                              отсутствует   \n",
       "\n",
       "                                        title_tokens  \n",
       "236516           [марк, шагать, искусство, культура]  \n",
       "54505   [волшебный, камень, vice, versa, by, anstey]  \n",
       "105767                                            []  "
      ]
     },
     "execution_count": 10,
     "metadata": {},
     "output_type": "execute_result"
    }
   ],
   "source": [
    "items.sample(3)"
   ]
  },
  {
   "cell_type": "markdown",
   "metadata": {},
   "source": [
    "## Извлечение биграмм и исключение редких слов"
   ]
  },
  {
   "cell_type": "code",
   "execution_count": 11,
   "metadata": {},
   "outputs": [],
   "source": [
    "from gensim.models.phrases import Phrases\n",
    "from gensim.corpora import Dictionary"
   ]
  },
  {
   "cell_type": "code",
   "execution_count": 12,
   "metadata": {},
   "outputs": [],
   "source": [
    "bigram_transformer = Phrases(items['title_tokens'].values)\n",
    "trigram_transformer = Phrases(bigram_transformer[items['title_tokens'].values])\n",
    "quadrogram_transformer = Phrases(trigram_transformer[items['title_tokens'].values])\n",
    "pentagram_transformer = Phrases(quadrogram_transformer[items['title_tokens'].values])\n",
    "items['norm_title'] = [pentagram_transformer[q] for q in items['title_tokens']]"
   ]
  },
  {
   "cell_type": "code",
   "execution_count": 13,
   "metadata": {},
   "outputs": [],
   "source": [
    "id2word = Dictionary(items['norm_title'].values)\n",
    "id2word.filter_extremes(no_below=5)\n",
    "items['norm_title'] = [[w for w in q if w in id2word.token2id]for q in items['norm_title']]"
   ]
  },
  {
   "cell_type": "code",
   "execution_count": 14,
   "metadata": {},
   "outputs": [],
   "source": [
    "items = items[['sys_numb','norm_title']]"
   ]
  },
  {
   "cell_type": "code",
   "execution_count": 15,
   "metadata": {
    "scrolled": true
   },
   "outputs": [
    {
     "data": {
      "text/html": [
       "<div>\n",
       "<style scoped>\n",
       "    .dataframe tbody tr th:only-of-type {\n",
       "        vertical-align: middle;\n",
       "    }\n",
       "\n",
       "    .dataframe tbody tr th {\n",
       "        vertical-align: top;\n",
       "    }\n",
       "\n",
       "    .dataframe thead th {\n",
       "        text-align: right;\n",
       "    }\n",
       "</style>\n",
       "<table border=\"1\" class=\"dataframe\">\n",
       "  <thead>\n",
       "    <tr style=\"text-align: right;\">\n",
       "      <th></th>\n",
       "      <th>sys_numb</th>\n",
       "      <th>norm_title</th>\n",
       "    </tr>\n",
       "  </thead>\n",
       "  <tbody>\n",
       "    <tr>\n",
       "      <th>313352</th>\n",
       "      <td>RSL01002152040</td>\n",
       "      <td>[связь_общественность, сфера, исполнительский_...</td>\n",
       "    </tr>\n",
       "    <tr>\n",
       "      <th>264283</th>\n",
       "      <td>RSL01007765957</td>\n",
       "      <td>[актуальный_проблема, разоружение, реф_сб]</td>\n",
       "    </tr>\n",
       "    <tr>\n",
       "      <th>333890</th>\n",
       "      <td>RSL01005680978</td>\n",
       "      <td>[тепло_массоперенос, материал_совещание, ин_те...</td>\n",
       "    </tr>\n",
       "  </tbody>\n",
       "</table>\n",
       "</div>"
      ],
      "text/plain": [
       "              sys_numb                                         norm_title\n",
       "313352  RSL01002152040  [связь_общественность, сфера, исполнительский_...\n",
       "264283  RSL01007765957         [актуальный_проблема, разоружение, реф_сб]\n",
       "333890  RSL01005680978  [тепло_массоперенос, материал_совещание, ин_те..."
      ]
     },
     "execution_count": 15,
     "metadata": {},
     "output_type": "execute_result"
    }
   ],
   "source": [
    "items.sample(3)"
   ]
  },
  {
   "cell_type": "markdown",
   "metadata": {},
   "source": [
    "### Фильтрация трансзакций"
   ]
  },
  {
   "cell_type": "code",
   "execution_count": 16,
   "metadata": {},
   "outputs": [],
   "source": [
    "import turicreate as gl"
   ]
  },
  {
   "cell_type": "code",
   "execution_count": 17,
   "metadata": {},
   "outputs": [],
   "source": [
    "g = gl.SGraph()"
   ]
  },
  {
   "cell_type": "code",
   "execution_count": 18,
   "metadata": {},
   "outputs": [],
   "source": [
    "g = g.add_edges(train_transactions, src_field = 'chb', dst_field = 'sys_numb')"
   ]
  },
  {
   "cell_type": "code",
   "execution_count": 19,
   "metadata": {},
   "outputs": [],
   "source": [
    "k_value = 1"
   ]
  },
  {
   "cell_type": "code",
   "execution_count": 20,
   "metadata": {},
   "outputs": [
    {
     "data": {
      "text/html": [
       "<pre>Finish computing core 0\t Vertices left: 211419</pre>"
      ],
      "text/plain": [
       "Finish computing core 0\t Vertices left: 211419"
      ]
     },
     "metadata": {},
     "output_type": "display_data"
    }
   ],
   "source": [
    "kc = gl.kcore.create(g, kmin = k_value - 1, kmax = k_value)"
   ]
  },
  {
   "cell_type": "code",
   "execution_count": 21,
   "metadata": {},
   "outputs": [],
   "source": [
    "training_filtered = g.get_neighborhood(kc.core_id.filter_by(k_value, 'core_id')['__id'], radius=0)"
   ]
  },
  {
   "cell_type": "code",
   "execution_count": 23,
   "metadata": {},
   "outputs": [],
   "source": [
    "training_filtered = gl.SFrame(training_filtered.edges).rename({'__src_id' : 'chb', '__dst_id' : 'sys_numb'})"
   ]
  },
  {
   "cell_type": "markdown",
   "metadata": {},
   "source": [
    "<h1>Обучение модели</h1>"
   ]
  },
  {
   "cell_type": "code",
   "execution_count": 25,
   "metadata": {},
   "outputs": [],
   "source": [
    "#(training_data, validation_data) = gl.recommender.util.random_split_by_user(gl.SFrame(training_filtered))"
   ]
  },
  {
   "cell_type": "code",
   "execution_count": 26,
   "metadata": {},
   "outputs": [],
   "source": [
    "train_setting = dict(\n",
    "    regularization = 1e-12,\n",
    "    linear_regularization = 1e-12,\n",
    "    side_data_factorization = True,\n",
    "    num_factors = 410,\n",
    "    num_sampled_negative_examples = 150, \n",
    "    max_iterations = 50) "
   ]
  },
  {
   "cell_type": "code",
   "execution_count": 27,
   "metadata": {},
   "outputs": [
    {
     "data": {
      "text/html": [
       "<pre>Preparing data set.</pre>"
      ],
      "text/plain": [
       "Preparing data set."
      ]
     },
     "metadata": {},
     "output_type": "display_data"
    },
    {
     "data": {
      "text/html": [
       "<pre>    Data has 229002 observations with 16753 users and 354355 items.</pre>"
      ],
      "text/plain": [
       "    Data has 229002 observations with 16753 users and 354355 items."
      ]
     },
     "metadata": {},
     "output_type": "display_data"
    },
    {
     "data": {
      "text/html": [
       "<pre>    Data prepared in: 0.325979s</pre>"
      ],
      "text/plain": [
       "    Data prepared in: 0.325979s"
      ]
     },
     "metadata": {},
     "output_type": "display_data"
    },
    {
     "data": {
      "text/html": [
       "<pre>Training ranking_factorization_recommender for recommendations.</pre>"
      ],
      "text/plain": [
       "Training ranking_factorization_recommender for recommendations."
      ]
     },
     "metadata": {},
     "output_type": "display_data"
    },
    {
     "data": {
      "text/html": [
       "<pre>+--------------------------------+--------------------------------------------------+----------+</pre>"
      ],
      "text/plain": [
       "+--------------------------------+--------------------------------------------------+----------+"
      ]
     },
     "metadata": {},
     "output_type": "display_data"
    },
    {
     "data": {
      "text/html": [
       "<pre>| Parameter                      | Description                                      | Value    |</pre>"
      ],
      "text/plain": [
       "| Parameter                      | Description                                      | Value    |"
      ]
     },
     "metadata": {},
     "output_type": "display_data"
    },
    {
     "data": {
      "text/html": [
       "<pre>+--------------------------------+--------------------------------------------------+----------+</pre>"
      ],
      "text/plain": [
       "+--------------------------------+--------------------------------------------------+----------+"
      ]
     },
     "metadata": {},
     "output_type": "display_data"
    },
    {
     "data": {
      "text/html": [
       "<pre>| num_factors                    | Factor Dimension                                 | 410      |</pre>"
      ],
      "text/plain": [
       "| num_factors                    | Factor Dimension                                 | 410      |"
      ]
     },
     "metadata": {},
     "output_type": "display_data"
    },
    {
     "data": {
      "text/html": [
       "<pre>| regularization                 | L2 Regularization on Factors                     | 1e-12    |</pre>"
      ],
      "text/plain": [
       "| regularization                 | L2 Regularization on Factors                     | 1e-12    |"
      ]
     },
     "metadata": {},
     "output_type": "display_data"
    },
    {
     "data": {
      "text/html": [
       "<pre>| solver                         | Solver used for training                         | adagrad  |</pre>"
      ],
      "text/plain": [
       "| solver                         | Solver used for training                         | adagrad  |"
      ]
     },
     "metadata": {},
     "output_type": "display_data"
    },
    {
     "data": {
      "text/html": [
       "<pre>| linear_regularization          | L2 Regularization on Linear Coefficients         | 1e-12    |</pre>"
      ],
      "text/plain": [
       "| linear_regularization          | L2 Regularization on Linear Coefficients         | 1e-12    |"
      ]
     },
     "metadata": {},
     "output_type": "display_data"
    },
    {
     "data": {
      "text/html": [
       "<pre>| num_sampled_negative_examples  | # Negative Samples Considered per Observation    | 150      |</pre>"
      ],
      "text/plain": [
       "| num_sampled_negative_examples  | # Negative Samples Considered per Observation    | 150      |"
      ]
     },
     "metadata": {},
     "output_type": "display_data"
    },
    {
     "data": {
      "text/html": [
       "<pre>| binary_target                  | Assume Binary Targets                            | True     |</pre>"
      ],
      "text/plain": [
       "| binary_target                  | Assume Binary Targets                            | True     |"
      ]
     },
     "metadata": {},
     "output_type": "display_data"
    },
    {
     "data": {
      "text/html": [
       "<pre>| side_data_factorization        | Assign Factors for Side Data                     | True     |</pre>"
      ],
      "text/plain": [
       "| side_data_factorization        | Assign Factors for Side Data                     | True     |"
      ]
     },
     "metadata": {},
     "output_type": "display_data"
    },
    {
     "data": {
      "text/html": [
       "<pre>| max_iterations                 | Maximum Number of Iterations                     | 50       |</pre>"
      ],
      "text/plain": [
       "| max_iterations                 | Maximum Number of Iterations                     | 50       |"
      ]
     },
     "metadata": {},
     "output_type": "display_data"
    },
    {
     "data": {
      "text/html": [
       "<pre>+--------------------------------+--------------------------------------------------+----------+</pre>"
      ],
      "text/plain": [
       "+--------------------------------+--------------------------------------------------+----------+"
      ]
     },
     "metadata": {},
     "output_type": "display_data"
    },
    {
     "data": {
      "text/html": [
       "<pre>  Optimizing model using SGD; tuning step size.</pre>"
      ],
      "text/plain": [
       "  Optimizing model using SGD; tuning step size."
      ]
     },
     "metadata": {},
     "output_type": "display_data"
    },
    {
     "data": {
      "text/html": [
       "<pre>  Using 28625 / 229002 points for tuning the step size.</pre>"
      ],
      "text/plain": [
       "  Using 28625 / 229002 points for tuning the step size."
      ]
     },
     "metadata": {},
     "output_type": "display_data"
    },
    {
     "data": {
      "text/html": [
       "<pre>+---------+-------------------+------------------------------------------+</pre>"
      ],
      "text/plain": [
       "+---------+-------------------+------------------------------------------+"
      ]
     },
     "metadata": {},
     "output_type": "display_data"
    },
    {
     "data": {
      "text/html": [
       "<pre>| Attempt | Initial Step Size | Estimated Objective Value                |</pre>"
      ],
      "text/plain": [
       "| Attempt | Initial Step Size | Estimated Objective Value                |"
      ]
     },
     "metadata": {},
     "output_type": "display_data"
    },
    {
     "data": {
      "text/html": [
       "<pre>+---------+-------------------+------------------------------------------+</pre>"
      ],
      "text/plain": [
       "+---------+-------------------+------------------------------------------+"
      ]
     },
     "metadata": {},
     "output_type": "display_data"
    },
    {
     "data": {
      "text/html": [
       "<pre>| 0       | 16.6667           | Not Viable                               |</pre>"
      ],
      "text/plain": [
       "| 0       | 16.6667           | Not Viable                               |"
      ]
     },
     "metadata": {},
     "output_type": "display_data"
    },
    {
     "data": {
      "text/html": [
       "<pre>| 1       | 4.16667           | Not Viable                               |</pre>"
      ],
      "text/plain": [
       "| 1       | 4.16667           | Not Viable                               |"
      ]
     },
     "metadata": {},
     "output_type": "display_data"
    },
    {
     "data": {
      "text/html": [
       "<pre>| 2       | 1.04167           | Not Viable                               |</pre>"
      ],
      "text/plain": [
       "| 2       | 1.04167           | Not Viable                               |"
      ]
     },
     "metadata": {},
     "output_type": "display_data"
    },
    {
     "data": {
      "text/html": [
       "<pre>| 3       | 0.260417          | Not Viable                               |</pre>"
      ],
      "text/plain": [
       "| 3       | 0.260417          | Not Viable                               |"
      ]
     },
     "metadata": {},
     "output_type": "display_data"
    },
    {
     "data": {
      "text/html": [
       "<pre>| 4       | 0.0651042         | Not Viable                               |</pre>"
      ],
      "text/plain": [
       "| 4       | 0.0651042         | Not Viable                               |"
      ]
     },
     "metadata": {},
     "output_type": "display_data"
    },
    {
     "data": {
      "text/html": [
       "<pre>| 5       | 0.016276          | 1.21184                                  |</pre>"
      ],
      "text/plain": [
       "| 5       | 0.016276          | 1.21184                                  |"
      ]
     },
     "metadata": {},
     "output_type": "display_data"
    },
    {
     "data": {
      "text/html": [
       "<pre>| 6       | 0.00813802        | 1.30791                                  |</pre>"
      ],
      "text/plain": [
       "| 6       | 0.00813802        | 1.30791                                  |"
      ]
     },
     "metadata": {},
     "output_type": "display_data"
    },
    {
     "data": {
      "text/html": [
       "<pre>| 7       | 0.00406901        | 1.37586                                  |</pre>"
      ],
      "text/plain": [
       "| 7       | 0.00406901        | 1.37586                                  |"
      ]
     },
     "metadata": {},
     "output_type": "display_data"
    },
    {
     "data": {
      "text/html": [
       "<pre>| 8       | 0.00203451        | No Decrease (1.39675 >= 1.38754)         |</pre>"
      ],
      "text/plain": [
       "| 8       | 0.00203451        | No Decrease (1.39675 >= 1.38754)         |"
      ]
     },
     "metadata": {},
     "output_type": "display_data"
    },
    {
     "data": {
      "text/html": [
       "<pre>+---------+-------------------+------------------------------------------+</pre>"
      ],
      "text/plain": [
       "+---------+-------------------+------------------------------------------+"
      ]
     },
     "metadata": {},
     "output_type": "display_data"
    },
    {
     "data": {
      "text/html": [
       "<pre>| Final   | 0.016276          | 1.21184                                  |</pre>"
      ],
      "text/plain": [
       "| Final   | 0.016276          | 1.21184                                  |"
      ]
     },
     "metadata": {},
     "output_type": "display_data"
    },
    {
     "data": {
      "text/html": [
       "<pre>+---------+-------------------+------------------------------------------+</pre>"
      ],
      "text/plain": [
       "+---------+-------------------+------------------------------------------+"
      ]
     },
     "metadata": {},
     "output_type": "display_data"
    },
    {
     "data": {
      "text/html": [
       "<pre>Starting Optimization.</pre>"
      ],
      "text/plain": [
       "Starting Optimization."
      ]
     },
     "metadata": {},
     "output_type": "display_data"
    },
    {
     "data": {
      "text/html": [
       "<pre>+---------+--------------+-------------------+-----------------------------------+-------------+</pre>"
      ],
      "text/plain": [
       "+---------+--------------+-------------------+-----------------------------------+-------------+"
      ]
     },
     "metadata": {},
     "output_type": "display_data"
    },
    {
     "data": {
      "text/html": [
       "<pre>| Iter.   | Elapsed Time | Approx. Objective | Approx. Training Predictive Error | Step Size   |</pre>"
      ],
      "text/plain": [
       "| Iter.   | Elapsed Time | Approx. Objective | Approx. Training Predictive Error | Step Size   |"
      ]
     },
     "metadata": {},
     "output_type": "display_data"
    },
    {
     "data": {
      "text/html": [
       "<pre>+---------+--------------+-------------------+-----------------------------------+-------------+</pre>"
      ],
      "text/plain": [
       "+---------+--------------+-------------------+-----------------------------------+-------------+"
      ]
     },
     "metadata": {},
     "output_type": "display_data"
    },
    {
     "data": {
      "text/html": [
       "<pre>| Initial | 147us        | 1.38754           | 0.693164                          |             |</pre>"
      ],
      "text/plain": [
       "| Initial | 147us        | 1.38754           | 0.693164                          |             |"
      ]
     },
     "metadata": {},
     "output_type": "display_data"
    },
    {
     "data": {
      "text/html": [
       "<pre>+---------+--------------+-------------------+-----------------------------------+-------------+</pre>"
      ],
      "text/plain": [
       "+---------+--------------+-------------------+-----------------------------------+-------------+"
      ]
     },
     "metadata": {},
     "output_type": "display_data"
    },
    {
     "data": {
      "text/html": [
       "<pre>| 1       | 16.22s       | 1.55502           | 0.738743                          | 0.016276    |</pre>"
      ],
      "text/plain": [
       "| 1       | 16.22s       | 1.55502           | 0.738743                          | 0.016276    |"
      ]
     },
     "metadata": {},
     "output_type": "display_data"
    },
    {
     "data": {
      "text/html": [
       "<pre>| 2       | 31.66s       | 1.3983            | 0.631863                          | 0.016276    |</pre>"
      ],
      "text/plain": [
       "| 2       | 31.66s       | 1.3983            | 0.631863                          | 0.016276    |"
      ]
     },
     "metadata": {},
     "output_type": "display_data"
    },
    {
     "data": {
      "text/html": [
       "<pre>| 3       | 47.05s       | 1.2892            | 0.551317                          | 0.016276    |</pre>"
      ],
      "text/plain": [
       "| 3       | 47.05s       | 1.2892            | 0.551317                          | 0.016276    |"
      ]
     },
     "metadata": {},
     "output_type": "display_data"
    },
    {
     "data": {
      "text/html": [
       "<pre>| 4       | 1m 2s        | 1.2097            | 0.497665                          | 0.016276    |</pre>"
      ],
      "text/plain": [
       "| 4       | 1m 2s        | 1.2097            | 0.497665                          | 0.016276    |"
      ]
     },
     "metadata": {},
     "output_type": "display_data"
    },
    {
     "data": {
      "text/html": [
       "<pre>| 5       | 1m 15s       | 1.13127           | 0.454756                          | 0.016276    |</pre>"
      ],
      "text/plain": [
       "| 5       | 1m 15s       | 1.13127           | 0.454756                          | 0.016276    |"
      ]
     },
     "metadata": {},
     "output_type": "display_data"
    },
    {
     "data": {
      "text/html": [
       "<pre>| 7       | 1m 44s       | 1.00777           | 0.38461                           | 0.016276    |</pre>"
      ],
      "text/plain": [
       "| 7       | 1m 44s       | 1.00777           | 0.38461                           | 0.016276    |"
      ]
     },
     "metadata": {},
     "output_type": "display_data"
    },
    {
     "data": {
      "text/html": [
       "<pre>| 8       | 1m 58s       | 0.952383          | 0.355652                          | 0.016276    |</pre>"
      ],
      "text/plain": [
       "| 8       | 1m 58s       | 0.952383          | 0.355652                          | 0.016276    |"
      ]
     },
     "metadata": {},
     "output_type": "display_data"
    },
    {
     "data": {
      "text/html": [
       "<pre>| 9       | 2m 12s       | 0.896943          | 0.329542                          | 0.016276    |</pre>"
      ],
      "text/plain": [
       "| 9       | 2m 12s       | 0.896943          | 0.329542                          | 0.016276    |"
      ]
     },
     "metadata": {},
     "output_type": "display_data"
    },
    {
     "data": {
      "text/html": [
       "<pre>| 10      | 2m 26s       | 0.848034          | 0.306421                          | 0.016276    |</pre>"
      ],
      "text/plain": [
       "| 10      | 2m 26s       | 0.848034          | 0.306421                          | 0.016276    |"
      ]
     },
     "metadata": {},
     "output_type": "display_data"
    },
    {
     "data": {
      "text/html": [
       "<pre>| 11      | 2m 40s       | 0.803645          | 0.286315                          | 0.016276    |</pre>"
      ],
      "text/plain": [
       "| 11      | 2m 40s       | 0.803645          | 0.286315                          | 0.016276    |"
      ]
     },
     "metadata": {},
     "output_type": "display_data"
    },
    {
     "data": {
      "text/html": [
       "<pre>| 12      | 2m 55s       | 0.761494          | 0.268086                          | 0.016276    |</pre>"
      ],
      "text/plain": [
       "| 12      | 2m 55s       | 0.761494          | 0.268086                          | 0.016276    |"
      ]
     },
     "metadata": {},
     "output_type": "display_data"
    },
    {
     "data": {
      "text/html": [
       "<pre>| 13      | 3m 9s        | 0.722588          | 0.251325                          | 0.016276    |</pre>"
      ],
      "text/plain": [
       "| 13      | 3m 9s        | 0.722588          | 0.251325                          | 0.016276    |"
      ]
     },
     "metadata": {},
     "output_type": "display_data"
    },
    {
     "data": {
      "text/html": [
       "<pre>| 14      | 3m 25s       | 0.685972          | 0.236402                          | 0.016276    |</pre>"
      ],
      "text/plain": [
       "| 14      | 3m 25s       | 0.685972          | 0.236402                          | 0.016276    |"
      ]
     },
     "metadata": {},
     "output_type": "display_data"
    },
    {
     "data": {
      "text/html": [
       "<pre>| 15      | 3m 39s       | 0.653005          | 0.222715                          | 0.016276    |</pre>"
      ],
      "text/plain": [
       "| 15      | 3m 39s       | 0.653005          | 0.222715                          | 0.016276    |"
      ]
     },
     "metadata": {},
     "output_type": "display_data"
    },
    {
     "data": {
      "text/html": [
       "<pre>| 16      | 3m 54s       | 0.6208            | 0.209863                          | 0.016276    |</pre>"
      ],
      "text/plain": [
       "| 16      | 3m 54s       | 0.6208            | 0.209863                          | 0.016276    |"
      ]
     },
     "metadata": {},
     "output_type": "display_data"
    },
    {
     "data": {
      "text/html": [
       "<pre>| 17      | 4m 9s        | 0.591787          | 0.198459                          | 0.016276    |</pre>"
      ],
      "text/plain": [
       "| 17      | 4m 9s        | 0.591787          | 0.198459                          | 0.016276    |"
      ]
     },
     "metadata": {},
     "output_type": "display_data"
    },
    {
     "data": {
      "text/html": [
       "<pre>| 18      | 4m 24s       | 0.5649            | 0.188314                          | 0.016276    |</pre>"
      ],
      "text/plain": [
       "| 18      | 4m 24s       | 0.5649            | 0.188314                          | 0.016276    |"
      ]
     },
     "metadata": {},
     "output_type": "display_data"
    },
    {
     "data": {
      "text/html": [
       "<pre>| 19      | 4m 39s       | 0.539375          | 0.178879                          | 0.016276    |</pre>"
      ],
      "text/plain": [
       "| 19      | 4m 39s       | 0.539375          | 0.178879                          | 0.016276    |"
      ]
     },
     "metadata": {},
     "output_type": "display_data"
    },
    {
     "data": {
      "text/html": [
       "<pre>| 20      | 4m 54s       | 0.515139          | 0.169833                          | 0.016276    |</pre>"
      ],
      "text/plain": [
       "| 20      | 4m 54s       | 0.515139          | 0.169833                          | 0.016276    |"
      ]
     },
     "metadata": {},
     "output_type": "display_data"
    },
    {
     "data": {
      "text/html": [
       "<pre>| 21      | 5m 10s       | 0.49274           | 0.161595                          | 0.016276    |</pre>"
      ],
      "text/plain": [
       "| 21      | 5m 10s       | 0.49274           | 0.161595                          | 0.016276    |"
      ]
     },
     "metadata": {},
     "output_type": "display_data"
    },
    {
     "data": {
      "text/html": [
       "<pre>| 22      | 5m 25s       | 0.471551          | 0.153799                          | 0.016276    |</pre>"
      ],
      "text/plain": [
       "| 22      | 5m 25s       | 0.471551          | 0.153799                          | 0.016276    |"
      ]
     },
     "metadata": {},
     "output_type": "display_data"
    },
    {
     "data": {
      "text/html": [
       "<pre>| 23      | 5m 41s       | 0.452336          | 0.146703                          | 0.016276    |</pre>"
      ],
      "text/plain": [
       "| 23      | 5m 41s       | 0.452336          | 0.146703                          | 0.016276    |"
      ]
     },
     "metadata": {},
     "output_type": "display_data"
    },
    {
     "data": {
      "text/html": [
       "<pre>| 24      | 5m 56s       | 0.433977          | 0.140262                          | 0.016276    |</pre>"
      ],
      "text/plain": [
       "| 24      | 5m 56s       | 0.433977          | 0.140262                          | 0.016276    |"
      ]
     },
     "metadata": {},
     "output_type": "display_data"
    },
    {
     "data": {
      "text/html": [
       "<pre>| 25      | 6m 12s       | 0.417036          | 0.134391                          | 0.016276    |</pre>"
      ],
      "text/plain": [
       "| 25      | 6m 12s       | 0.417036          | 0.134391                          | 0.016276    |"
      ]
     },
     "metadata": {},
     "output_type": "display_data"
    },
    {
     "data": {
      "text/html": [
       "<pre>| 26      | 6m 27s       | 0.400491          | 0.128455                          | 0.016276    |</pre>"
      ],
      "text/plain": [
       "| 26      | 6m 27s       | 0.400491          | 0.128455                          | 0.016276    |"
      ]
     },
     "metadata": {},
     "output_type": "display_data"
    },
    {
     "data": {
      "text/html": [
       "<pre>| 27      | 6m 43s       | 0.385553          | 0.123191                          | 0.016276    |</pre>"
      ],
      "text/plain": [
       "| 27      | 6m 43s       | 0.385553          | 0.123191                          | 0.016276    |"
      ]
     },
     "metadata": {},
     "output_type": "display_data"
    },
    {
     "data": {
      "text/html": [
       "<pre>| 28      | 6m 58s       | 0.371715          | 0.11828                           | 0.016276    |</pre>"
      ],
      "text/plain": [
       "| 28      | 6m 58s       | 0.371715          | 0.11828                           | 0.016276    |"
      ]
     },
     "metadata": {},
     "output_type": "display_data"
    },
    {
     "data": {
      "text/html": [
       "<pre>| 29      | 7m 14s       | 0.357116          | 0.11363                           | 0.016276    |</pre>"
      ],
      "text/plain": [
       "| 29      | 7m 14s       | 0.357116          | 0.11363                           | 0.016276    |"
      ]
     },
     "metadata": {},
     "output_type": "display_data"
    },
    {
     "data": {
      "text/html": [
       "<pre>| 30      | 7m 29s       | 0.344392          | 0.108946                          | 0.016276    |</pre>"
      ],
      "text/plain": [
       "| 30      | 7m 29s       | 0.344392          | 0.108946                          | 0.016276    |"
      ]
     },
     "metadata": {},
     "output_type": "display_data"
    },
    {
     "data": {
      "text/html": [
       "<pre>| 31      | 7m 44s       | 0.331898          | 0.104714                          | 0.016276    |</pre>"
      ],
      "text/plain": [
       "| 31      | 7m 44s       | 0.331898          | 0.104714                          | 0.016276    |"
      ]
     },
     "metadata": {},
     "output_type": "display_data"
    },
    {
     "data": {
      "text/html": [
       "<pre>| 32      | 7m 58s       | 0.320796          | 0.100995                          | 0.016276    |</pre>"
      ],
      "text/plain": [
       "| 32      | 7m 58s       | 0.320796          | 0.100995                          | 0.016276    |"
      ]
     },
     "metadata": {},
     "output_type": "display_data"
    },
    {
     "data": {
      "text/html": [
       "<pre>| 33      | 8m 13s       | 0.309742          | 0.0973365                         | 0.016276    |</pre>"
      ],
      "text/plain": [
       "| 33      | 8m 13s       | 0.309742          | 0.0973365                         | 0.016276    |"
      ]
     },
     "metadata": {},
     "output_type": "display_data"
    },
    {
     "data": {
      "text/html": [
       "<pre>| 34      | 8m 27s       | 0.299917          | 0.0941124                         | 0.016276    |</pre>"
      ],
      "text/plain": [
       "| 34      | 8m 27s       | 0.299917          | 0.0941124                         | 0.016276    |"
      ]
     },
     "metadata": {},
     "output_type": "display_data"
    },
    {
     "data": {
      "text/html": [
       "<pre>| 35      | 8m 41s       | 0.290275          | 0.0905708                         | 0.016276    |</pre>"
      ],
      "text/plain": [
       "| 35      | 8m 41s       | 0.290275          | 0.0905708                         | 0.016276    |"
      ]
     },
     "metadata": {},
     "output_type": "display_data"
    },
    {
     "data": {
      "text/html": [
       "<pre>| 36      | 8m 56s       | 0.281287          | 0.0876464                         | 0.016276    |</pre>"
      ],
      "text/plain": [
       "| 36      | 8m 56s       | 0.281287          | 0.0876464                         | 0.016276    |"
      ]
     },
     "metadata": {},
     "output_type": "display_data"
    },
    {
     "data": {
      "text/html": [
       "<pre>| 37      | 9m 14s       | 0.271986          | 0.0845584                         | 0.016276    |</pre>"
      ],
      "text/plain": [
       "| 37      | 9m 14s       | 0.271986          | 0.0845584                         | 0.016276    |"
      ]
     },
     "metadata": {},
     "output_type": "display_data"
    },
    {
     "data": {
      "text/html": [
       "<pre>| 38      | 9m 28s       | 0.263834          | 0.0819652                         | 0.016276    |</pre>"
      ],
      "text/plain": [
       "| 38      | 9m 28s       | 0.263834          | 0.0819652                         | 0.016276    |"
      ]
     },
     "metadata": {},
     "output_type": "display_data"
    },
    {
     "data": {
      "text/html": [
       "<pre>| 39      | 9m 42s       | 0.255168          | 0.0788602                         | 0.016276    |</pre>"
      ],
      "text/plain": [
       "| 39      | 9m 42s       | 0.255168          | 0.0788602                         | 0.016276    |"
      ]
     },
     "metadata": {},
     "output_type": "display_data"
    },
    {
     "data": {
      "text/html": [
       "<pre>| 40      | 9m 56s       | 0.247146          | 0.0760617                         | 0.016276    |</pre>"
      ],
      "text/plain": [
       "| 40      | 9m 56s       | 0.247146          | 0.0760617                         | 0.016276    |"
      ]
     },
     "metadata": {},
     "output_type": "display_data"
    },
    {
     "data": {
      "text/html": [
       "<pre>| 41      | 10m 10s      | 0.240156          | 0.0736381                         | 0.016276    |</pre>"
      ],
      "text/plain": [
       "| 41      | 10m 10s      | 0.240156          | 0.0736381                         | 0.016276    |"
      ]
     },
     "metadata": {},
     "output_type": "display_data"
    },
    {
     "data": {
      "text/html": [
       "<pre>| 42      | 10m 24s      | 0.23326           | 0.0714028                         | 0.016276    |</pre>"
      ],
      "text/plain": [
       "| 42      | 10m 24s      | 0.23326           | 0.0714028                         | 0.016276    |"
      ]
     },
     "metadata": {},
     "output_type": "display_data"
    },
    {
     "data": {
      "text/html": [
       "<pre>| 43      | 10m 39s      | 0.226495          | 0.069223                          | 0.016276    |</pre>"
      ],
      "text/plain": [
       "| 43      | 10m 39s      | 0.226495          | 0.069223                          | 0.016276    |"
      ]
     },
     "metadata": {},
     "output_type": "display_data"
    },
    {
     "data": {
      "text/html": [
       "<pre>| 44      | 10m 52s      | 0.22066           | 0.0672342                         | 0.016276    |</pre>"
      ],
      "text/plain": [
       "| 44      | 10m 52s      | 0.22066           | 0.0672342                         | 0.016276    |"
      ]
     },
     "metadata": {},
     "output_type": "display_data"
    },
    {
     "data": {
      "text/html": [
       "<pre>| 45      | 11m 6s       | 0.215521          | 0.0657907                         | 0.016276    |</pre>"
      ],
      "text/plain": [
       "| 45      | 11m 6s       | 0.215521          | 0.0657907                         | 0.016276    |"
      ]
     },
     "metadata": {},
     "output_type": "display_data"
    },
    {
     "data": {
      "text/html": [
       "<pre>| 46      | 11m 20s      | 0.208884          | 0.0638584                         | 0.016276    |</pre>"
      ],
      "text/plain": [
       "| 46      | 11m 20s      | 0.208884          | 0.0638584                         | 0.016276    |"
      ]
     },
     "metadata": {},
     "output_type": "display_data"
    },
    {
     "data": {
      "text/html": [
       "<pre>| 47      | 11m 35s      | 0.204204          | 0.0621872                         | 0.016276    |</pre>"
      ],
      "text/plain": [
       "| 47      | 11m 35s      | 0.204204          | 0.0621872                         | 0.016276    |"
      ]
     },
     "metadata": {},
     "output_type": "display_data"
    },
    {
     "data": {
      "text/html": [
       "<pre>| 48      | 11m 49s      | 0.198343          | 0.0601151                         | 0.016276    |</pre>"
      ],
      "text/plain": [
       "| 48      | 11m 49s      | 0.198343          | 0.0601151                         | 0.016276    |"
      ]
     },
     "metadata": {},
     "output_type": "display_data"
    },
    {
     "data": {
      "text/html": [
       "<pre>| 49      | 12m 4s       | 0.193267          | 0.0585162                         | 0.016276    |</pre>"
      ],
      "text/plain": [
       "| 49      | 12m 4s       | 0.193267          | 0.0585162                         | 0.016276    |"
      ]
     },
     "metadata": {},
     "output_type": "display_data"
    },
    {
     "data": {
      "text/html": [
       "<pre>| 50      | 12m 19s      | 0.18843           | 0.0571267                         | 0.016276    |</pre>"
      ],
      "text/plain": [
       "| 50      | 12m 19s      | 0.18843           | 0.0571267                         | 0.016276    |"
      ]
     },
     "metadata": {},
     "output_type": "display_data"
    },
    {
     "data": {
      "text/html": [
       "<pre>+---------+--------------+-------------------+-----------------------------------+-------------+</pre>"
      ],
      "text/plain": [
       "+---------+--------------+-------------------+-----------------------------------+-------------+"
      ]
     },
     "metadata": {},
     "output_type": "display_data"
    },
    {
     "data": {
      "text/html": [
       "<pre>Optimization Complete: Maximum number of passes through the data reached.</pre>"
      ],
      "text/plain": [
       "Optimization Complete: Maximum number of passes through the data reached."
      ]
     },
     "metadata": {},
     "output_type": "display_data"
    },
    {
     "data": {
      "text/html": [
       "<pre>Computing final objective value and training Predictive Error.</pre>"
      ],
      "text/plain": [
       "Computing final objective value and training Predictive Error."
      ]
     },
     "metadata": {},
     "output_type": "display_data"
    },
    {
     "data": {
      "text/html": [
       "<pre>       Final objective value: 0.183146</pre>"
      ],
      "text/plain": [
       "       Final objective value: 0.183146"
      ]
     },
     "metadata": {},
     "output_type": "display_data"
    },
    {
     "data": {
      "text/html": [
       "<pre>       Final training Predictive Error: 0.0528147</pre>"
      ],
      "text/plain": [
       "       Final training Predictive Error: 0.0528147"
      ]
     },
     "metadata": {},
     "output_type": "display_data"
    }
   ],
   "source": [
    "model_fr = gl.ranking_factorization_recommender.create(\n",
    "    gl.SFrame(training_filtered), \n",
    "    user_id = 'chb',\n",
    "    item_id = 'sys_numb',\n",
    "#    user_data = gl.SFrame(users[['chb','age','gender']]),\n",
    "    item_data = gl.SFrame(items),\n",
    "    **train_setting)"
   ]
  },
  {
   "cell_type": "code",
   "execution_count": 28,
   "metadata": {},
   "outputs": [],
   "source": [
    "#prec_rec_data = model_fr.evaluate_precision_recall(validation_data)"
   ]
  },
  {
   "cell_type": "code",
   "execution_count": 29,
   "metadata": {},
   "outputs": [
    {
     "data": {
      "text/html": [
       "<pre>recommendations finished on 1000/16753 queries. users per second: 9.36358</pre>"
      ],
      "text/plain": [
       "recommendations finished on 1000/16753 queries. users per second: 9.36358"
      ]
     },
     "metadata": {},
     "output_type": "display_data"
    },
    {
     "data": {
      "text/html": [
       "<pre>recommendations finished on 2000/16753 queries. users per second: 9.55137</pre>"
      ],
      "text/plain": [
       "recommendations finished on 2000/16753 queries. users per second: 9.55137"
      ]
     },
     "metadata": {},
     "output_type": "display_data"
    },
    {
     "data": {
      "text/html": [
       "<pre>recommendations finished on 3000/16753 queries. users per second: 9.61504</pre>"
      ],
      "text/plain": [
       "recommendations finished on 3000/16753 queries. users per second: 9.61504"
      ]
     },
     "metadata": {},
     "output_type": "display_data"
    },
    {
     "data": {
      "text/html": [
       "<pre>recommendations finished on 4000/16753 queries. users per second: 9.66774</pre>"
      ],
      "text/plain": [
       "recommendations finished on 4000/16753 queries. users per second: 9.66774"
      ]
     },
     "metadata": {},
     "output_type": "display_data"
    },
    {
     "data": {
      "text/html": [
       "<pre>recommendations finished on 5000/16753 queries. users per second: 9.69438</pre>"
      ],
      "text/plain": [
       "recommendations finished on 5000/16753 queries. users per second: 9.69438"
      ]
     },
     "metadata": {},
     "output_type": "display_data"
    },
    {
     "data": {
      "text/html": [
       "<pre>recommendations finished on 6000/16753 queries. users per second: 9.71296</pre>"
      ],
      "text/plain": [
       "recommendations finished on 6000/16753 queries. users per second: 9.71296"
      ]
     },
     "metadata": {},
     "output_type": "display_data"
    },
    {
     "data": {
      "text/html": [
       "<pre>recommendations finished on 7000/16753 queries. users per second: 9.73107</pre>"
      ],
      "text/plain": [
       "recommendations finished on 7000/16753 queries. users per second: 9.73107"
      ]
     },
     "metadata": {},
     "output_type": "display_data"
    },
    {
     "data": {
      "text/html": [
       "<pre>recommendations finished on 8000/16753 queries. users per second: 9.74436</pre>"
      ],
      "text/plain": [
       "recommendations finished on 8000/16753 queries. users per second: 9.74436"
      ]
     },
     "metadata": {},
     "output_type": "display_data"
    },
    {
     "data": {
      "text/html": [
       "<pre>recommendations finished on 9000/16753 queries. users per second: 9.74998</pre>"
      ],
      "text/plain": [
       "recommendations finished on 9000/16753 queries. users per second: 9.74998"
      ]
     },
     "metadata": {},
     "output_type": "display_data"
    },
    {
     "data": {
      "text/html": [
       "<pre>recommendations finished on 10000/16753 queries. users per second: 9.75658</pre>"
      ],
      "text/plain": [
       "recommendations finished on 10000/16753 queries. users per second: 9.75658"
      ]
     },
     "metadata": {},
     "output_type": "display_data"
    },
    {
     "data": {
      "text/html": [
       "<pre>recommendations finished on 11000/16753 queries. users per second: 9.71371</pre>"
      ],
      "text/plain": [
       "recommendations finished on 11000/16753 queries. users per second: 9.71371"
      ]
     },
     "metadata": {},
     "output_type": "display_data"
    },
    {
     "data": {
      "text/html": [
       "<pre>recommendations finished on 12000/16753 queries. users per second: 9.68948</pre>"
      ],
      "text/plain": [
       "recommendations finished on 12000/16753 queries. users per second: 9.68948"
      ]
     },
     "metadata": {},
     "output_type": "display_data"
    },
    {
     "data": {
      "text/html": [
       "<pre>recommendations finished on 13000/16753 queries. users per second: 9.69271</pre>"
      ],
      "text/plain": [
       "recommendations finished on 13000/16753 queries. users per second: 9.69271"
      ]
     },
     "metadata": {},
     "output_type": "display_data"
    },
    {
     "data": {
      "text/html": [
       "<pre>recommendations finished on 14000/16753 queries. users per second: 9.6909</pre>"
      ],
      "text/plain": [
       "recommendations finished on 14000/16753 queries. users per second: 9.6909"
      ]
     },
     "metadata": {},
     "output_type": "display_data"
    },
    {
     "data": {
      "text/html": [
       "<pre>recommendations finished on 15000/16753 queries. users per second: 9.69855</pre>"
      ],
      "text/plain": [
       "recommendations finished on 15000/16753 queries. users per second: 9.69855"
      ]
     },
     "metadata": {},
     "output_type": "display_data"
    },
    {
     "data": {
      "text/html": [
       "<pre>recommendations finished on 16000/16753 queries. users per second: 9.70668</pre>"
      ],
      "text/plain": [
       "recommendations finished on 16000/16753 queries. users per second: 9.70668"
      ]
     },
     "metadata": {},
     "output_type": "display_data"
    }
   ],
   "source": [
    "results = model_fr.recommend(k=20)"
   ]
  },
  {
   "cell_type": "code",
   "execution_count": 30,
   "metadata": {},
   "outputs": [],
   "source": [
    "solution = results.to_dataframe()\n",
    "solution = solution[['chb','sys_numb']]\n",
    "solution.to_csv(\"solution_f_x.csv\", index=False, sep=';')"
   ]
  },
  {
   "cell_type": "code",
   "execution_count": 31,
   "metadata": {},
   "outputs": [
    {
     "name": "stdout",
     "output_type": "stream",
     "text": [
      "Applying transform:\n",
      "Class             : AutoVectorizer\n",
      "\n",
      "Model Fields\n",
      "------------\n",
      "Features          : ['norm_title']\n",
      "Excluded Features : ['sys_numb']\n",
      "\n",
      "Column      Type  Interpretation  Transforms  Output Type\n",
      "----------  ----  --------------  ----------  -----------\n",
      "norm_title  list  categorical     Flatten     dict       \n",
      "\n",
      "\n"
     ]
    },
    {
     "data": {
      "text/html": [
       "<pre>Starting brute force nearest neighbors model training.</pre>"
      ],
      "text/plain": [
       "Starting brute force nearest neighbors model training."
      ]
     },
     "metadata": {},
     "output_type": "display_data"
    },
    {
     "data": {
      "text/html": [
       "<pre>Validating distance components.</pre>"
      ],
      "text/plain": [
       "Validating distance components."
      ]
     },
     "metadata": {},
     "output_type": "display_data"
    },
    {
     "data": {
      "text/html": [
       "<pre>Initializing model data.</pre>"
      ],
      "text/plain": [
       "Initializing model data."
      ]
     },
     "metadata": {},
     "output_type": "display_data"
    },
    {
     "data": {
      "text/html": [
       "<pre>Initializing distances.</pre>"
      ],
      "text/plain": [
       "Initializing distances."
      ]
     },
     "metadata": {},
     "output_type": "display_data"
    },
    {
     "data": {
      "text/html": [
       "<pre>Done.</pre>"
      ],
      "text/plain": [
       "Done."
      ]
     },
     "metadata": {},
     "output_type": "display_data"
    },
    {
     "data": {
      "text/html": [
       "<pre>Starting pairwise querying.</pre>"
      ],
      "text/plain": [
       "Starting pairwise querying."
      ]
     },
     "metadata": {},
     "output_type": "display_data"
    },
    {
     "data": {
      "text/html": [
       "<pre>+--------------+---------+-------------+--------------+</pre>"
      ],
      "text/plain": [
       "+--------------+---------+-------------+--------------+"
      ]
     },
     "metadata": {},
     "output_type": "display_data"
    },
    {
     "data": {
      "text/html": [
       "<pre>| Query points | # Pairs | % Complete. | Elapsed Time |</pre>"
      ],
      "text/plain": [
       "| Query points | # Pairs | % Complete. | Elapsed Time |"
      ]
     },
     "metadata": {},
     "output_type": "display_data"
    },
    {
     "data": {
      "text/html": [
       "<pre>+--------------+---------+-------------+--------------+</pre>"
      ],
      "text/plain": [
       "+--------------+---------+-------------+--------------+"
      ]
     },
     "metadata": {},
     "output_type": "display_data"
    },
    {
     "data": {
      "text/html": [
       "<pre>| 0            | 44294   | 3.52751e-05 | 20.833ms     |</pre>"
      ],
      "text/plain": [
       "| 0            | 44294   | 3.52751e-05 | 20.833ms     |"
      ]
     },
     "metadata": {},
     "output_type": "display_data"
    },
    {
     "data": {
      "text/html": [
       "<pre>| 657          | 2.3e+08 | 0.185547    | 3.02s        |</pre>"
      ],
      "text/plain": [
       "| 657          | 2.3e+08 | 0.185547    | 3.02s        |"
      ]
     },
     "metadata": {},
     "output_type": "display_data"
    },
    {
     "data": {
      "text/html": [
       "<pre>| 1233         | 4.4e+08 | 0.348235    | 6.02s        |</pre>"
      ],
      "text/plain": [
       "| 1233         | 4.4e+08 | 0.348235    | 6.02s        |"
      ]
     },
     "metadata": {},
     "output_type": "display_data"
    },
    {
     "data": {
      "text/html": [
       "<pre>| 1808         | 6.4e+08 | 0.510465    | 9.02s        |</pre>"
      ],
      "text/plain": [
       "| 1808         | 6.4e+08 | 0.510465    | 9.02s        |"
      ]
     },
     "metadata": {},
     "output_type": "display_data"
    },
    {
     "data": {
      "text/html": [
       "<pre>| 2388         | 8.5e+08 | 0.674177    | 12.02s       |</pre>"
      ],
      "text/plain": [
       "| 2388         | 8.5e+08 | 0.674177    | 12.02s       |"
      ]
     },
     "metadata": {},
     "output_type": "display_data"
    },
    {
     "data": {
      "text/html": [
       "<pre>| 2919         | 1e+09   | 0.824025    | 15.02s       |</pre>"
      ],
      "text/plain": [
       "| 2919         | 1e+09   | 0.824025    | 15.02s       |"
      ]
     },
     "metadata": {},
     "output_type": "display_data"
    },
    {
     "data": {
      "text/html": [
       "<pre>| 3469         | 1.2e+09 | 0.979059    | 18.02s       |</pre>"
      ],
      "text/plain": [
       "| 3469         | 1.2e+09 | 0.979059    | 18.02s       |"
      ]
     },
     "metadata": {},
     "output_type": "display_data"
    },
    {
     "data": {
      "text/html": [
       "<pre>| 4027         | 1.4e+09 | 1.13653     | 21.02s       |</pre>"
      ],
      "text/plain": [
       "| 4027         | 1.4e+09 | 1.13653     | 21.02s       |"
      ]
     },
     "metadata": {},
     "output_type": "display_data"
    },
    {
     "data": {
      "text/html": [
       "<pre>| 4600         | 1.6e+09 | 1.29816     | 24.02s       |</pre>"
      ],
      "text/plain": [
       "| 4600         | 1.6e+09 | 1.29816     | 24.02s       |"
      ]
     },
     "metadata": {},
     "output_type": "display_data"
    },
    {
     "data": {
      "text/html": [
       "<pre>| 5173         | 1.8e+09 | 1.45986     | 27.02s       |</pre>"
      ],
      "text/plain": [
       "| 5173         | 1.8e+09 | 1.45986     | 27.02s       |"
      ]
     },
     "metadata": {},
     "output_type": "display_data"
    },
    {
     "data": {
      "text/html": [
       "<pre>| 5747         | 2e+09   | 1.62202     | 30.03s       |</pre>"
      ],
      "text/plain": [
       "| 5747         | 2e+09   | 1.62202     | 30.03s       |"
      ]
     },
     "metadata": {},
     "output_type": "display_data"
    },
    {
     "data": {
      "text/html": [
       "<pre>| 6304         | 2.2e+09 | 1.77924     | 33.03s       |</pre>"
      ],
      "text/plain": [
       "| 6304         | 2.2e+09 | 1.77924     | 33.03s       |"
      ]
     },
     "metadata": {},
     "output_type": "display_data"
    },
    {
     "data": {
      "text/html": [
       "<pre>| 6854         | 2.4e+09 | 1.93427     | 36.02s       |</pre>"
      ],
      "text/plain": [
       "| 6854         | 2.4e+09 | 1.93427     | 36.02s       |"
      ]
     },
     "metadata": {},
     "output_type": "display_data"
    },
    {
     "data": {
      "text/html": [
       "<pre>| 7396         | 2.6e+09 | 2.08723     | 39.02s       |</pre>"
      ],
      "text/plain": [
       "| 7396         | 2.6e+09 | 2.08723     | 39.02s       |"
      ]
     },
     "metadata": {},
     "output_type": "display_data"
    },
    {
     "data": {
      "text/html": [
       "<pre>| 7963         | 2.8e+09 | 2.24744     | 42.02s       |</pre>"
      ],
      "text/plain": [
       "| 7963         | 2.8e+09 | 2.24744     | 42.02s       |"
      ]
     },
     "metadata": {},
     "output_type": "display_data"
    },
    {
     "data": {
      "text/html": [
       "<pre>| 8540         | 3e+09   | 2.41027     | 45.02s       |</pre>"
      ],
      "text/plain": [
       "| 8540         | 3e+09   | 2.41027     | 45.02s       |"
      ]
     },
     "metadata": {},
     "output_type": "display_data"
    },
    {
     "data": {
      "text/html": [
       "<pre>| 9109         | 3.2e+09 | 2.57085     | 48.03s       |</pre>"
      ],
      "text/plain": [
       "| 9109         | 3.2e+09 | 2.57085     | 48.03s       |"
      ]
     },
     "metadata": {},
     "output_type": "display_data"
    },
    {
     "data": {
      "text/html": [
       "<pre>| 9681         | 3.4e+09 | 2.73212     | 51.02s       |</pre>"
      ],
      "text/plain": [
       "| 9681         | 3.4e+09 | 2.73212     | 51.02s       |"
      ]
     },
     "metadata": {},
     "output_type": "display_data"
    },
    {
     "data": {
      "text/html": [
       "<pre>| 10251        | 3.6e+09 | 2.89308     | 54.02s       |</pre>"
      ],
      "text/plain": [
       "| 10251        | 3.6e+09 | 2.89308     | 54.02s       |"
      ]
     },
     "metadata": {},
     "output_type": "display_data"
    },
    {
     "data": {
      "text/html": [
       "<pre>| 10827        | 3.8e+09 | 3.0556      | 57.03s       |</pre>"
      ],
      "text/plain": [
       "| 10827        | 3.8e+09 | 3.0556      | 57.03s       |"
      ]
     },
     "metadata": {},
     "output_type": "display_data"
    },
    {
     "data": {
      "text/html": [
       "<pre>| 11361        | 4e+09   | 3.20633     | 1m 0s        |</pre>"
      ],
      "text/plain": [
       "| 11361        | 4e+09   | 3.20633     | 1m 0s        |"
      ]
     },
     "metadata": {},
     "output_type": "display_data"
    },
    {
     "data": {
      "text/html": [
       "<pre>| 11906        | 4.2e+09 | 3.36013     | 1m 3s        |</pre>"
      ],
      "text/plain": [
       "| 11906        | 4.2e+09 | 3.36013     | 1m 3s        |"
      ]
     },
     "metadata": {},
     "output_type": "display_data"
    },
    {
     "data": {
      "text/html": [
       "<pre>| 12476        | 4.4e+09 | 3.52102     | 1m 6s        |</pre>"
      ],
      "text/plain": [
       "| 12476        | 4.4e+09 | 3.52102     | 1m 6s        |"
      ]
     },
     "metadata": {},
     "output_type": "display_data"
    },
    {
     "data": {
      "text/html": [
       "<pre>| 13047        | 4.6e+09 | 3.68208     | 1m 9s        |</pre>"
      ],
      "text/plain": [
       "| 13047        | 4.6e+09 | 3.68208     | 1m 9s        |"
      ]
     },
     "metadata": {},
     "output_type": "display_data"
    },
    {
     "data": {
      "text/html": [
       "<pre>| 13617        | 4.8e+09 | 3.84297     | 1m 12s       |</pre>"
      ],
      "text/plain": [
       "| 13617        | 4.8e+09 | 3.84297     | 1m 12s       |"
      ]
     },
     "metadata": {},
     "output_type": "display_data"
    },
    {
     "data": {
      "text/html": [
       "<pre>| 14199        | 5e+09   | 4.00725     | 1m 15s       |</pre>"
      ],
      "text/plain": [
       "| 14199        | 5e+09   | 4.00725     | 1m 15s       |"
      ]
     },
     "metadata": {},
     "output_type": "display_data"
    },
    {
     "data": {
      "text/html": [
       "<pre>| 14772        | 5.2e+09 | 4.16888     | 1m 18s       |</pre>"
      ],
      "text/plain": [
       "| 14772        | 5.2e+09 | 4.16888     | 1m 18s       |"
      ]
     },
     "metadata": {},
     "output_type": "display_data"
    },
    {
     "data": {
      "text/html": [
       "<pre>| 15352        | 5.4e+09 | 4.33245     | 1m 21s       |</pre>"
      ],
      "text/plain": [
       "| 15352        | 5.4e+09 | 4.33245     | 1m 21s       |"
      ]
     },
     "metadata": {},
     "output_type": "display_data"
    },
    {
     "data": {
      "text/html": [
       "<pre>| 15931        | 5.6e+09 | 4.49602     | 1m 24s       |</pre>"
      ],
      "text/plain": [
       "| 15931        | 5.6e+09 | 4.49602     | 1m 24s       |"
      ]
     },
     "metadata": {},
     "output_type": "display_data"
    },
    {
     "data": {
      "text/html": [
       "<pre>| 16503        | 5.8e+09 | 4.65726     | 1m 27s       |</pre>"
      ],
      "text/plain": [
       "| 16503        | 5.8e+09 | 4.65726     | 1m 27s       |"
      ]
     },
     "metadata": {},
     "output_type": "display_data"
    },
    {
     "data": {
      "text/html": [
       "<pre>| 17071        | 6e+09   | 4.81762     | 1m 30s       |</pre>"
      ],
      "text/plain": [
       "| 17071        | 6e+09   | 4.81762     | 1m 30s       |"
      ]
     },
     "metadata": {},
     "output_type": "display_data"
    },
    {
     "data": {
      "text/html": [
       "<pre>| 17641        | 6.3e+09 | 4.97848     | 1m 33s       |</pre>"
      ],
      "text/plain": [
       "| 17641        | 6.3e+09 | 4.97848     | 1m 33s       |"
      ]
     },
     "metadata": {},
     "output_type": "display_data"
    },
    {
     "data": {
      "text/html": [
       "<pre>| 18211        | 6.5e+09 | 5.13944     | 1m 36s       |</pre>"
      ],
      "text/plain": [
       "| 18211        | 6.5e+09 | 5.13944     | 1m 36s       |"
      ]
     },
     "metadata": {},
     "output_type": "display_data"
    },
    {
     "data": {
      "text/html": [
       "<pre>| 18787        | 6.7e+09 | 5.30191     | 1m 39s       |</pre>"
      ],
      "text/plain": [
       "| 18787        | 6.7e+09 | 5.30191     | 1m 39s       |"
      ]
     },
     "metadata": {},
     "output_type": "display_data"
    },
    {
     "data": {
      "text/html": [
       "<pre>| 19357        | 6.9e+09 | 5.46266     | 1m 42s       |</pre>"
      ],
      "text/plain": [
       "| 19357        | 6.9e+09 | 5.46266     | 1m 42s       |"
      ]
     },
     "metadata": {},
     "output_type": "display_data"
    },
    {
     "data": {
      "text/html": [
       "<pre>| 19936        | 7.1e+09 | 5.62605     | 1m 45s       |</pre>"
      ],
      "text/plain": [
       "| 19936        | 7.1e+09 | 5.62605     | 1m 45s       |"
      ]
     },
     "metadata": {},
     "output_type": "display_data"
    },
    {
     "data": {
      "text/html": [
       "<pre>| 20501        | 7.3e+09 | 5.78553     | 1m 48s       |</pre>"
      ],
      "text/plain": [
       "| 20501        | 7.3e+09 | 5.78553     | 1m 48s       |"
      ]
     },
     "metadata": {},
     "output_type": "display_data"
    },
    {
     "data": {
      "text/html": [
       "<pre>| 21068        | 7.5e+09 | 5.94565     | 1m 51s       |</pre>"
      ],
      "text/plain": [
       "| 21068        | 7.5e+09 | 5.94565     | 1m 51s       |"
      ]
     },
     "metadata": {},
     "output_type": "display_data"
    },
    {
     "data": {
      "text/html": [
       "<pre>| 21641        | 7.7e+09 | 6.10728     | 1m 54s       |</pre>"
      ],
      "text/plain": [
       "| 21641        | 7.7e+09 | 6.10728     | 1m 54s       |"
      ]
     },
     "metadata": {},
     "output_type": "display_data"
    },
    {
     "data": {
      "text/html": [
       "<pre>| 22204        | 7.9e+09 | 6.26619     | 1m 57s       |</pre>"
      ],
      "text/plain": [
       "| 22204        | 7.9e+09 | 6.26619     | 1m 57s       |"
      ]
     },
     "metadata": {},
     "output_type": "display_data"
    },
    {
     "data": {
      "text/html": [
       "<pre>| 22774        | 8.1e+09 | 6.42708     | 2m 0s        |</pre>"
      ],
      "text/plain": [
       "| 22774        | 8.1e+09 | 6.42708     | 2m 0s        |"
      ]
     },
     "metadata": {},
     "output_type": "display_data"
    },
    {
     "data": {
      "text/html": [
       "<pre>| 23345        | 8.3e+09 | 6.58829     | 2m 3s        |</pre>"
      ],
      "text/plain": [
       "| 23345        | 8.3e+09 | 6.58829     | 2m 3s        |"
      ]
     },
     "metadata": {},
     "output_type": "display_data"
    },
    {
     "data": {
      "text/html": [
       "<pre>| 23915        | 8.5e+09 | 6.74897     | 2m 6s        |</pre>"
      ],
      "text/plain": [
       "| 23915        | 8.5e+09 | 6.74897     | 2m 6s        |"
      ]
     },
     "metadata": {},
     "output_type": "display_data"
    },
    {
     "data": {
      "text/html": [
       "<pre>| 24492        | 8.7e+09 | 6.9118      | 2m 9s        |</pre>"
      ],
      "text/plain": [
       "| 24492        | 8.7e+09 | 6.9118      | 2m 9s        |"
      ]
     },
     "metadata": {},
     "output_type": "display_data"
    },
    {
     "data": {
      "text/html": [
       "<pre>| 25057        | 8.9e+09 | 7.07131     | 2m 12s       |</pre>"
      ],
      "text/plain": [
       "| 25057        | 8.9e+09 | 7.07131     | 2m 12s       |"
      ]
     },
     "metadata": {},
     "output_type": "display_data"
    },
    {
     "data": {
      "text/html": [
       "<pre>| 25621        | 9.1e+09 | 7.23054     | 2m 15s       |</pre>"
      ],
      "text/plain": [
       "| 25621        | 9.1e+09 | 7.23054     | 2m 15s       |"
      ]
     },
     "metadata": {},
     "output_type": "display_data"
    },
    {
     "data": {
      "text/html": [
       "<pre>| 26193        | 9.3e+09 | 7.39185     | 2m 18s       |</pre>"
      ],
      "text/plain": [
       "| 26193        | 9.3e+09 | 7.39185     | 2m 18s       |"
      ]
     },
     "metadata": {},
     "output_type": "display_data"
    },
    {
     "data": {
      "text/html": [
       "<pre>| 26763        | 9.5e+09 | 7.5526      | 2m 21s       |</pre>"
      ],
      "text/plain": [
       "| 26763        | 9.5e+09 | 7.5526      | 2m 21s       |"
      ]
     },
     "metadata": {},
     "output_type": "display_data"
    },
    {
     "data": {
      "text/html": [
       "<pre>| 27335        | 9.7e+09 | 7.71413     | 2m 24s       |</pre>"
      ],
      "text/plain": [
       "| 27335        | 9.7e+09 | 7.71413     | 2m 24s       |"
      ]
     },
     "metadata": {},
     "output_type": "display_data"
    },
    {
     "data": {
      "text/html": [
       "<pre>| 27903        | 9.9e+09 | 7.87452     | 2m 27s       |</pre>"
      ],
      "text/plain": [
       "| 27903        | 9.9e+09 | 7.87452     | 2m 27s       |"
      ]
     },
     "metadata": {},
     "output_type": "display_data"
    },
    {
     "data": {
      "text/html": [
       "<pre>| 28473        | 1e+10   | 8.03538     | 2m 30s       |</pre>"
      ],
      "text/plain": [
       "| 28473        | 1e+10   | 8.03538     | 2m 30s       |"
      ]
     },
     "metadata": {},
     "output_type": "display_data"
    },
    {
     "data": {
      "text/html": [
       "<pre>| 29046        | 1e+10   | 8.19711     | 2m 33s       |</pre>"
      ],
      "text/plain": [
       "| 29046        | 1e+10   | 8.19711     | 2m 33s       |"
      ]
     },
     "metadata": {},
     "output_type": "display_data"
    },
    {
     "data": {
      "text/html": [
       "<pre>| 29613        | 1e+10   | 8.35698     | 2m 36s       |</pre>"
      ],
      "text/plain": [
       "| 29613        | 1e+10   | 8.35698     | 2m 36s       |"
      ]
     },
     "metadata": {},
     "output_type": "display_data"
    },
    {
     "data": {
      "text/html": [
       "<pre>| 30178        | 1.1e+10 | 8.51642     | 2m 39s       |</pre>"
      ],
      "text/plain": [
       "| 30178        | 1.1e+10 | 8.51642     | 2m 39s       |"
      ]
     },
     "metadata": {},
     "output_type": "display_data"
    },
    {
     "data": {
      "text/html": [
       "<pre>| 30750        | 1.1e+10 | 8.67788     | 2m 42s       |</pre>"
      ],
      "text/plain": [
       "| 30750        | 1.1e+10 | 8.67788     | 2m 42s       |"
      ]
     },
     "metadata": {},
     "output_type": "display_data"
    },
    {
     "data": {
      "text/html": [
       "<pre>| 31327        | 1.1e+10 | 8.84078     | 2m 45s       |</pre>"
      ],
      "text/plain": [
       "| 31327        | 1.1e+10 | 8.84078     | 2m 45s       |"
      ]
     },
     "metadata": {},
     "output_type": "display_data"
    },
    {
     "data": {
      "text/html": [
       "<pre>| 31904        | 1.1e+10 | 9.00364     | 2m 48s       |</pre>"
      ],
      "text/plain": [
       "| 31904        | 1.1e+10 | 9.00364     | 2m 48s       |"
      ]
     },
     "metadata": {},
     "output_type": "display_data"
    },
    {
     "data": {
      "text/html": [
       "<pre>| 32480        | 1.2e+10 | 9.16622     | 2m 51s       |</pre>"
      ],
      "text/plain": [
       "| 32480        | 1.2e+10 | 9.16622     | 2m 51s       |"
      ]
     },
     "metadata": {},
     "output_type": "display_data"
    },
    {
     "data": {
      "text/html": [
       "<pre>| 33048        | 1.2e+10 | 9.3263      | 2m 54s       |</pre>"
      ],
      "text/plain": [
       "| 33048        | 1.2e+10 | 9.3263      | 2m 54s       |"
      ]
     },
     "metadata": {},
     "output_type": "display_data"
    },
    {
     "data": {
      "text/html": [
       "<pre>| 33615        | 1.2e+10 | 9.48642     | 2m 57s       |</pre>"
      ],
      "text/plain": [
       "| 33615        | 1.2e+10 | 9.48642     | 2m 57s       |"
      ]
     },
     "metadata": {},
     "output_type": "display_data"
    },
    {
     "data": {
      "text/html": [
       "<pre>| 34183        | 1.2e+10 | 9.64664     | 3m 0s        |</pre>"
      ],
      "text/plain": [
       "| 34183        | 1.2e+10 | 9.64664     | 3m 0s        |"
      ]
     },
     "metadata": {},
     "output_type": "display_data"
    },
    {
     "data": {
      "text/html": [
       "<pre>| 34734        | 1.2e+10 | 9.8023      | 3m 3s        |</pre>"
      ],
      "text/plain": [
       "| 34734        | 1.2e+10 | 9.8023      | 3m 3s        |"
      ]
     },
     "metadata": {},
     "output_type": "display_data"
    },
    {
     "data": {
      "text/html": [
       "<pre>| 35308        | 1.3e+10 | 9.96422     | 3m 6s        |</pre>"
      ],
      "text/plain": [
       "| 35308        | 1.3e+10 | 9.96422     | 3m 6s        |"
      ]
     },
     "metadata": {},
     "output_type": "display_data"
    },
    {
     "data": {
      "text/html": [
       "<pre>| 35880        | 1.3e+10 | 10.1256     | 3m 9s        |</pre>"
      ],
      "text/plain": [
       "| 35880        | 1.3e+10 | 10.1256     | 3m 9s        |"
      ]
     },
     "metadata": {},
     "output_type": "display_data"
    },
    {
     "data": {
      "text/html": [
       "<pre>| 36455        | 1.3e+10 | 10.288      | 3m 12s       |</pre>"
      ],
      "text/plain": [
       "| 36455        | 1.3e+10 | 10.288      | 3m 12s       |"
      ]
     },
     "metadata": {},
     "output_type": "display_data"
    },
    {
     "data": {
      "text/html": [
       "<pre>| 37030        | 1.3e+10 | 10.4501     | 3m 15s       |</pre>"
      ],
      "text/plain": [
       "| 37030        | 1.3e+10 | 10.4501     | 3m 15s       |"
      ]
     },
     "metadata": {},
     "output_type": "display_data"
    },
    {
     "data": {
      "text/html": [
       "<pre>| 37600        | 1.3e+10 | 10.6111     | 3m 18s       |</pre>"
      ],
      "text/plain": [
       "| 37600        | 1.3e+10 | 10.6111     | 3m 18s       |"
      ]
     },
     "metadata": {},
     "output_type": "display_data"
    },
    {
     "data": {
      "text/html": [
       "<pre>| 38169        | 1.4e+10 | 10.7715     | 3m 21s       |</pre>"
      ],
      "text/plain": [
       "| 38169        | 1.4e+10 | 10.7715     | 3m 21s       |"
      ]
     },
     "metadata": {},
     "output_type": "display_data"
    },
    {
     "data": {
      "text/html": [
       "<pre>| 38743        | 1.4e+10 | 10.9334     | 3m 24s       |</pre>"
      ],
      "text/plain": [
       "| 38743        | 1.4e+10 | 10.9334     | 3m 24s       |"
      ]
     },
     "metadata": {},
     "output_type": "display_data"
    },
    {
     "data": {
      "text/html": [
       "<pre>| 39316        | 1.4e+10 | 11.0953     | 3m 27s       |</pre>"
      ],
      "text/plain": [
       "| 39316        | 1.4e+10 | 11.0953     | 3m 27s       |"
      ]
     },
     "metadata": {},
     "output_type": "display_data"
    },
    {
     "data": {
      "text/html": [
       "<pre>| 39886        | 1.4e+10 | 11.2561     | 3m 30s       |</pre>"
      ],
      "text/plain": [
       "| 39886        | 1.4e+10 | 11.2561     | 3m 30s       |"
      ]
     },
     "metadata": {},
     "output_type": "display_data"
    },
    {
     "data": {
      "text/html": [
       "<pre>| 40459        | 1.4e+10 | 11.4177     | 3m 33s       |</pre>"
      ],
      "text/plain": [
       "| 40459        | 1.4e+10 | 11.4177     | 3m 33s       |"
      ]
     },
     "metadata": {},
     "output_type": "display_data"
    },
    {
     "data": {
      "text/html": [
       "<pre>| 41023        | 1.5e+10 | 11.5769     | 3m 36s       |</pre>"
      ],
      "text/plain": [
       "| 41023        | 1.5e+10 | 11.5769     | 3m 36s       |"
      ]
     },
     "metadata": {},
     "output_type": "display_data"
    },
    {
     "data": {
      "text/html": [
       "<pre>| 41596        | 1.5e+10 | 11.7386     | 3m 39s       |</pre>"
      ],
      "text/plain": [
       "| 41596        | 1.5e+10 | 11.7386     | 3m 39s       |"
      ]
     },
     "metadata": {},
     "output_type": "display_data"
    },
    {
     "data": {
      "text/html": [
       "<pre>| 42169        | 1.5e+10 | 11.9005     | 3m 42s       |</pre>"
      ],
      "text/plain": [
       "| 42169        | 1.5e+10 | 11.9005     | 3m 42s       |"
      ]
     },
     "metadata": {},
     "output_type": "display_data"
    },
    {
     "data": {
      "text/html": [
       "<pre>| 42743        | 1.5e+10 | 12.0624     | 3m 45s       |</pre>"
      ],
      "text/plain": [
       "| 42743        | 1.5e+10 | 12.0624     | 3m 45s       |"
      ]
     },
     "metadata": {},
     "output_type": "display_data"
    },
    {
     "data": {
      "text/html": [
       "<pre>| 43316        | 1.5e+10 | 12.224      | 3m 48s       |</pre>"
      ],
      "text/plain": [
       "| 43316        | 1.5e+10 | 12.224      | 3m 48s       |"
      ]
     },
     "metadata": {},
     "output_type": "display_data"
    },
    {
     "data": {
      "text/html": [
       "<pre>| 43872        | 1.6e+10 | 12.3809     | 3m 51s       |</pre>"
      ],
      "text/plain": [
       "| 43872        | 1.6e+10 | 12.3809     | 3m 51s       |"
      ]
     },
     "metadata": {},
     "output_type": "display_data"
    },
    {
     "data": {
      "text/html": [
       "<pre>| 44310        | 1.6e+10 | 12.5044     | 3m 54s       |</pre>"
      ],
      "text/plain": [
       "| 44310        | 1.6e+10 | 12.5044     | 3m 54s       |"
      ]
     },
     "metadata": {},
     "output_type": "display_data"
    },
    {
     "data": {
      "text/html": [
       "<pre>| 44812        | 1.6e+10 | 12.6461     | 3m 57s       |</pre>"
      ],
      "text/plain": [
       "| 44812        | 1.6e+10 | 12.6461     | 3m 57s       |"
      ]
     },
     "metadata": {},
     "output_type": "display_data"
    },
    {
     "data": {
      "text/html": [
       "<pre>| 45331        | 1.6e+10 | 12.7927     | 4m 0s        |</pre>"
      ],
      "text/plain": [
       "| 45331        | 1.6e+10 | 12.7927     | 4m 0s        |"
      ]
     },
     "metadata": {},
     "output_type": "display_data"
    },
    {
     "data": {
      "text/html": [
       "<pre>| 45841        | 1.6e+10 | 12.9367     | 4m 3s        |</pre>"
      ],
      "text/plain": [
       "| 45841        | 1.6e+10 | 12.9367     | 4m 3s        |"
      ]
     },
     "metadata": {},
     "output_type": "display_data"
    },
    {
     "data": {
      "text/html": [
       "<pre>| 46372        | 1.6e+10 | 13.0865     | 4m 6s        |</pre>"
      ],
      "text/plain": [
       "| 46372        | 1.6e+10 | 13.0865     | 4m 6s        |"
      ]
     },
     "metadata": {},
     "output_type": "display_data"
    },
    {
     "data": {
      "text/html": [
       "<pre>| 46893        | 1.7e+10 | 13.2335     | 4m 9s        |</pre>"
      ],
      "text/plain": [
       "| 46893        | 1.7e+10 | 13.2335     | 4m 9s        |"
      ]
     },
     "metadata": {},
     "output_type": "display_data"
    },
    {
     "data": {
      "text/html": [
       "<pre>| 47397        | 1.7e+10 | 13.3756     | 4m 12s       |</pre>"
      ],
      "text/plain": [
       "| 47397        | 1.7e+10 | 13.3756     | 4m 12s       |"
      ]
     },
     "metadata": {},
     "output_type": "display_data"
    },
    {
     "data": {
      "text/html": [
       "<pre>| 47899        | 1.7e+10 | 13.5175     | 4m 15s       |</pre>"
      ],
      "text/plain": [
       "| 47899        | 1.7e+10 | 13.5175     | 4m 15s       |"
      ]
     },
     "metadata": {},
     "output_type": "display_data"
    },
    {
     "data": {
      "text/html": [
       "<pre>| 48406        | 1.7e+10 | 13.6603     | 4m 18s       |</pre>"
      ],
      "text/plain": [
       "| 48406        | 1.7e+10 | 13.6603     | 4m 18s       |"
      ]
     },
     "metadata": {},
     "output_type": "display_data"
    },
    {
     "data": {
      "text/html": [
       "<pre>| 48931        | 1.7e+10 | 13.8086     | 4m 21s       |</pre>"
      ],
      "text/plain": [
       "| 48931        | 1.7e+10 | 13.8086     | 4m 21s       |"
      ]
     },
     "metadata": {},
     "output_type": "display_data"
    },
    {
     "data": {
      "text/html": [
       "<pre>| 49455        | 1.8e+10 | 13.9564     | 4m 24s       |</pre>"
      ],
      "text/plain": [
       "| 49455        | 1.8e+10 | 13.9564     | 4m 24s       |"
      ]
     },
     "metadata": {},
     "output_type": "display_data"
    },
    {
     "data": {
      "text/html": [
       "<pre>| 49983        | 1.8e+10 | 14.1055     | 4m 27s       |</pre>"
      ],
      "text/plain": [
       "| 49983        | 1.8e+10 | 14.1055     | 4m 27s       |"
      ]
     },
     "metadata": {},
     "output_type": "display_data"
    },
    {
     "data": {
      "text/html": [
       "<pre>| 50515        | 1.8e+10 | 14.2556     | 4m 30s       |</pre>"
      ],
      "text/plain": [
       "| 50515        | 1.8e+10 | 14.2556     | 4m 30s       |"
      ]
     },
     "metadata": {},
     "output_type": "display_data"
    },
    {
     "data": {
      "text/html": [
       "<pre>| 51049        | 1.8e+10 | 14.4064     | 4m 33s       |</pre>"
      ],
      "text/plain": [
       "| 51049        | 1.8e+10 | 14.4064     | 4m 33s       |"
      ]
     },
     "metadata": {},
     "output_type": "display_data"
    },
    {
     "data": {
      "text/html": [
       "<pre>| 51551        | 1.8e+10 | 14.548      | 4m 36s       |</pre>"
      ],
      "text/plain": [
       "| 51551        | 1.8e+10 | 14.548      | 4m 36s       |"
      ]
     },
     "metadata": {},
     "output_type": "display_data"
    },
    {
     "data": {
      "text/html": [
       "<pre>| 52078        | 1.8e+10 | 14.6968     | 4m 39s       |</pre>"
      ],
      "text/plain": [
       "| 52078        | 1.8e+10 | 14.6968     | 4m 39s       |"
      ]
     },
     "metadata": {},
     "output_type": "display_data"
    },
    {
     "data": {
      "text/html": [
       "<pre>| 52600        | 1.9e+10 | 14.8439     | 4m 42s       |</pre>"
      ],
      "text/plain": [
       "| 52600        | 1.9e+10 | 14.8439     | 4m 42s       |"
      ]
     },
     "metadata": {},
     "output_type": "display_data"
    },
    {
     "data": {
      "text/html": [
       "<pre>| 53119        | 1.9e+10 | 14.9906     | 4m 45s       |</pre>"
      ],
      "text/plain": [
       "| 53119        | 1.9e+10 | 14.9906     | 4m 45s       |"
      ]
     },
     "metadata": {},
     "output_type": "display_data"
    },
    {
     "data": {
      "text/html": [
       "<pre>| 53643        | 1.9e+10 | 15.1384     | 4m 48s       |</pre>"
      ],
      "text/plain": [
       "| 53643        | 1.9e+10 | 15.1384     | 4m 48s       |"
      ]
     },
     "metadata": {},
     "output_type": "display_data"
    },
    {
     "data": {
      "text/html": [
       "<pre>| 54165        | 1.9e+10 | 15.2856     | 4m 51s       |</pre>"
      ],
      "text/plain": [
       "| 54165        | 1.9e+10 | 15.2856     | 4m 51s       |"
      ]
     },
     "metadata": {},
     "output_type": "display_data"
    },
    {
     "data": {
      "text/html": [
       "<pre>| 54693        | 1.9e+10 | 15.4346     | 4m 54s       |</pre>"
      ],
      "text/plain": [
       "| 54693        | 1.9e+10 | 15.4346     | 4m 54s       |"
      ]
     },
     "metadata": {},
     "output_type": "display_data"
    },
    {
     "data": {
      "text/html": [
       "<pre>| 55223        | 2e+10   | 15.5843     | 4m 57s       |</pre>"
      ],
      "text/plain": [
       "| 55223        | 2e+10   | 15.5843     | 4m 57s       |"
      ]
     },
     "metadata": {},
     "output_type": "display_data"
    },
    {
     "data": {
      "text/html": [
       "<pre>| 55750        | 2e+10   | 15.733      | 5m 0s        |</pre>"
      ],
      "text/plain": [
       "| 55750        | 2e+10   | 15.733      | 5m 0s        |"
      ]
     },
     "metadata": {},
     "output_type": "display_data"
    },
    {
     "data": {
      "text/html": [
       "<pre>| 56281        | 2e+10   | 15.8828     | 5m 3s        |</pre>"
      ],
      "text/plain": [
       "| 56281        | 2e+10   | 15.8828     | 5m 3s        |"
      ]
     },
     "metadata": {},
     "output_type": "display_data"
    },
    {
     "data": {
      "text/html": [
       "<pre>| 56811        | 2e+10   | 16.0323     | 5m 6s        |</pre>"
      ],
      "text/plain": [
       "| 56811        | 2e+10   | 16.0323     | 5m 6s        |"
      ]
     },
     "metadata": {},
     "output_type": "display_data"
    },
    {
     "data": {
      "text/html": [
       "<pre>| 57342        | 2e+10   | 16.1822     | 5m 9s        |</pre>"
      ],
      "text/plain": [
       "| 57342        | 2e+10   | 16.1822     | 5m 9s        |"
      ]
     },
     "metadata": {},
     "output_type": "display_data"
    },
    {
     "data": {
      "text/html": [
       "<pre>| 57869        | 2.1e+10 | 16.3308     | 5m 12s       |</pre>"
      ],
      "text/plain": [
       "| 57869        | 2.1e+10 | 16.3308     | 5m 12s       |"
      ]
     },
     "metadata": {},
     "output_type": "display_data"
    },
    {
     "data": {
      "text/html": [
       "<pre>| 58400        | 2.1e+10 | 16.4806     | 5m 15s       |</pre>"
      ],
      "text/plain": [
       "| 58400        | 2.1e+10 | 16.4806     | 5m 15s       |"
      ]
     },
     "metadata": {},
     "output_type": "display_data"
    },
    {
     "data": {
      "text/html": [
       "<pre>| 58934        | 2.1e+10 | 16.6314     | 5m 18s       |</pre>"
      ],
      "text/plain": [
       "| 58934        | 2.1e+10 | 16.6314     | 5m 18s       |"
      ]
     },
     "metadata": {},
     "output_type": "display_data"
    },
    {
     "data": {
      "text/html": [
       "<pre>| 59462        | 2.1e+10 | 16.7806     | 5m 21s       |</pre>"
      ],
      "text/plain": [
       "| 59462        | 2.1e+10 | 16.7806     | 5m 21s       |"
      ]
     },
     "metadata": {},
     "output_type": "display_data"
    },
    {
     "data": {
      "text/html": [
       "<pre>| 59998        | 2.1e+10 | 16.9319     | 5m 24s       |</pre>"
      ],
      "text/plain": [
       "| 59998        | 2.1e+10 | 16.9319     | 5m 24s       |"
      ]
     },
     "metadata": {},
     "output_type": "display_data"
    },
    {
     "data": {
      "text/html": [
       "<pre>| 60526        | 2.1e+10 | 17.0808     | 5m 27s       |</pre>"
      ],
      "text/plain": [
       "| 60526        | 2.1e+10 | 17.0808     | 5m 27s       |"
      ]
     },
     "metadata": {},
     "output_type": "display_data"
    },
    {
     "data": {
      "text/html": [
       "<pre>| 61051        | 2.2e+10 | 17.2288     | 5m 30s       |</pre>"
      ],
      "text/plain": [
       "| 61051        | 2.2e+10 | 17.2288     | 5m 30s       |"
      ]
     },
     "metadata": {},
     "output_type": "display_data"
    },
    {
     "data": {
      "text/html": [
       "<pre>| 61575        | 2.2e+10 | 17.3767     | 5m 33s       |</pre>"
      ],
      "text/plain": [
       "| 61575        | 2.2e+10 | 17.3767     | 5m 33s       |"
      ]
     },
     "metadata": {},
     "output_type": "display_data"
    },
    {
     "data": {
      "text/html": [
       "<pre>| 62097        |         | 17.5241     | 5m 36s       |</pre>"
      ],
      "text/plain": [
       "| 62097        |         | 17.5241     | 5m 36s       |"
      ]
     },
     "metadata": {},
     "output_type": "display_data"
    },
    {
     "data": {
      "text/html": [
       "<pre>| 62634        | 2.2e+10 | 17.6756     | 5m 39s       |</pre>"
      ],
      "text/plain": [
       "| 62634        | 2.2e+10 | 17.6756     | 5m 39s       |"
      ]
     },
     "metadata": {},
     "output_type": "display_data"
    },
    {
     "data": {
      "text/html": [
       "<pre>| 63161        | 2.2e+10 | 17.8245     | 5m 42s       |</pre>"
      ],
      "text/plain": [
       "| 63161        | 2.2e+10 | 17.8245     | 5m 42s       |"
      ]
     },
     "metadata": {},
     "output_type": "display_data"
    },
    {
     "data": {
      "text/html": [
       "<pre>| 63688        | 2.3e+10 | 17.9732     | 5m 45s       |</pre>"
      ],
      "text/plain": [
       "| 63688        | 2.3e+10 | 17.9732     | 5m 45s       |"
      ]
     },
     "metadata": {},
     "output_type": "display_data"
    },
    {
     "data": {
      "text/html": [
       "<pre>| 64221        | 2.3e+10 | 18.1235     | 5m 48s       |</pre>"
      ],
      "text/plain": [
       "| 64221        | 2.3e+10 | 18.1235     | 5m 48s       |"
      ]
     },
     "metadata": {},
     "output_type": "display_data"
    },
    {
     "data": {
      "text/html": [
       "<pre>| 64742        | 2.3e+10 | 18.2706     | 5m 51s       |</pre>"
      ],
      "text/plain": [
       "| 64742        | 2.3e+10 | 18.2706     | 5m 51s       |"
      ]
     },
     "metadata": {},
     "output_type": "display_data"
    },
    {
     "data": {
      "text/html": [
       "<pre>| 65268        | 2.3e+10 | 18.4191     | 5m 54s       |</pre>"
      ],
      "text/plain": [
       "| 65268        | 2.3e+10 | 18.4191     | 5m 54s       |"
      ]
     },
     "metadata": {},
     "output_type": "display_data"
    },
    {
     "data": {
      "text/html": [
       "<pre>| 65725        | 2.3e+10 | 18.5479     | 5m 57s       |</pre>"
      ],
      "text/plain": [
       "| 65725        | 2.3e+10 | 18.5479     | 5m 57s       |"
      ]
     },
     "metadata": {},
     "output_type": "display_data"
    },
    {
     "data": {
      "text/html": [
       "<pre>| 66233        | 2.3e+10 | 18.6913     | 6m 0s        |</pre>"
      ],
      "text/plain": [
       "| 66233        | 2.3e+10 | 18.6913     | 6m 0s        |"
      ]
     },
     "metadata": {},
     "output_type": "display_data"
    },
    {
     "data": {
      "text/html": [
       "<pre>| 66749        | 2.4e+10 | 18.8368     | 6m 3s        |</pre>"
      ],
      "text/plain": [
       "| 66749        | 2.4e+10 | 18.8368     | 6m 3s        |"
      ]
     },
     "metadata": {},
     "output_type": "display_data"
    },
    {
     "data": {
      "text/html": [
       "<pre>| 67229        | 2.4e+10 | 18.9723     | 6m 6s        |</pre>"
      ],
      "text/plain": [
       "| 67229        | 2.4e+10 | 18.9723     | 6m 6s        |"
      ]
     },
     "metadata": {},
     "output_type": "display_data"
    },
    {
     "data": {
      "text/html": [
       "<pre>| 67749        | 2.4e+10 | 19.119      | 6m 9s        |</pre>"
      ],
      "text/plain": [
       "| 67749        | 2.4e+10 | 19.119      | 6m 9s        |"
      ]
     },
     "metadata": {},
     "output_type": "display_data"
    },
    {
     "data": {
      "text/html": [
       "<pre>| 68271        | 2.4e+10 | 19.2665     | 6m 12s       |</pre>"
      ],
      "text/plain": [
       "| 68271        | 2.4e+10 | 19.2665     | 6m 12s       |"
      ]
     },
     "metadata": {},
     "output_type": "display_data"
    },
    {
     "data": {
      "text/html": [
       "<pre>| 68796        | 2.4e+10 | 19.4146     | 6m 15s       |</pre>"
      ],
      "text/plain": [
       "| 68796        | 2.4e+10 | 19.4146     | 6m 15s       |"
      ]
     },
     "metadata": {},
     "output_type": "display_data"
    },
    {
     "data": {
      "text/html": [
       "<pre>| 69324        | 2.5e+10 | 19.5636     | 6m 18s       |</pre>"
      ],
      "text/plain": [
       "| 69324        | 2.5e+10 | 19.5636     | 6m 18s       |"
      ]
     },
     "metadata": {},
     "output_type": "display_data"
    },
    {
     "data": {
      "text/html": [
       "<pre>| 69845        | 2.5e+10 | 19.7105     | 6m 21s       |</pre>"
      ],
      "text/plain": [
       "| 69845        | 2.5e+10 | 19.7105     | 6m 21s       |"
      ]
     },
     "metadata": {},
     "output_type": "display_data"
    },
    {
     "data": {
      "text/html": [
       "<pre>| 70369        | 2.5e+10 | 19.8583     | 6m 24s       |</pre>"
      ],
      "text/plain": [
       "| 70369        | 2.5e+10 | 19.8583     | 6m 24s       |"
      ]
     },
     "metadata": {},
     "output_type": "display_data"
    },
    {
     "data": {
      "text/html": [
       "<pre>| 70891        | 2.5e+10 | 20.0057     | 6m 27s       |</pre>"
      ],
      "text/plain": [
       "| 70891        | 2.5e+10 | 20.0057     | 6m 27s       |"
      ]
     },
     "metadata": {},
     "output_type": "display_data"
    },
    {
     "data": {
      "text/html": [
       "<pre>| 71412        | 2.5e+10 | 20.1528     | 6m 30s       |</pre>"
      ],
      "text/plain": [
       "| 71412        | 2.5e+10 | 20.1528     | 6m 30s       |"
      ]
     },
     "metadata": {},
     "output_type": "display_data"
    },
    {
     "data": {
      "text/html": [
       "<pre>| 71935        | 2.5e+10 | 20.3003     | 6m 33s       |</pre>"
      ],
      "text/plain": [
       "| 71935        | 2.5e+10 | 20.3003     | 6m 33s       |"
      ]
     },
     "metadata": {},
     "output_type": "display_data"
    },
    {
     "data": {
      "text/html": [
       "<pre>| 72451        | 2.6e+10 | 20.4461     | 6m 36s       |</pre>"
      ],
      "text/plain": [
       "| 72451        | 2.6e+10 | 20.4461     | 6m 36s       |"
      ]
     },
     "metadata": {},
     "output_type": "display_data"
    },
    {
     "data": {
      "text/html": [
       "<pre>| 72971        | 2.6e+10 | 20.5929     | 6m 39s       |</pre>"
      ],
      "text/plain": [
       "| 72971        | 2.6e+10 | 20.5929     | 6m 39s       |"
      ]
     },
     "metadata": {},
     "output_type": "display_data"
    },
    {
     "data": {
      "text/html": [
       "<pre>| 73500        | 2.6e+10 | 20.7421     | 6m 42s       |</pre>"
      ],
      "text/plain": [
       "| 73500        | 2.6e+10 | 20.7421     | 6m 42s       |"
      ]
     },
     "metadata": {},
     "output_type": "display_data"
    },
    {
     "data": {
      "text/html": [
       "<pre>| 74024        | 2.6e+10 | 20.89       | 6m 45s       |</pre>"
      ],
      "text/plain": [
       "| 74024        | 2.6e+10 | 20.89       | 6m 45s       |"
      ]
     },
     "metadata": {},
     "output_type": "display_data"
    },
    {
     "data": {
      "text/html": [
       "<pre>| 74548        | 2.6e+10 | 21.0378     | 6m 48s       |</pre>"
      ],
      "text/plain": [
       "| 74548        | 2.6e+10 | 21.0378     | 6m 48s       |"
      ]
     },
     "metadata": {},
     "output_type": "display_data"
    },
    {
     "data": {
      "text/html": [
       "<pre>| 75075        | 2.7e+10 | 21.1865     | 6m 51s       |</pre>"
      ],
      "text/plain": [
       "| 75075        | 2.7e+10 | 21.1865     | 6m 51s       |"
      ]
     },
     "metadata": {},
     "output_type": "display_data"
    },
    {
     "data": {
      "text/html": [
       "<pre>| 75601        | 2.7e+10 | 21.3351     | 6m 54s       |</pre>"
      ],
      "text/plain": [
       "| 75601        | 2.7e+10 | 21.3351     | 6m 54s       |"
      ]
     },
     "metadata": {},
     "output_type": "display_data"
    },
    {
     "data": {
      "text/html": [
       "<pre>| 76132        | 2.7e+10 | 21.4848     | 6m 57s       |</pre>"
      ],
      "text/plain": [
       "| 76132        | 2.7e+10 | 21.4848     | 6m 57s       |"
      ]
     },
     "metadata": {},
     "output_type": "display_data"
    },
    {
     "data": {
      "text/html": [
       "<pre>| 76658        | 2.7e+10 | 21.6332     | 7m 0s        |</pre>"
      ],
      "text/plain": [
       "| 76658        | 2.7e+10 | 21.6332     | 7m 0s        |"
      ]
     },
     "metadata": {},
     "output_type": "display_data"
    },
    {
     "data": {
      "text/html": [
       "<pre>| 77183        | 2.7e+10 | 21.7813     | 7m 3s        |</pre>"
      ],
      "text/plain": [
       "| 77183        | 2.7e+10 | 21.7813     | 7m 3s        |"
      ]
     },
     "metadata": {},
     "output_type": "display_data"
    },
    {
     "data": {
      "text/html": [
       "<pre>| 77703        | 2.8e+10 | 21.9281     | 7m 6s        |</pre>"
      ],
      "text/plain": [
       "| 77703        | 2.8e+10 | 21.9281     | 7m 6s        |"
      ]
     },
     "metadata": {},
     "output_type": "display_data"
    },
    {
     "data": {
      "text/html": [
       "<pre>| 78222        | 2.8e+10 | 22.0746     | 7m 9s        |</pre>"
      ],
      "text/plain": [
       "| 78222        | 2.8e+10 | 22.0746     | 7m 9s        |"
      ]
     },
     "metadata": {},
     "output_type": "display_data"
    },
    {
     "data": {
      "text/html": [
       "<pre>| 78747        | 2.8e+10 | 22.2229     | 7m 12s       |</pre>"
      ],
      "text/plain": [
       "| 78747        | 2.8e+10 | 22.2229     | 7m 12s       |"
      ]
     },
     "metadata": {},
     "output_type": "display_data"
    },
    {
     "data": {
      "text/html": [
       "<pre>| 79275        | 2.8e+10 | 22.3717     | 7m 15s       |</pre>"
      ],
      "text/plain": [
       "| 79275        | 2.8e+10 | 22.3717     | 7m 15s       |"
      ]
     },
     "metadata": {},
     "output_type": "display_data"
    },
    {
     "data": {
      "text/html": [
       "<pre>| 79801        | 2.8e+10 | 22.5201     | 7m 18s       |</pre>"
      ],
      "text/plain": [
       "| 79801        | 2.8e+10 | 22.5201     | 7m 18s       |"
      ]
     },
     "metadata": {},
     "output_type": "display_data"
    },
    {
     "data": {
      "text/html": [
       "<pre>| 80330        | 2.8e+10 | 22.6696     | 7m 21s       |</pre>"
      ],
      "text/plain": [
       "| 80330        | 2.8e+10 | 22.6696     | 7m 21s       |"
      ]
     },
     "metadata": {},
     "output_type": "display_data"
    },
    {
     "data": {
      "text/html": [
       "<pre>| 80860        | 2.9e+10 | 22.8189     | 7m 24s       |</pre>"
      ],
      "text/plain": [
       "| 80860        | 2.9e+10 | 22.8189     | 7m 24s       |"
      ]
     },
     "metadata": {},
     "output_type": "display_data"
    },
    {
     "data": {
      "text/html": [
       "<pre>| 81385        | 2.9e+10 | 22.9673     | 7m 27s       |</pre>"
      ],
      "text/plain": [
       "| 81385        | 2.9e+10 | 22.9673     | 7m 27s       |"
      ]
     },
     "metadata": {},
     "output_type": "display_data"
    },
    {
     "data": {
      "text/html": [
       "<pre>| 81913        | 2.9e+10 | 23.1161     | 7m 30s       |</pre>"
      ],
      "text/plain": [
       "| 81913        | 2.9e+10 | 23.1161     | 7m 30s       |"
      ]
     },
     "metadata": {},
     "output_type": "display_data"
    },
    {
     "data": {
      "text/html": [
       "<pre>| 82432        | 2.9e+10 | 23.2627     | 7m 33s       |</pre>"
      ],
      "text/plain": [
       "| 82432        | 2.9e+10 | 23.2627     | 7m 33s       |"
      ]
     },
     "metadata": {},
     "output_type": "display_data"
    },
    {
     "data": {
      "text/html": [
       "<pre>| 82952        | 2.9e+10 | 23.4095     | 7m 36s       |</pre>"
      ],
      "text/plain": [
       "| 82952        | 2.9e+10 | 23.4095     | 7m 36s       |"
      ]
     },
     "metadata": {},
     "output_type": "display_data"
    },
    {
     "data": {
      "text/html": [
       "<pre>| 83486        | 3e+10   | 23.5601     | 7m 39s       |</pre>"
      ],
      "text/plain": [
       "| 83486        | 3e+10   | 23.5601     | 7m 39s       |"
      ]
     },
     "metadata": {},
     "output_type": "display_data"
    },
    {
     "data": {
      "text/html": [
       "<pre>| 84012        | 3e+10   | 23.7085     | 7m 42s       |</pre>"
      ],
      "text/plain": [
       "| 84012        | 3e+10   | 23.7085     | 7m 42s       |"
      ]
     },
     "metadata": {},
     "output_type": "display_data"
    },
    {
     "data": {
      "text/html": [
       "<pre>| 84538        | 3e+10   | 23.8571     | 7m 45s       |</pre>"
      ],
      "text/plain": [
       "| 84538        | 3e+10   | 23.8571     | 7m 45s       |"
      ]
     },
     "metadata": {},
     "output_type": "display_data"
    },
    {
     "data": {
      "text/html": [
       "<pre>| 85062        | 3e+10   | 24.0048     | 7m 48s       |</pre>"
      ],
      "text/plain": [
       "| 85062        | 3e+10   | 24.0048     | 7m 48s       |"
      ]
     },
     "metadata": {},
     "output_type": "display_data"
    },
    {
     "data": {
      "text/html": [
       "<pre>| 85588        | 3e+10   | 24.1533     | 7m 51s       |</pre>"
      ],
      "text/plain": [
       "| 85588        | 3e+10   | 24.1533     | 7m 51s       |"
      ]
     },
     "metadata": {},
     "output_type": "display_data"
    },
    {
     "data": {
      "text/html": [
       "<pre>| 86115        | 3.1e+10 | 24.3019     | 7m 54s       |</pre>"
      ],
      "text/plain": [
       "| 86115        | 3.1e+10 | 24.3019     | 7m 54s       |"
      ]
     },
     "metadata": {},
     "output_type": "display_data"
    },
    {
     "data": {
      "text/html": [
       "<pre>| 86642        | 3.1e+10 | 24.4506     | 7m 57s       |</pre>"
      ],
      "text/plain": [
       "| 86642        | 3.1e+10 | 24.4506     | 7m 57s       |"
      ]
     },
     "metadata": {},
     "output_type": "display_data"
    },
    {
     "data": {
      "text/html": [
       "<pre>| 87166        | 3.1e+10 | 24.5985     | 8m 0s        |</pre>"
      ],
      "text/plain": [
       "| 87166        | 3.1e+10 | 24.5985     | 8m 0s        |"
      ]
     },
     "metadata": {},
     "output_type": "display_data"
    },
    {
     "data": {
      "text/html": [
       "<pre>| 87692        | 3.1e+10 | 24.7469     | 8m 3s        |</pre>"
      ],
      "text/plain": [
       "| 87692        | 3.1e+10 | 24.7469     | 8m 3s        |"
      ]
     },
     "metadata": {},
     "output_type": "display_data"
    },
    {
     "data": {
      "text/html": [
       "<pre>| 88230        | 3.1e+10 | 24.8989     | 8m 6s        |</pre>"
      ],
      "text/plain": [
       "| 88230        | 3.1e+10 | 24.8989     | 8m 6s        |"
      ]
     },
     "metadata": {},
     "output_type": "display_data"
    },
    {
     "data": {
      "text/html": [
       "<pre>| 88645        | 3.1e+10 | 25.0159     | 8m 9s        |</pre>"
      ],
      "text/plain": [
       "| 88645        | 3.1e+10 | 25.0159     | 8m 9s        |"
      ]
     },
     "metadata": {},
     "output_type": "display_data"
    },
    {
     "data": {
      "text/html": [
       "<pre>| 89196        | 3.2e+10 | 25.1715     | 8m 12s       |</pre>"
      ],
      "text/plain": [
       "| 89196        | 3.2e+10 | 25.1715     | 8m 12s       |"
      ]
     },
     "metadata": {},
     "output_type": "display_data"
    },
    {
     "data": {
      "text/html": [
       "<pre>| 89750        | 3.2e+10 | 25.3279     | 8m 15s       |</pre>"
      ],
      "text/plain": [
       "| 89750        | 3.2e+10 | 25.3279     | 8m 15s       |"
      ]
     },
     "metadata": {},
     "output_type": "display_data"
    },
    {
     "data": {
      "text/html": [
       "<pre>| 90304        |         | 25.4841     | 8m 18s       |</pre>"
      ],
      "text/plain": [
       "| 90304        |         | 25.4841     | 8m 18s       |"
      ]
     },
     "metadata": {},
     "output_type": "display_data"
    },
    {
     "data": {
      "text/html": [
       "<pre>| 90853        | 3.2e+10 | 25.6392     | 8m 21s       |</pre>"
      ],
      "text/plain": [
       "| 90853        | 3.2e+10 | 25.6392     | 8m 21s       |"
      ]
     },
     "metadata": {},
     "output_type": "display_data"
    },
    {
     "data": {
      "text/html": [
       "<pre>| 91401        | 3.2e+10 | 25.7936     | 8m 24s       |</pre>"
      ],
      "text/plain": [
       "| 91401        | 3.2e+10 | 25.7936     | 8m 24s       |"
      ]
     },
     "metadata": {},
     "output_type": "display_data"
    },
    {
     "data": {
      "text/html": [
       "<pre>| 91943        | 3.3e+10 | 25.9468     | 8m 27s       |</pre>"
      ],
      "text/plain": [
       "| 91943        | 3.3e+10 | 25.9468     | 8m 27s       |"
      ]
     },
     "metadata": {},
     "output_type": "display_data"
    },
    {
     "data": {
      "text/html": [
       "<pre>| 92491        | 3.3e+10 | 26.1015     | 8m 30s       |</pre>"
      ],
      "text/plain": [
       "| 92491        | 3.3e+10 | 26.1015     | 8m 30s       |"
      ]
     },
     "metadata": {},
     "output_type": "display_data"
    },
    {
     "data": {
      "text/html": [
       "<pre>| 93039        | 3.3e+10 | 26.2559     | 8m 33s       |</pre>"
      ],
      "text/plain": [
       "| 93039        | 3.3e+10 | 26.2559     | 8m 33s       |"
      ]
     },
     "metadata": {},
     "output_type": "display_data"
    },
    {
     "data": {
      "text/html": [
       "<pre>| 93579        | 3.3e+10 | 26.4085     | 8m 36s       |</pre>"
      ],
      "text/plain": [
       "| 93579        | 3.3e+10 | 26.4085     | 8m 36s       |"
      ]
     },
     "metadata": {},
     "output_type": "display_data"
    },
    {
     "data": {
      "text/html": [
       "<pre>| 94131        | 3.3e+10 | 26.5642     | 8m 39s       |</pre>"
      ],
      "text/plain": [
       "| 94131        | 3.3e+10 | 26.5642     | 8m 39s       |"
      ]
     },
     "metadata": {},
     "output_type": "display_data"
    },
    {
     "data": {
      "text/html": [
       "<pre>| 94682        | 3.4e+10 | 26.7196     | 8m 42s       |</pre>"
      ],
      "text/plain": [
       "| 94682        | 3.4e+10 | 26.7196     | 8m 42s       |"
      ]
     },
     "metadata": {},
     "output_type": "display_data"
    },
    {
     "data": {
      "text/html": [
       "<pre>| 95233        | 3.4e+10 | 26.8752     | 8m 45s       |</pre>"
      ],
      "text/plain": [
       "| 95233        | 3.4e+10 | 26.8752     | 8m 45s       |"
      ]
     },
     "metadata": {},
     "output_type": "display_data"
    },
    {
     "data": {
      "text/html": [
       "<pre>| 95756        | 3.4e+10 | 27.0228     | 8m 48s       |</pre>"
      ],
      "text/plain": [
       "| 95756        | 3.4e+10 | 27.0228     | 8m 48s       |"
      ]
     },
     "metadata": {},
     "output_type": "display_data"
    },
    {
     "data": {
      "text/html": [
       "<pre>| 96282        | 3.4e+10 | 27.1711     | 8m 51s       |</pre>"
      ],
      "text/plain": [
       "| 96282        | 3.4e+10 | 27.1711     | 8m 51s       |"
      ]
     },
     "metadata": {},
     "output_type": "display_data"
    },
    {
     "data": {
      "text/html": [
       "<pre>| 96810        | 3.4e+10 | 27.3203     | 8m 54s       |</pre>"
      ],
      "text/plain": [
       "| 96810        | 3.4e+10 | 27.3203     | 8m 54s       |"
      ]
     },
     "metadata": {},
     "output_type": "display_data"
    },
    {
     "data": {
      "text/html": [
       "<pre>| 97346        | 3.4e+10 | 27.4716     | 8m 57s       |</pre>"
      ],
      "text/plain": [
       "| 97346        | 3.4e+10 | 27.4716     | 8m 57s       |"
      ]
     },
     "metadata": {},
     "output_type": "display_data"
    },
    {
     "data": {
      "text/html": [
       "<pre>| 97873        | 3.5e+10 | 27.6201     | 9m 0s        |</pre>"
      ],
      "text/plain": [
       "| 97873        | 3.5e+10 | 27.6201     | 9m 0s        |"
      ]
     },
     "metadata": {},
     "output_type": "display_data"
    },
    {
     "data": {
      "text/html": [
       "<pre>| 98402        | 3.5e+10 | 27.7695     | 9m 3s        |</pre>"
      ],
      "text/plain": [
       "| 98402        | 3.5e+10 | 27.7695     | 9m 3s        |"
      ]
     },
     "metadata": {},
     "output_type": "display_data"
    },
    {
     "data": {
      "text/html": [
       "<pre>| 98894        | 3.5e+10 | 27.9082     | 9m 6s        |</pre>"
      ],
      "text/plain": [
       "| 98894        | 3.5e+10 | 27.9082     | 9m 6s        |"
      ]
     },
     "metadata": {},
     "output_type": "display_data"
    },
    {
     "data": {
      "text/html": [
       "<pre>| 99371        | 3.5e+10 | 28.0429     | 9m 9s        |</pre>"
      ],
      "text/plain": [
       "| 99371        | 3.5e+10 | 28.0429     | 9m 9s        |"
      ]
     },
     "metadata": {},
     "output_type": "display_data"
    },
    {
     "data": {
      "text/html": [
       "<pre>| 99896        | 3.5e+10 | 28.1912     | 9m 12s       |</pre>"
      ],
      "text/plain": [
       "| 99896        | 3.5e+10 | 28.1912     | 9m 12s       |"
      ]
     },
     "metadata": {},
     "output_type": "display_data"
    },
    {
     "data": {
      "text/html": [
       "<pre>| 100442       | 3.6e+10 | 28.3452     | 9m 15s       |</pre>"
      ],
      "text/plain": [
       "| 100442       | 3.6e+10 | 28.3452     | 9m 15s       |"
      ]
     },
     "metadata": {},
     "output_type": "display_data"
    },
    {
     "data": {
      "text/html": [
       "<pre>| 100991       | 3.6e+10 | 28.5        | 9m 18s       |</pre>"
      ],
      "text/plain": [
       "| 100991       | 3.6e+10 | 28.5        | 9m 18s       |"
      ]
     },
     "metadata": {},
     "output_type": "display_data"
    },
    {
     "data": {
      "text/html": [
       "<pre>| 101537       | 3.6e+10 | 28.6542     | 9m 21s       |</pre>"
      ],
      "text/plain": [
       "| 101537       | 3.6e+10 | 28.6542     | 9m 21s       |"
      ]
     },
     "metadata": {},
     "output_type": "display_data"
    },
    {
     "data": {
      "text/html": [
       "<pre>| 102085       | 3.6e+10 | 28.8088     | 9m 24s       |</pre>"
      ],
      "text/plain": [
       "| 102085       | 3.6e+10 | 28.8088     | 9m 24s       |"
      ]
     },
     "metadata": {},
     "output_type": "display_data"
    },
    {
     "data": {
      "text/html": [
       "<pre>| 102633       | 3.6e+10 | 28.9635     | 9m 27s       |</pre>"
      ],
      "text/plain": [
       "| 102633       | 3.6e+10 | 28.9635     | 9m 27s       |"
      ]
     },
     "metadata": {},
     "output_type": "display_data"
    },
    {
     "data": {
      "text/html": [
       "<pre>| 103186       | 3.7e+10 | 29.1195     | 9m 30s       |</pre>"
      ],
      "text/plain": [
       "| 103186       | 3.7e+10 | 29.1195     | 9m 30s       |"
      ]
     },
     "metadata": {},
     "output_type": "display_data"
    },
    {
     "data": {
      "text/html": [
       "<pre>| 103733       | 3.7e+10 | 29.2738     | 9m 33s       |</pre>"
      ],
      "text/plain": [
       "| 103733       | 3.7e+10 | 29.2738     | 9m 33s       |"
      ]
     },
     "metadata": {},
     "output_type": "display_data"
    },
    {
     "data": {
      "text/html": [
       "<pre>| 104284       | 3.7e+10 | 29.4294     | 9m 36s       |</pre>"
      ],
      "text/plain": [
       "| 104284       | 3.7e+10 | 29.4294     | 9m 36s       |"
      ]
     },
     "metadata": {},
     "output_type": "display_data"
    },
    {
     "data": {
      "text/html": [
       "<pre>| 104831       | 3.7e+10 | 29.5838     | 9m 39s       |</pre>"
      ],
      "text/plain": [
       "| 104831       | 3.7e+10 | 29.5838     | 9m 39s       |"
      ]
     },
     "metadata": {},
     "output_type": "display_data"
    },
    {
     "data": {
      "text/html": [
       "<pre>| 105382       | 3.7e+10 | 29.7392     | 9m 42s       |</pre>"
      ],
      "text/plain": [
       "| 105382       | 3.7e+10 | 29.7392     | 9m 42s       |"
      ]
     },
     "metadata": {},
     "output_type": "display_data"
    },
    {
     "data": {
      "text/html": [
       "<pre>| 105928       | 3.8e+10 | 29.8932     | 9m 45s       |</pre>"
      ],
      "text/plain": [
       "| 105928       | 3.8e+10 | 29.8932     | 9m 45s       |"
      ]
     },
     "metadata": {},
     "output_type": "display_data"
    },
    {
     "data": {
      "text/html": [
       "<pre>| 106476       | 3.8e+10 | 30.0478     | 9m 48s       |</pre>"
      ],
      "text/plain": [
       "| 106476       | 3.8e+10 | 30.0478     | 9m 48s       |"
      ]
     },
     "metadata": {},
     "output_type": "display_data"
    },
    {
     "data": {
      "text/html": [
       "<pre>| 107022       | 3.8e+10 | 30.2021     | 9m 51s       |</pre>"
      ],
      "text/plain": [
       "| 107022       | 3.8e+10 | 30.2021     | 9m 51s       |"
      ]
     },
     "metadata": {},
     "output_type": "display_data"
    },
    {
     "data": {
      "text/html": [
       "<pre>| 107573       | 3.8e+10 | 30.3576     | 9m 54s       |</pre>"
      ],
      "text/plain": [
       "| 107573       | 3.8e+10 | 30.3576     | 9m 54s       |"
      ]
     },
     "metadata": {},
     "output_type": "display_data"
    },
    {
     "data": {
      "text/html": [
       "<pre>| 108124       | 3.8e+10 | 30.5131     | 9m 57s       |</pre>"
      ],
      "text/plain": [
       "| 108124       | 3.8e+10 | 30.5131     | 9m 57s       |"
      ]
     },
     "metadata": {},
     "output_type": "display_data"
    },
    {
     "data": {
      "text/html": [
       "<pre>| 108671       | 3.9e+10 | 30.6673     | 10m 0s       |</pre>"
      ],
      "text/plain": [
       "| 108671       | 3.9e+10 | 30.6673     | 10m 0s       |"
      ]
     },
     "metadata": {},
     "output_type": "display_data"
    },
    {
     "data": {
      "text/html": [
       "<pre>| 109213       | 3.9e+10 | 30.8204     | 10m 3s       |</pre>"
      ],
      "text/plain": [
       "| 109213       | 3.9e+10 | 30.8204     | 10m 3s       |"
      ]
     },
     "metadata": {},
     "output_type": "display_data"
    },
    {
     "data": {
      "text/html": [
       "<pre>| 109756       | 3.9e+10 | 30.9735     | 10m 6s       |</pre>"
      ],
      "text/plain": [
       "| 109756       | 3.9e+10 | 30.9735     | 10m 6s       |"
      ]
     },
     "metadata": {},
     "output_type": "display_data"
    },
    {
     "data": {
      "text/html": [
       "<pre>| 110300       | 3.9e+10 | 31.1272     | 10m 9s       |</pre>"
      ],
      "text/plain": [
       "| 110300       | 3.9e+10 | 31.1272     | 10m 9s       |"
      ]
     },
     "metadata": {},
     "output_type": "display_data"
    },
    {
     "data": {
      "text/html": [
       "<pre>| 110843       | 3.9e+10 | 31.2802     | 10m 12s      |</pre>"
      ],
      "text/plain": [
       "| 110843       | 3.9e+10 | 31.2802     | 10m 12s      |"
      ]
     },
     "metadata": {},
     "output_type": "display_data"
    },
    {
     "data": {
      "text/html": [
       "<pre>| 111390       | 3.9e+10 | 31.4347     | 10m 15s      |</pre>"
      ],
      "text/plain": [
       "| 111390       | 3.9e+10 | 31.4347     | 10m 15s      |"
      ]
     },
     "metadata": {},
     "output_type": "display_data"
    },
    {
     "data": {
      "text/html": [
       "<pre>| 111936       | 4e+10   | 31.5888     | 10m 18s      |</pre>"
      ],
      "text/plain": [
       "| 111936       | 4e+10   | 31.5888     | 10m 18s      |"
      ]
     },
     "metadata": {},
     "output_type": "display_data"
    },
    {
     "data": {
      "text/html": [
       "<pre>| 112485       | 4e+10   | 31.7436     | 10m 21s      |</pre>"
      ],
      "text/plain": [
       "| 112485       | 4e+10   | 31.7436     | 10m 21s      |"
      ]
     },
     "metadata": {},
     "output_type": "display_data"
    },
    {
     "data": {
      "text/html": [
       "<pre>| 113028       | 4e+10   | 31.897      | 10m 24s      |</pre>"
      ],
      "text/plain": [
       "| 113028       | 4e+10   | 31.897      | 10m 24s      |"
      ]
     },
     "metadata": {},
     "output_type": "display_data"
    },
    {
     "data": {
      "text/html": [
       "<pre>| 113573       | 4e+10   | 32.0507     | 10m 27s      |</pre>"
      ],
      "text/plain": [
       "| 113573       | 4e+10   | 32.0507     | 10m 27s      |"
      ]
     },
     "metadata": {},
     "output_type": "display_data"
    },
    {
     "data": {
      "text/html": [
       "<pre>| 114117       | 4e+10   | 32.2042     | 10m 30s      |</pre>"
      ],
      "text/plain": [
       "| 114117       | 4e+10   | 32.2042     | 10m 30s      |"
      ]
     },
     "metadata": {},
     "output_type": "display_data"
    },
    {
     "data": {
      "text/html": [
       "<pre>| 114661       | 4.1e+10 | 32.3578     | 10m 33s      |</pre>"
      ],
      "text/plain": [
       "| 114661       | 4.1e+10 | 32.3578     | 10m 33s      |"
      ]
     },
     "metadata": {},
     "output_type": "display_data"
    },
    {
     "data": {
      "text/html": [
       "<pre>| 115203       | 4.1e+10 | 32.5109     | 10m 36s      |</pre>"
      ],
      "text/plain": [
       "| 115203       | 4.1e+10 | 32.5109     | 10m 36s      |"
      ]
     },
     "metadata": {},
     "output_type": "display_data"
    },
    {
     "data": {
      "text/html": [
       "<pre>| 115745       | 4.1e+10 | 32.6638     | 10m 39s      |</pre>"
      ],
      "text/plain": [
       "| 115745       | 4.1e+10 | 32.6638     | 10m 39s      |"
      ]
     },
     "metadata": {},
     "output_type": "display_data"
    },
    {
     "data": {
      "text/html": [
       "<pre>| 116294       | 4.1e+10 | 32.8185     | 10m 42s      |</pre>"
      ],
      "text/plain": [
       "| 116294       | 4.1e+10 | 32.8185     | 10m 42s      |"
      ]
     },
     "metadata": {},
     "output_type": "display_data"
    },
    {
     "data": {
      "text/html": [
       "<pre>| 116837       | 4.1e+10 | 32.9719     | 10m 45s      |</pre>"
      ],
      "text/plain": [
       "| 116837       | 4.1e+10 | 32.9719     | 10m 45s      |"
      ]
     },
     "metadata": {},
     "output_type": "display_data"
    },
    {
     "data": {
      "text/html": [
       "<pre>| 117381       | 4.2e+10 | 33.1254     | 10m 48s      |</pre>"
      ],
      "text/plain": [
       "| 117381       | 4.2e+10 | 33.1254     | 10m 48s      |"
      ]
     },
     "metadata": {},
     "output_type": "display_data"
    },
    {
     "data": {
      "text/html": [
       "<pre>| 117930       | 4.2e+10 | 33.2803     | 10m 51s      |</pre>"
      ],
      "text/plain": [
       "| 117930       | 4.2e+10 | 33.2803     | 10m 51s      |"
      ]
     },
     "metadata": {},
     "output_type": "display_data"
    },
    {
     "data": {
      "text/html": [
       "<pre>| 118476       | 4.2e+10 | 33.4344     | 10m 54s      |</pre>"
      ],
      "text/plain": [
       "| 118476       | 4.2e+10 | 33.4344     | 10m 54s      |"
      ]
     },
     "metadata": {},
     "output_type": "display_data"
    },
    {
     "data": {
      "text/html": [
       "<pre>| 119019       | 4.2e+10 | 33.5878     | 10m 57s      |</pre>"
      ],
      "text/plain": [
       "| 119019       | 4.2e+10 | 33.5878     | 10m 57s      |"
      ]
     },
     "metadata": {},
     "output_type": "display_data"
    },
    {
     "data": {
      "text/html": [
       "<pre>| 119566       | 4.2e+10 | 33.742      | 11m 0s       |</pre>"
      ],
      "text/plain": [
       "| 119566       | 4.2e+10 | 33.742      | 11m 0s       |"
      ]
     },
     "metadata": {},
     "output_type": "display_data"
    },
    {
     "data": {
      "text/html": [
       "<pre>| 120111       | 4.3e+10 | 33.8958     | 11m 3s       |</pre>"
      ],
      "text/plain": [
       "| 120111       | 4.3e+10 | 33.8958     | 11m 3s       |"
      ]
     },
     "metadata": {},
     "output_type": "display_data"
    },
    {
     "data": {
      "text/html": [
       "<pre>| 120662       | 4.3e+10 | 34.0513     | 11m 6s       |</pre>"
      ],
      "text/plain": [
       "| 120662       | 4.3e+10 | 34.0513     | 11m 6s       |"
      ]
     },
     "metadata": {},
     "output_type": "display_data"
    },
    {
     "data": {
      "text/html": [
       "<pre>| 121206       | 4.3e+10 | 34.2047     | 11m 9s       |</pre>"
      ],
      "text/plain": [
       "| 121206       | 4.3e+10 | 34.2047     | 11m 9s       |"
      ]
     },
     "metadata": {},
     "output_type": "display_data"
    },
    {
     "data": {
      "text/html": [
       "<pre>| 121748       | 4.3e+10 | 34.3578     | 11m 12s      |</pre>"
      ],
      "text/plain": [
       "| 121748       | 4.3e+10 | 34.3578     | 11m 12s      |"
      ]
     },
     "metadata": {},
     "output_type": "display_data"
    },
    {
     "data": {
      "text/html": [
       "<pre>| 122294       | 4.3e+10 | 34.512      | 11m 15s      |</pre>"
      ],
      "text/plain": [
       "| 122294       | 4.3e+10 | 34.512      | 11m 15s      |"
      ]
     },
     "metadata": {},
     "output_type": "display_data"
    },
    {
     "data": {
      "text/html": [
       "<pre>| 122841       | 4.4e+10 | 34.6661     | 11m 18s      |</pre>"
      ],
      "text/plain": [
       "| 122841       | 4.4e+10 | 34.6661     | 11m 18s      |"
      ]
     },
     "metadata": {},
     "output_type": "display_data"
    },
    {
     "data": {
      "text/html": [
       "<pre>| 123390       | 4.4e+10 | 34.8211     | 11m 21s      |</pre>"
      ],
      "text/plain": [
       "| 123390       | 4.4e+10 | 34.8211     | 11m 21s      |"
      ]
     },
     "metadata": {},
     "output_type": "display_data"
    },
    {
     "data": {
      "text/html": [
       "<pre>| 123933       | 4.4e+10 | 34.9744     | 11m 24s      |</pre>"
      ],
      "text/plain": [
       "| 123933       | 4.4e+10 | 34.9744     | 11m 24s      |"
      ]
     },
     "metadata": {},
     "output_type": "display_data"
    },
    {
     "data": {
      "text/html": [
       "<pre>| 124479       | 4.4e+10 | 35.1285     | 11m 27s      |</pre>"
      ],
      "text/plain": [
       "| 124479       | 4.4e+10 | 35.1285     | 11m 27s      |"
      ]
     },
     "metadata": {},
     "output_type": "display_data"
    },
    {
     "data": {
      "text/html": [
       "<pre>| 125026       | 4.4e+10 | 35.2828     | 11m 30s      |</pre>"
      ],
      "text/plain": [
       "| 125026       | 4.4e+10 | 35.2828     | 11m 30s      |"
      ]
     },
     "metadata": {},
     "output_type": "display_data"
    },
    {
     "data": {
      "text/html": [
       "<pre>| 125577       | 4.4e+10 | 35.4382     | 11m 33s      |</pre>"
      ],
      "text/plain": [
       "| 125577       | 4.4e+10 | 35.4382     | 11m 33s      |"
      ]
     },
     "metadata": {},
     "output_type": "display_data"
    },
    {
     "data": {
      "text/html": [
       "<pre>| 126123       | 4.5e+10 | 35.5925     | 11m 36s      |</pre>"
      ],
      "text/plain": [
       "| 126123       | 4.5e+10 | 35.5925     | 11m 36s      |"
      ]
     },
     "metadata": {},
     "output_type": "display_data"
    },
    {
     "data": {
      "text/html": [
       "<pre>| 126669       | 4.5e+10 | 35.7465     | 11m 39s      |</pre>"
      ],
      "text/plain": [
       "| 126669       | 4.5e+10 | 35.7465     | 11m 39s      |"
      ]
     },
     "metadata": {},
     "output_type": "display_data"
    },
    {
     "data": {
      "text/html": [
       "<pre>| 127217       | 4.5e+10 | 35.9013     | 11m 42s      |</pre>"
      ],
      "text/plain": [
       "| 127217       | 4.5e+10 | 35.9013     | 11m 42s      |"
      ]
     },
     "metadata": {},
     "output_type": "display_data"
    },
    {
     "data": {
      "text/html": [
       "<pre>| 127767       | 4.5e+10 | 36.0562     | 11m 45s      |</pre>"
      ],
      "text/plain": [
       "| 127767       | 4.5e+10 | 36.0562     | 11m 45s      |"
      ]
     },
     "metadata": {},
     "output_type": "display_data"
    },
    {
     "data": {
      "text/html": [
       "<pre>| 128315       | 4.5e+10 | 36.2111     | 11m 48s      |</pre>"
      ],
      "text/plain": [
       "| 128315       | 4.5e+10 | 36.2111     | 11m 48s      |"
      ]
     },
     "metadata": {},
     "output_type": "display_data"
    },
    {
     "data": {
      "text/html": [
       "<pre>| 128861       | 4.6e+10 | 36.365      | 11m 51s      |</pre>"
      ],
      "text/plain": [
       "| 128861       | 4.6e+10 | 36.365      | 11m 51s      |"
      ]
     },
     "metadata": {},
     "output_type": "display_data"
    },
    {
     "data": {
      "text/html": [
       "<pre>| 129409       | 4.6e+10 | 36.5198     | 11m 54s      |</pre>"
      ],
      "text/plain": [
       "| 129409       | 4.6e+10 | 36.5198     | 11m 54s      |"
      ]
     },
     "metadata": {},
     "output_type": "display_data"
    },
    {
     "data": {
      "text/html": [
       "<pre>| 129957       | 4.6e+10 | 36.6744     | 11m 57s      |</pre>"
      ],
      "text/plain": [
       "| 129957       | 4.6e+10 | 36.6744     | 11m 57s      |"
      ]
     },
     "metadata": {},
     "output_type": "display_data"
    },
    {
     "data": {
      "text/html": [
       "<pre>| 130496       | 4.6e+10 | 36.8266     | 12m 0s       |</pre>"
      ],
      "text/plain": [
       "| 130496       | 4.6e+10 | 36.8266     | 12m 0s       |"
      ]
     },
     "metadata": {},
     "output_type": "display_data"
    },
    {
     "data": {
      "text/html": [
       "<pre>| 131047       | 4.6e+10 | 36.9821     | 12m 3s       |</pre>"
      ],
      "text/plain": [
       "| 131047       | 4.6e+10 | 36.9821     | 12m 3s       |"
      ]
     },
     "metadata": {},
     "output_type": "display_data"
    },
    {
     "data": {
      "text/html": [
       "<pre>| 131578       | 4.7e+10 | 37.1318     | 12m 6s       |</pre>"
      ],
      "text/plain": [
       "| 131578       | 4.7e+10 | 37.1318     | 12m 6s       |"
      ]
     },
     "metadata": {},
     "output_type": "display_data"
    },
    {
     "data": {
      "text/html": [
       "<pre>| 132111       | 4.7e+10 | 37.2823     | 12m 9s       |</pre>"
      ],
      "text/plain": [
       "| 132111       | 4.7e+10 | 37.2823     | 12m 9s       |"
      ]
     },
     "metadata": {},
     "output_type": "display_data"
    },
    {
     "data": {
      "text/html": [
       "<pre>| 132660       | 4.7e+10 | 37.4372     | 12m 12s      |</pre>"
      ],
      "text/plain": [
       "| 132660       | 4.7e+10 | 37.4372     | 12m 12s      |"
      ]
     },
     "metadata": {},
     "output_type": "display_data"
    },
    {
     "data": {
      "text/html": [
       "<pre>| 133108       | 4.7e+10 | 37.5637     | 12m 15s      |</pre>"
      ],
      "text/plain": [
       "| 133108       | 4.7e+10 | 37.5637     | 12m 15s      |"
      ]
     },
     "metadata": {},
     "output_type": "display_data"
    },
    {
     "data": {
      "text/html": [
       "<pre>| 133658       | 4.7e+10 | 37.7189     | 12m 18s      |</pre>"
      ],
      "text/plain": [
       "| 133658       | 4.7e+10 | 37.7189     | 12m 18s      |"
      ]
     },
     "metadata": {},
     "output_type": "display_data"
    },
    {
     "data": {
      "text/html": [
       "<pre>| 134200       | 4.8e+10 | 37.8718     | 12m 21s      |</pre>"
      ],
      "text/plain": [
       "| 134200       | 4.8e+10 | 37.8718     | 12m 21s      |"
      ]
     },
     "metadata": {},
     "output_type": "display_data"
    },
    {
     "data": {
      "text/html": [
       "<pre>| 134739       | 4.8e+10 | 38.0239     | 12m 24s      |</pre>"
      ],
      "text/plain": [
       "| 134739       | 4.8e+10 | 38.0239     | 12m 24s      |"
      ]
     },
     "metadata": {},
     "output_type": "display_data"
    },
    {
     "data": {
      "text/html": [
       "<pre>| 135279       | 4.8e+10 | 38.1763     | 12m 27s      |</pre>"
      ],
      "text/plain": [
       "| 135279       | 4.8e+10 | 38.1763     | 12m 27s      |"
      ]
     },
     "metadata": {},
     "output_type": "display_data"
    },
    {
     "data": {
      "text/html": [
       "<pre>| 135817       | 4.8e+10 | 38.3282     | 12m 30s      |</pre>"
      ],
      "text/plain": [
       "| 135817       | 4.8e+10 | 38.3282     | 12m 30s      |"
      ]
     },
     "metadata": {},
     "output_type": "display_data"
    },
    {
     "data": {
      "text/html": [
       "<pre>| 136356       | 4.8e+10 | 38.4801     | 12m 33s      |</pre>"
      ],
      "text/plain": [
       "| 136356       | 4.8e+10 | 38.4801     | 12m 33s      |"
      ]
     },
     "metadata": {},
     "output_type": "display_data"
    },
    {
     "data": {
      "text/html": [
       "<pre>| 136889       | 4.9e+10 | 38.6305     | 12m 36s      |</pre>"
      ],
      "text/plain": [
       "| 136889       | 4.9e+10 | 38.6305     | 12m 36s      |"
      ]
     },
     "metadata": {},
     "output_type": "display_data"
    },
    {
     "data": {
      "text/html": [
       "<pre>| 137426       | 4.9e+10 | 38.7821     | 12m 39s      |</pre>"
      ],
      "text/plain": [
       "| 137426       | 4.9e+10 | 38.7821     | 12m 39s      |"
      ]
     },
     "metadata": {},
     "output_type": "display_data"
    },
    {
     "data": {
      "text/html": [
       "<pre>| 137967       | 4.9e+10 | 38.935      | 12m 42s      |</pre>"
      ],
      "text/plain": [
       "| 137967       | 4.9e+10 | 38.935      | 12m 42s      |"
      ]
     },
     "metadata": {},
     "output_type": "display_data"
    },
    {
     "data": {
      "text/html": [
       "<pre>| 138506       | 4.9e+10 | 39.0868     | 12m 45s      |</pre>"
      ],
      "text/plain": [
       "| 138506       | 4.9e+10 | 39.0868     | 12m 45s      |"
      ]
     },
     "metadata": {},
     "output_type": "display_data"
    },
    {
     "data": {
      "text/html": [
       "<pre>| 139039       | 4.9e+10 | 39.2374     | 12m 48s      |</pre>"
      ],
      "text/plain": [
       "| 139039       | 4.9e+10 | 39.2374     | 12m 48s      |"
      ]
     },
     "metadata": {},
     "output_type": "display_data"
    },
    {
     "data": {
      "text/html": [
       "<pre>| 139580       | 4.9e+10 | 39.39       | 12m 51s      |</pre>"
      ],
      "text/plain": [
       "| 139580       | 4.9e+10 | 39.39       | 12m 51s      |"
      ]
     },
     "metadata": {},
     "output_type": "display_data"
    },
    {
     "data": {
      "text/html": [
       "<pre>| 140115       | 5e+10   | 39.5409     | 12m 54s      |</pre>"
      ],
      "text/plain": [
       "| 140115       | 5e+10   | 39.5409     | 12m 54s      |"
      ]
     },
     "metadata": {},
     "output_type": "display_data"
    },
    {
     "data": {
      "text/html": [
       "<pre>| 140654       | 5e+10   | 39.6931     | 12m 57s      |</pre>"
      ],
      "text/plain": [
       "| 140654       | 5e+10   | 39.6931     | 12m 57s      |"
      ]
     },
     "metadata": {},
     "output_type": "display_data"
    },
    {
     "data": {
      "text/html": [
       "<pre>| 141187       | 5e+10   | 39.8435     | 13m 0s       |</pre>"
      ],
      "text/plain": [
       "| 141187       | 5e+10   | 39.8435     | 13m 0s       |"
      ]
     },
     "metadata": {},
     "output_type": "display_data"
    },
    {
     "data": {
      "text/html": [
       "<pre>| 141726       | 5e+10   | 39.9955     | 13m 3s       |</pre>"
      ],
      "text/plain": [
       "| 141726       | 5e+10   | 39.9955     | 13m 3s       |"
      ]
     },
     "metadata": {},
     "output_type": "display_data"
    },
    {
     "data": {
      "text/html": [
       "<pre>| 142262       | 5e+10   | 40.1468     | 13m 6s       |</pre>"
      ],
      "text/plain": [
       "| 142262       | 5e+10   | 40.1468     | 13m 6s       |"
      ]
     },
     "metadata": {},
     "output_type": "display_data"
    },
    {
     "data": {
      "text/html": [
       "<pre>| 142797       | 5.1e+10 | 40.298      | 13m 9s       |</pre>"
      ],
      "text/plain": [
       "| 142797       | 5.1e+10 | 40.298      | 13m 9s       |"
      ]
     },
     "metadata": {},
     "output_type": "display_data"
    },
    {
     "data": {
      "text/html": [
       "<pre>| 143330       | 5.1e+10 | 40.4484     | 13m 12s      |</pre>"
      ],
      "text/plain": [
       "| 143330       | 5.1e+10 | 40.4484     | 13m 12s      |"
      ]
     },
     "metadata": {},
     "output_type": "display_data"
    },
    {
     "data": {
      "text/html": [
       "<pre>| 143867       | 5.1e+10 | 40.5999     | 13m 15s      |</pre>"
      ],
      "text/plain": [
       "| 143867       | 5.1e+10 | 40.5999     | 13m 15s      |"
      ]
     },
     "metadata": {},
     "output_type": "display_data"
    },
    {
     "data": {
      "text/html": [
       "<pre>| 144404       | 5.1e+10 | 40.7513     | 13m 18s      |</pre>"
      ],
      "text/plain": [
       "| 144404       | 5.1e+10 | 40.7513     | 13m 18s      |"
      ]
     },
     "metadata": {},
     "output_type": "display_data"
    },
    {
     "data": {
      "text/html": [
       "<pre>| 144933       | 5.1e+10 | 40.9007     | 13m 21s      |</pre>"
      ],
      "text/plain": [
       "| 144933       | 5.1e+10 | 40.9007     | 13m 21s      |"
      ]
     },
     "metadata": {},
     "output_type": "display_data"
    },
    {
     "data": {
      "text/html": [
       "<pre>| 145469       | 5.2e+10 | 41.0519     | 13m 24s      |</pre>"
      ],
      "text/plain": [
       "| 145469       | 5.2e+10 | 41.0519     | 13m 24s      |"
      ]
     },
     "metadata": {},
     "output_type": "display_data"
    },
    {
     "data": {
      "text/html": [
       "<pre>| 146008       | 5.2e+10 | 41.2039     | 13m 27s      |</pre>"
      ],
      "text/plain": [
       "| 146008       | 5.2e+10 | 41.2039     | 13m 27s      |"
      ]
     },
     "metadata": {},
     "output_type": "display_data"
    },
    {
     "data": {
      "text/html": [
       "<pre>| 146545       | 5.2e+10 | 41.3554     | 13m 30s      |</pre>"
      ],
      "text/plain": [
       "| 146545       | 5.2e+10 | 41.3554     | 13m 30s      |"
      ]
     },
     "metadata": {},
     "output_type": "display_data"
    },
    {
     "data": {
      "text/html": [
       "<pre>| 147085       | 5.2e+10 | 41.5079     | 13m 33s      |</pre>"
      ],
      "text/plain": [
       "| 147085       | 5.2e+10 | 41.5079     | 13m 33s      |"
      ]
     },
     "metadata": {},
     "output_type": "display_data"
    },
    {
     "data": {
      "text/html": [
       "<pre>| 147625       | 5.2e+10 | 41.6603     | 13m 36s      |</pre>"
      ],
      "text/plain": [
       "| 147625       | 5.2e+10 | 41.6603     | 13m 36s      |"
      ]
     },
     "metadata": {},
     "output_type": "display_data"
    },
    {
     "data": {
      "text/html": [
       "<pre>| 148158       | 5.3e+10 | 41.8108     | 13m 39s      |</pre>"
      ],
      "text/plain": [
       "| 148158       | 5.3e+10 | 41.8108     | 13m 39s      |"
      ]
     },
     "metadata": {},
     "output_type": "display_data"
    },
    {
     "data": {
      "text/html": [
       "<pre>| 148700       | 5.3e+10 | 41.9637     | 13m 42s      |</pre>"
      ],
      "text/plain": [
       "| 148700       | 5.3e+10 | 41.9637     | 13m 42s      |"
      ]
     },
     "metadata": {},
     "output_type": "display_data"
    },
    {
     "data": {
      "text/html": [
       "<pre>| 149234       | 5.3e+10 | 42.1145     | 13m 45s      |</pre>"
      ],
      "text/plain": [
       "| 149234       | 5.3e+10 | 42.1145     | 13m 45s      |"
      ]
     },
     "metadata": {},
     "output_type": "display_data"
    },
    {
     "data": {
      "text/html": [
       "<pre>| 149770       | 5.3e+10 | 42.2657     | 13m 48s      |</pre>"
      ],
      "text/plain": [
       "| 149770       | 5.3e+10 | 42.2657     | 13m 48s      |"
      ]
     },
     "metadata": {},
     "output_type": "display_data"
    },
    {
     "data": {
      "text/html": [
       "<pre>| 150305       | 5.3e+10 | 42.4166     | 13m 51s      |</pre>"
      ],
      "text/plain": [
       "| 150305       | 5.3e+10 | 42.4166     | 13m 51s      |"
      ]
     },
     "metadata": {},
     "output_type": "display_data"
    },
    {
     "data": {
      "text/html": [
       "<pre>| 150847       | 5.3e+10 | 42.5696     | 13m 54s      |</pre>"
      ],
      "text/plain": [
       "| 150847       | 5.3e+10 | 42.5696     | 13m 54s      |"
      ]
     },
     "metadata": {},
     "output_type": "display_data"
    },
    {
     "data": {
      "text/html": [
       "<pre>| 151385       | 5.4e+10 | 42.7213     | 13m 57s      |</pre>"
      ],
      "text/plain": [
       "| 151385       | 5.4e+10 | 42.7213     | 13m 57s      |"
      ]
     },
     "metadata": {},
     "output_type": "display_data"
    },
    {
     "data": {
      "text/html": [
       "<pre>| 151922       | 5.4e+10 | 42.8729     | 14m 0s       |</pre>"
      ],
      "text/plain": [
       "| 151922       | 5.4e+10 | 42.8729     | 14m 0s       |"
      ]
     },
     "metadata": {},
     "output_type": "display_data"
    },
    {
     "data": {
      "text/html": [
       "<pre>| 152458       | 5.4e+10 | 43.0243     | 14m 3s       |</pre>"
      ],
      "text/plain": [
       "| 152458       | 5.4e+10 | 43.0243     | 14m 3s       |"
      ]
     },
     "metadata": {},
     "output_type": "display_data"
    },
    {
     "data": {
      "text/html": [
       "<pre>| 152989       | 5.4e+10 | 43.1741     | 14m 6s       |</pre>"
      ],
      "text/plain": [
       "| 152989       | 5.4e+10 | 43.1741     | 14m 6s       |"
      ]
     },
     "metadata": {},
     "output_type": "display_data"
    },
    {
     "data": {
      "text/html": [
       "<pre>| 153522       | 5.4e+10 | 43.3246     | 14m 9s       |</pre>"
      ],
      "text/plain": [
       "| 153522       | 5.4e+10 | 43.3246     | 14m 9s       |"
      ]
     },
     "metadata": {},
     "output_type": "display_data"
    },
    {
     "data": {
      "text/html": [
       "<pre>| 154057       | 5.5e+10 | 43.4753     | 14m 12s      |</pre>"
      ],
      "text/plain": [
       "| 154057       | 5.5e+10 | 43.4753     | 14m 12s      |"
      ]
     },
     "metadata": {},
     "output_type": "display_data"
    },
    {
     "data": {
      "text/html": [
       "<pre>| 154586       | 5.5e+10 | 43.6247     | 14m 15s      |</pre>"
      ],
      "text/plain": [
       "| 154586       | 5.5e+10 | 43.6247     | 14m 15s      |"
      ]
     },
     "metadata": {},
     "output_type": "display_data"
    },
    {
     "data": {
      "text/html": [
       "<pre>| 155114       | 5.5e+10 | 43.7737     | 14m 18s      |</pre>"
      ],
      "text/plain": [
       "| 155114       | 5.5e+10 | 43.7737     | 14m 18s      |"
      ]
     },
     "metadata": {},
     "output_type": "display_data"
    },
    {
     "data": {
      "text/html": [
       "<pre>| 155648       | 5.5e+10 | 43.9246     | 14m 21s      |</pre>"
      ],
      "text/plain": [
       "| 155648       | 5.5e+10 | 43.9246     | 14m 21s      |"
      ]
     },
     "metadata": {},
     "output_type": "display_data"
    },
    {
     "data": {
      "text/html": [
       "<pre>| 156182       | 5.5e+10 | 44.0752     | 14m 24s      |</pre>"
      ],
      "text/plain": [
       "| 156182       | 5.5e+10 | 44.0752     | 14m 24s      |"
      ]
     },
     "metadata": {},
     "output_type": "display_data"
    },
    {
     "data": {
      "text/html": [
       "<pre>| 156718       | 5.6e+10 | 44.2265     | 14m 27s      |</pre>"
      ],
      "text/plain": [
       "| 156718       | 5.6e+10 | 44.2265     | 14m 27s      |"
      ]
     },
     "metadata": {},
     "output_type": "display_data"
    },
    {
     "data": {
      "text/html": [
       "<pre>| 157258       | 5.6e+10 | 44.3789     | 14m 30s      |</pre>"
      ],
      "text/plain": [
       "| 157258       | 5.6e+10 | 44.3789     | 14m 30s      |"
      ]
     },
     "metadata": {},
     "output_type": "display_data"
    },
    {
     "data": {
      "text/html": [
       "<pre>| 157793       | 5.6e+10 | 44.5297     | 14m 33s      |</pre>"
      ],
      "text/plain": [
       "| 157793       | 5.6e+10 | 44.5297     | 14m 33s      |"
      ]
     },
     "metadata": {},
     "output_type": "display_data"
    },
    {
     "data": {
      "text/html": [
       "<pre>| 158330       | 5.6e+10 | 44.6813     | 14m 36s      |</pre>"
      ],
      "text/plain": [
       "| 158330       | 5.6e+10 | 44.6813     | 14m 36s      |"
      ]
     },
     "metadata": {},
     "output_type": "display_data"
    },
    {
     "data": {
      "text/html": [
       "<pre>| 158863       | 5.6e+10 | 44.8319     | 14m 39s      |</pre>"
      ],
      "text/plain": [
       "| 158863       | 5.6e+10 | 44.8319     | 14m 39s      |"
      ]
     },
     "metadata": {},
     "output_type": "display_data"
    },
    {
     "data": {
      "text/html": [
       "<pre>| 159404       | 5.6e+10 | 44.9843     | 14m 42s      |</pre>"
      ],
      "text/plain": [
       "| 159404       | 5.6e+10 | 44.9843     | 14m 42s      |"
      ]
     },
     "metadata": {},
     "output_type": "display_data"
    },
    {
     "data": {
      "text/html": [
       "<pre>| 159937       | 5.7e+10 | 45.1348     | 14m 45s      |</pre>"
      ],
      "text/plain": [
       "| 159937       | 5.7e+10 | 45.1348     | 14m 45s      |"
      ]
     },
     "metadata": {},
     "output_type": "display_data"
    },
    {
     "data": {
      "text/html": [
       "<pre>| 160463       | 5.7e+10 | 45.2834     | 14m 48s      |</pre>"
      ],
      "text/plain": [
       "| 160463       | 5.7e+10 | 45.2834     | 14m 48s      |"
      ]
     },
     "metadata": {},
     "output_type": "display_data"
    },
    {
     "data": {
      "text/html": [
       "<pre>| 160999       | 5.7e+10 | 45.4344     | 14m 51s      |</pre>"
      ],
      "text/plain": [
       "| 160999       | 5.7e+10 | 45.4344     | 14m 51s      |"
      ]
     },
     "metadata": {},
     "output_type": "display_data"
    },
    {
     "data": {
      "text/html": [
       "<pre>| 161534       | 5.7e+10 | 45.5854     | 14m 54s      |</pre>"
      ],
      "text/plain": [
       "| 161534       | 5.7e+10 | 45.5854     | 14m 54s      |"
      ]
     },
     "metadata": {},
     "output_type": "display_data"
    },
    {
     "data": {
      "text/html": [
       "<pre>| 162072       | 5.7e+10 | 45.7373     | 14m 57s      |</pre>"
      ],
      "text/plain": [
       "| 162072       | 5.7e+10 | 45.7373     | 14m 57s      |"
      ]
     },
     "metadata": {},
     "output_type": "display_data"
    },
    {
     "data": {
      "text/html": [
       "<pre>| 162602       | 5.8e+10 | 45.8868     | 15m 0s       |</pre>"
      ],
      "text/plain": [
       "| 162602       | 5.8e+10 | 45.8868     | 15m 0s       |"
      ]
     },
     "metadata": {},
     "output_type": "display_data"
    },
    {
     "data": {
      "text/html": [
       "<pre>| 163134       | 5.8e+10 | 46.037      | 15m 3s       |</pre>"
      ],
      "text/plain": [
       "| 163134       | 5.8e+10 | 46.037      | 15m 3s       |"
      ]
     },
     "metadata": {},
     "output_type": "display_data"
    },
    {
     "data": {
      "text/html": [
       "<pre>| 163671       |         | 46.1885     | 15m 6s       |</pre>"
      ],
      "text/plain": [
       "| 163671       |         | 46.1885     | 15m 6s       |"
      ]
     },
     "metadata": {},
     "output_type": "display_data"
    },
    {
     "data": {
      "text/html": [
       "<pre>| 164206       | 5.8e+10 | 46.3397     | 15m 9s       |</pre>"
      ],
      "text/plain": [
       "| 164206       | 5.8e+10 | 46.3397     | 15m 9s       |"
      ]
     },
     "metadata": {},
     "output_type": "display_data"
    },
    {
     "data": {
      "text/html": [
       "<pre>| 164743       | 5.8e+10 | 46.491      | 15m 12s      |</pre>"
      ],
      "text/plain": [
       "| 164743       | 5.8e+10 | 46.491      | 15m 12s      |"
      ]
     },
     "metadata": {},
     "output_type": "display_data"
    },
    {
     "data": {
      "text/html": [
       "<pre>| 165273       | 5.9e+10 | 46.6408     | 15m 15s      |</pre>"
      ],
      "text/plain": [
       "| 165273       | 5.9e+10 | 46.6408     | 15m 15s      |"
      ]
     },
     "metadata": {},
     "output_type": "display_data"
    },
    {
     "data": {
      "text/html": [
       "<pre>| 165808       | 5.9e+10 | 46.7916     | 15m 18s      |</pre>"
      ],
      "text/plain": [
       "| 165808       | 5.9e+10 | 46.7916     | 15m 18s      |"
      ]
     },
     "metadata": {},
     "output_type": "display_data"
    },
    {
     "data": {
      "text/html": [
       "<pre>| 166342       | 5.9e+10 | 46.9422     | 15m 21s      |</pre>"
      ],
      "text/plain": [
       "| 166342       | 5.9e+10 | 46.9422     | 15m 21s      |"
      ]
     },
     "metadata": {},
     "output_type": "display_data"
    },
    {
     "data": {
      "text/html": [
       "<pre>| 166875       | 5.9e+10 | 47.0927     | 15m 24s      |</pre>"
      ],
      "text/plain": [
       "| 166875       | 5.9e+10 | 47.0927     | 15m 24s      |"
      ]
     },
     "metadata": {},
     "output_type": "display_data"
    },
    {
     "data": {
      "text/html": [
       "<pre>| 167412       | 5.9e+10 | 47.2442     | 15m 27s      |</pre>"
      ],
      "text/plain": [
       "| 167412       | 5.9e+10 | 47.2442     | 15m 27s      |"
      ]
     },
     "metadata": {},
     "output_type": "display_data"
    },
    {
     "data": {
      "text/html": [
       "<pre>| 167948       | 6e+10   | 47.3955     | 15m 30s      |</pre>"
      ],
      "text/plain": [
       "| 167948       | 6e+10   | 47.3955     | 15m 30s      |"
      ]
     },
     "metadata": {},
     "output_type": "display_data"
    },
    {
     "data": {
      "text/html": [
       "<pre>| 168486       | 6e+10   | 47.5474     | 15m 33s      |</pre>"
      ],
      "text/plain": [
       "| 168486       | 6e+10   | 47.5474     | 15m 33s      |"
      ]
     },
     "metadata": {},
     "output_type": "display_data"
    },
    {
     "data": {
      "text/html": [
       "<pre>| 169022       | 6e+10   | 47.6987     | 15m 36s      |</pre>"
      ],
      "text/plain": [
       "| 169022       | 6e+10   | 47.6987     | 15m 36s      |"
      ]
     },
     "metadata": {},
     "output_type": "display_data"
    },
    {
     "data": {
      "text/html": [
       "<pre>| 169552       | 6e+10   | 47.8482     | 15m 39s      |</pre>"
      ],
      "text/plain": [
       "| 169552       | 6e+10   | 47.8482     | 15m 39s      |"
      ]
     },
     "metadata": {},
     "output_type": "display_data"
    },
    {
     "data": {
      "text/html": [
       "<pre>| 169959       | 6e+10   | 47.9631     | 15m 42s      |</pre>"
      ],
      "text/plain": [
       "| 169959       | 6e+10   | 47.9631     | 15m 42s      |"
      ]
     },
     "metadata": {},
     "output_type": "display_data"
    },
    {
     "data": {
      "text/html": [
       "<pre>| 170362       | 6e+10   | 48.0767     | 15m 45s      |</pre>"
      ],
      "text/plain": [
       "| 170362       | 6e+10   | 48.0767     | 15m 45s      |"
      ]
     },
     "metadata": {},
     "output_type": "display_data"
    },
    {
     "data": {
      "text/html": [
       "<pre>| 170774       | 6.1e+10 | 48.193      | 15m 48s      |</pre>"
      ],
      "text/plain": [
       "| 170774       | 6.1e+10 | 48.193      | 15m 48s      |"
      ]
     },
     "metadata": {},
     "output_type": "display_data"
    },
    {
     "data": {
      "text/html": [
       "<pre>| 171229       | 6.1e+10 | 48.3213     | 15m 51s      |</pre>"
      ],
      "text/plain": [
       "| 171229       | 6.1e+10 | 48.3213     | 15m 51s      |"
      ]
     },
     "metadata": {},
     "output_type": "display_data"
    },
    {
     "data": {
      "text/html": [
       "<pre>| 171769       | 6.1e+10 | 48.474      | 15m 54s      |</pre>"
      ],
      "text/plain": [
       "| 171769       | 6.1e+10 | 48.474      | 15m 54s      |"
      ]
     },
     "metadata": {},
     "output_type": "display_data"
    },
    {
     "data": {
      "text/html": [
       "<pre>| 172305       | 6.1e+10 | 48.6251     | 15m 57s      |</pre>"
      ],
      "text/plain": [
       "| 172305       | 6.1e+10 | 48.6251     | 15m 57s      |"
      ]
     },
     "metadata": {},
     "output_type": "display_data"
    },
    {
     "data": {
      "text/html": [
       "<pre>| 172843       | 6.1e+10 | 48.777      | 16m 0s       |</pre>"
      ],
      "text/plain": [
       "| 172843       | 6.1e+10 | 48.777      | 16m 0s       |"
      ]
     },
     "metadata": {},
     "output_type": "display_data"
    },
    {
     "data": {
      "text/html": [
       "<pre>| 173367       | 6.1e+10 | 48.9249     | 16m 3s       |</pre>"
      ],
      "text/plain": [
       "| 173367       | 6.1e+10 | 48.9249     | 16m 3s       |"
      ]
     },
     "metadata": {},
     "output_type": "display_data"
    },
    {
     "data": {
      "text/html": [
       "<pre>| 173895       | 6.2e+10 | 49.0737     | 16m 6s       |</pre>"
      ],
      "text/plain": [
       "| 173895       | 6.2e+10 | 49.0737     | 16m 6s       |"
      ]
     },
     "metadata": {},
     "output_type": "display_data"
    },
    {
     "data": {
      "text/html": [
       "<pre>| 174430       | 6.2e+10 | 49.2249     | 16m 9s       |</pre>"
      ],
      "text/plain": [
       "| 174430       | 6.2e+10 | 49.2249     | 16m 9s       |"
      ]
     },
     "metadata": {},
     "output_type": "display_data"
    },
    {
     "data": {
      "text/html": [
       "<pre>| 174966       |         | 49.376      | 16m 12s      |</pre>"
      ],
      "text/plain": [
       "| 174966       |         | 49.376      | 16m 12s      |"
      ]
     },
     "metadata": {},
     "output_type": "display_data"
    },
    {
     "data": {
      "text/html": [
       "<pre>| 175504       | 6.2e+10 | 49.5278     | 16m 15s      |</pre>"
      ],
      "text/plain": [
       "| 175504       | 6.2e+10 | 49.5278     | 16m 15s      |"
      ]
     },
     "metadata": {},
     "output_type": "display_data"
    },
    {
     "data": {
      "text/html": [
       "<pre>| 176044       | 6.2e+10 | 49.6803     | 16m 18s      |</pre>"
      ],
      "text/plain": [
       "| 176044       | 6.2e+10 | 49.6803     | 16m 18s      |"
      ]
     },
     "metadata": {},
     "output_type": "display_data"
    },
    {
     "data": {
      "text/html": [
       "<pre>| 176590       | 6.3e+10 | 49.8345     | 16m 21s      |</pre>"
      ],
      "text/plain": [
       "| 176590       | 6.3e+10 | 49.8345     | 16m 21s      |"
      ]
     },
     "metadata": {},
     "output_type": "display_data"
    },
    {
     "data": {
      "text/html": [
       "<pre>| 177129       | 6.3e+10 | 49.9863     | 16m 24s      |</pre>"
      ],
      "text/plain": [
       "| 177129       | 6.3e+10 | 49.9863     | 16m 24s      |"
      ]
     },
     "metadata": {},
     "output_type": "display_data"
    },
    {
     "data": {
      "text/html": [
       "<pre>| 177568       | 6.3e+10 | 50.1105     | 16m 27s      |</pre>"
      ],
      "text/plain": [
       "| 177568       | 6.3e+10 | 50.1105     | 16m 27s      |"
      ]
     },
     "metadata": {},
     "output_type": "display_data"
    },
    {
     "data": {
      "text/html": [
       "<pre>| 178114       | 6.3e+10 | 50.2645     | 16m 30s      |</pre>"
      ],
      "text/plain": [
       "| 178114       | 6.3e+10 | 50.2645     | 16m 30s      |"
      ]
     },
     "metadata": {},
     "output_type": "display_data"
    },
    {
     "data": {
      "text/html": [
       "<pre>| 178654       | 6.3e+10 | 50.4167     | 16m 33s      |</pre>"
      ],
      "text/plain": [
       "| 178654       | 6.3e+10 | 50.4167     | 16m 33s      |"
      ]
     },
     "metadata": {},
     "output_type": "display_data"
    },
    {
     "data": {
      "text/html": [
       "<pre>| 179192       | 6.3e+10 | 50.5685     | 16m 36s      |</pre>"
      ],
      "text/plain": [
       "| 179192       | 6.3e+10 | 50.5685     | 16m 36s      |"
      ]
     },
     "metadata": {},
     "output_type": "display_data"
    },
    {
     "data": {
      "text/html": [
       "<pre>| 179732       | 6.4e+10 | 50.7209     | 16m 39s      |</pre>"
      ],
      "text/plain": [
       "| 179732       | 6.4e+10 | 50.7209     | 16m 39s      |"
      ]
     },
     "metadata": {},
     "output_type": "display_data"
    },
    {
     "data": {
      "text/html": [
       "<pre>| 180265       | 6.4e+10 | 50.8714     | 16m 42s      |</pre>"
      ],
      "text/plain": [
       "| 180265       | 6.4e+10 | 50.8714     | 16m 42s      |"
      ]
     },
     "metadata": {},
     "output_type": "display_data"
    },
    {
     "data": {
      "text/html": [
       "<pre>| 180798       | 6.4e+10 | 51.0218     | 16m 45s      |</pre>"
      ],
      "text/plain": [
       "| 180798       | 6.4e+10 | 51.0218     | 16m 45s      |"
      ]
     },
     "metadata": {},
     "output_type": "display_data"
    },
    {
     "data": {
      "text/html": [
       "<pre>| 181330       | 6.4e+10 | 51.1719     | 16m 48s      |</pre>"
      ],
      "text/plain": [
       "| 181330       | 6.4e+10 | 51.1719     | 16m 48s      |"
      ]
     },
     "metadata": {},
     "output_type": "display_data"
    },
    {
     "data": {
      "text/html": [
       "<pre>| 181867       | 6.4e+10 | 51.3236     | 16m 51s      |</pre>"
      ],
      "text/plain": [
       "| 181867       | 6.4e+10 | 51.3236     | 16m 51s      |"
      ]
     },
     "metadata": {},
     "output_type": "display_data"
    },
    {
     "data": {
      "text/html": [
       "<pre>| 182406       | 6.5e+10 | 51.4757     | 16m 54s      |</pre>"
      ],
      "text/plain": [
       "| 182406       | 6.5e+10 | 51.4757     | 16m 54s      |"
      ]
     },
     "metadata": {},
     "output_type": "display_data"
    },
    {
     "data": {
      "text/html": [
       "<pre>| 182943       | 6.5e+10 | 51.6273     | 16m 57s      |</pre>"
      ],
      "text/plain": [
       "| 182943       | 6.5e+10 | 51.6273     | 16m 57s      |"
      ]
     },
     "metadata": {},
     "output_type": "display_data"
    },
    {
     "data": {
      "text/html": [
       "<pre>| 183482       | 6.5e+10 | 51.7792     | 17m 0s       |</pre>"
      ],
      "text/plain": [
       "| 183482       | 6.5e+10 | 51.7792     | 17m 0s       |"
      ]
     },
     "metadata": {},
     "output_type": "display_data"
    },
    {
     "data": {
      "text/html": [
       "<pre>| 184018       | 6.5e+10 | 51.9305     | 17m 3s       |</pre>"
      ],
      "text/plain": [
       "| 184018       | 6.5e+10 | 51.9305     | 17m 3s       |"
      ]
     },
     "metadata": {},
     "output_type": "display_data"
    },
    {
     "data": {
      "text/html": [
       "<pre>| 184551       | 6.5e+10 | 52.0811     | 17m 6s       |</pre>"
      ],
      "text/plain": [
       "| 184551       | 6.5e+10 | 52.0811     | 17m 6s       |"
      ]
     },
     "metadata": {},
     "output_type": "display_data"
    },
    {
     "data": {
      "text/html": [
       "<pre>| 185089       | 6.6e+10 | 52.2329     | 17m 9s       |</pre>"
      ],
      "text/plain": [
       "| 185089       | 6.6e+10 | 52.2329     | 17m 9s       |"
      ]
     },
     "metadata": {},
     "output_type": "display_data"
    },
    {
     "data": {
      "text/html": [
       "<pre>| 185623       | 6.6e+10 | 52.3835     | 17m 12s      |</pre>"
      ],
      "text/plain": [
       "| 185623       | 6.6e+10 | 52.3835     | 17m 12s      |"
      ]
     },
     "metadata": {},
     "output_type": "display_data"
    },
    {
     "data": {
      "text/html": [
       "<pre>| 186157       | 6.6e+10 | 52.5343     | 17m 15s      |</pre>"
      ],
      "text/plain": [
       "| 186157       | 6.6e+10 | 52.5343     | 17m 15s      |"
      ]
     },
     "metadata": {},
     "output_type": "display_data"
    },
    {
     "data": {
      "text/html": [
       "<pre>| 186689       | 6.6e+10 | 52.6843     | 17m 18s      |</pre>"
      ],
      "text/plain": [
       "| 186689       | 6.6e+10 | 52.6843     | 17m 18s      |"
      ]
     },
     "metadata": {},
     "output_type": "display_data"
    },
    {
     "data": {
      "text/html": [
       "<pre>| 187221       | 6.6e+10 | 52.8343     | 17m 21s      |</pre>"
      ],
      "text/plain": [
       "| 187221       | 6.6e+10 | 52.8343     | 17m 21s      |"
      ]
     },
     "metadata": {},
     "output_type": "display_data"
    },
    {
     "data": {
      "text/html": [
       "<pre>| 187756       | 6.7e+10 | 52.9854     | 17m 24s      |</pre>"
      ],
      "text/plain": [
       "| 187756       | 6.7e+10 | 52.9854     | 17m 24s      |"
      ]
     },
     "metadata": {},
     "output_type": "display_data"
    },
    {
     "data": {
      "text/html": [
       "<pre>| 188278       | 6.7e+10 | 53.1328     | 17m 27s      |</pre>"
      ],
      "text/plain": [
       "| 188278       | 6.7e+10 | 53.1328     | 17m 27s      |"
      ]
     },
     "metadata": {},
     "output_type": "display_data"
    },
    {
     "data": {
      "text/html": [
       "<pre>| 188777       | 6.7e+10 | 53.2736     | 17m 30s      |</pre>"
      ],
      "text/plain": [
       "| 188777       | 6.7e+10 | 53.2736     | 17m 30s      |"
      ]
     },
     "metadata": {},
     "output_type": "display_data"
    },
    {
     "data": {
      "text/html": [
       "<pre>| 189293       | 6.7e+10 | 53.4191     | 17m 33s      |</pre>"
      ],
      "text/plain": [
       "| 189293       | 6.7e+10 | 53.4191     | 17m 33s      |"
      ]
     },
     "metadata": {},
     "output_type": "display_data"
    },
    {
     "data": {
      "text/html": [
       "<pre>| 189806       | 6.7e+10 | 53.564      | 17m 36s      |</pre>"
      ],
      "text/plain": [
       "| 189806       | 6.7e+10 | 53.564      | 17m 36s      |"
      ]
     },
     "metadata": {},
     "output_type": "display_data"
    },
    {
     "data": {
      "text/html": [
       "<pre>| 190321       | 6.7e+10 | 53.7093     | 17m 39s      |</pre>"
      ],
      "text/plain": [
       "| 190321       | 6.7e+10 | 53.7093     | 17m 39s      |"
      ]
     },
     "metadata": {},
     "output_type": "display_data"
    },
    {
     "data": {
      "text/html": [
       "<pre>| 190837       | 6.8e+10 | 53.855      | 17m 42s      |</pre>"
      ],
      "text/plain": [
       "| 190837       | 6.8e+10 | 53.855      | 17m 42s      |"
      ]
     },
     "metadata": {},
     "output_type": "display_data"
    },
    {
     "data": {
      "text/html": [
       "<pre>| 191376       | 6.8e+10 | 54.0069     | 17m 45s      |</pre>"
      ],
      "text/plain": [
       "| 191376       | 6.8e+10 | 54.0069     | 17m 45s      |"
      ]
     },
     "metadata": {},
     "output_type": "display_data"
    },
    {
     "data": {
      "text/html": [
       "<pre>| 191916       | 6.8e+10 | 54.1592     | 17m 48s      |</pre>"
      ],
      "text/plain": [
       "| 191916       | 6.8e+10 | 54.1592     | 17m 48s      |"
      ]
     },
     "metadata": {},
     "output_type": "display_data"
    },
    {
     "data": {
      "text/html": [
       "<pre>| 192455       | 6.8e+10 | 54.3116     | 17m 51s      |</pre>"
      ],
      "text/plain": [
       "| 192455       | 6.8e+10 | 54.3116     | 17m 51s      |"
      ]
     },
     "metadata": {},
     "output_type": "display_data"
    },
    {
     "data": {
      "text/html": [
       "<pre>| 192995       | 6.8e+10 | 54.4639     | 17m 54s      |</pre>"
      ],
      "text/plain": [
       "| 192995       | 6.8e+10 | 54.4639     | 17m 54s      |"
      ]
     },
     "metadata": {},
     "output_type": "display_data"
    },
    {
     "data": {
      "text/html": [
       "<pre>| 193529       | 6.9e+10 | 54.6145     | 17m 57s      |</pre>"
      ],
      "text/plain": [
       "| 193529       | 6.9e+10 | 54.6145     | 17m 57s      |"
      ]
     },
     "metadata": {},
     "output_type": "display_data"
    },
    {
     "data": {
      "text/html": [
       "<pre>| 194064       | 6.9e+10 | 54.7656     | 18m 0s       |</pre>"
      ],
      "text/plain": [
       "| 194064       | 6.9e+10 | 54.7656     | 18m 0s       |"
      ]
     },
     "metadata": {},
     "output_type": "display_data"
    },
    {
     "data": {
      "text/html": [
       "<pre>| 194600       | 6.9e+10 | 54.9168     | 18m 3s       |</pre>"
      ],
      "text/plain": [
       "| 194600       | 6.9e+10 | 54.9168     | 18m 3s       |"
      ]
     },
     "metadata": {},
     "output_type": "display_data"
    },
    {
     "data": {
      "text/html": [
       "<pre>| 195124       | 6.9e+10 | 55.0647     | 18m 6s       |</pre>"
      ],
      "text/plain": [
       "| 195124       | 6.9e+10 | 55.0647     | 18m 6s       |"
      ]
     },
     "metadata": {},
     "output_type": "display_data"
    },
    {
     "data": {
      "text/html": [
       "<pre>| 195661       | 6.9e+10 | 55.2163     | 18m 9s       |</pre>"
      ],
      "text/plain": [
       "| 195661       | 6.9e+10 | 55.2163     | 18m 9s       |"
      ]
     },
     "metadata": {},
     "output_type": "display_data"
    },
    {
     "data": {
      "text/html": [
       "<pre>| 196179       | 7e+10   | 55.3624     | 18m 12s      |</pre>"
      ],
      "text/plain": [
       "| 196179       | 7e+10   | 55.3624     | 18m 12s      |"
      ]
     },
     "metadata": {},
     "output_type": "display_data"
    },
    {
     "data": {
      "text/html": [
       "<pre>| 196691       | 7e+10   | 55.507      | 18m 15s      |</pre>"
      ],
      "text/plain": [
       "| 196691       | 7e+10   | 55.507      | 18m 15s      |"
      ]
     },
     "metadata": {},
     "output_type": "display_data"
    },
    {
     "data": {
      "text/html": [
       "<pre>| 197185       | 7e+10   | 55.6462     | 18m 18s      |</pre>"
      ],
      "text/plain": [
       "| 197185       | 7e+10   | 55.6462     | 18m 18s      |"
      ]
     },
     "metadata": {},
     "output_type": "display_data"
    },
    {
     "data": {
      "text/html": [
       "<pre>| 197693       | 7e+10   | 55.7896     | 18m 21s      |</pre>"
      ],
      "text/plain": [
       "| 197693       | 7e+10   | 55.7896     | 18m 21s      |"
      ]
     },
     "metadata": {},
     "output_type": "display_data"
    },
    {
     "data": {
      "text/html": [
       "<pre>| 198225       | 7e+10   | 55.9397     | 18m 24s      |</pre>"
      ],
      "text/plain": [
       "| 198225       | 7e+10   | 55.9397     | 18m 24s      |"
      ]
     },
     "metadata": {},
     "output_type": "display_data"
    },
    {
     "data": {
      "text/html": [
       "<pre>| 198763       | 7e+10   | 56.0915     | 18m 27s      |</pre>"
      ],
      "text/plain": [
       "| 198763       | 7e+10   | 56.0915     | 18m 27s      |"
      ]
     },
     "metadata": {},
     "output_type": "display_data"
    },
    {
     "data": {
      "text/html": [
       "<pre>| 199296       | 7.1e+10 | 56.242      | 18m 30s      |</pre>"
      ],
      "text/plain": [
       "| 199296       | 7.1e+10 | 56.242      | 18m 30s      |"
      ]
     },
     "metadata": {},
     "output_type": "display_data"
    },
    {
     "data": {
      "text/html": [
       "<pre>| 199829       | 7.1e+10 | 56.3926     | 18m 33s      |</pre>"
      ],
      "text/plain": [
       "| 199829       | 7.1e+10 | 56.3926     | 18m 33s      |"
      ]
     },
     "metadata": {},
     "output_type": "display_data"
    },
    {
     "data": {
      "text/html": [
       "<pre>| 200359       |         | 56.5421     | 18m 36s      |</pre>"
      ],
      "text/plain": [
       "| 200359       |         | 56.5421     | 18m 36s      |"
      ]
     },
     "metadata": {},
     "output_type": "display_data"
    },
    {
     "data": {
      "text/html": [
       "<pre>| 200897       | 7.1e+10 | 56.6939     | 18m 39s      |</pre>"
      ],
      "text/plain": [
       "| 200897       | 7.1e+10 | 56.6939     | 18m 39s      |"
      ]
     },
     "metadata": {},
     "output_type": "display_data"
    },
    {
     "data": {
      "text/html": [
       "<pre>| 201435       | 7.1e+10 | 56.8457     | 18m 42s      |</pre>"
      ],
      "text/plain": [
       "| 201435       | 7.1e+10 | 56.8457     | 18m 42s      |"
      ]
     },
     "metadata": {},
     "output_type": "display_data"
    },
    {
     "data": {
      "text/html": [
       "<pre>| 201967       | 7.2e+10 | 56.9957     | 18m 45s      |</pre>"
      ],
      "text/plain": [
       "| 201967       | 7.2e+10 | 56.9957     | 18m 45s      |"
      ]
     },
     "metadata": {},
     "output_type": "display_data"
    },
    {
     "data": {
      "text/html": [
       "<pre>| 202501       | 7.2e+10 | 57.1464     | 18m 48s      |</pre>"
      ],
      "text/plain": [
       "| 202501       | 7.2e+10 | 57.1464     | 18m 48s      |"
      ]
     },
     "metadata": {},
     "output_type": "display_data"
    },
    {
     "data": {
      "text/html": [
       "<pre>| 203038       | 7.2e+10 | 57.2982     | 18m 51s      |</pre>"
      ],
      "text/plain": [
       "| 203038       | 7.2e+10 | 57.2982     | 18m 51s      |"
      ]
     },
     "metadata": {},
     "output_type": "display_data"
    },
    {
     "data": {
      "text/html": [
       "<pre>| 203575       | 7.2e+10 | 57.4496     | 18m 54s      |</pre>"
      ],
      "text/plain": [
       "| 203575       | 7.2e+10 | 57.4496     | 18m 54s      |"
      ]
     },
     "metadata": {},
     "output_type": "display_data"
    },
    {
     "data": {
      "text/html": [
       "<pre>| 204111       | 7.2e+10 | 57.6007     | 18m 57s      |</pre>"
      ],
      "text/plain": [
       "| 204111       | 7.2e+10 | 57.6007     | 18m 57s      |"
      ]
     },
     "metadata": {},
     "output_type": "display_data"
    },
    {
     "data": {
      "text/html": [
       "<pre>| 204645       | 7.3e+10 | 57.7516     | 19m 0s       |</pre>"
      ],
      "text/plain": [
       "| 204645       | 7.3e+10 | 57.7516     | 19m 0s       |"
      ]
     },
     "metadata": {},
     "output_type": "display_data"
    },
    {
     "data": {
      "text/html": [
       "<pre>| 205179       | 7.3e+10 | 57.9023     | 19m 3s       |</pre>"
      ],
      "text/plain": [
       "| 205179       | 7.3e+10 | 57.9023     | 19m 3s       |"
      ]
     },
     "metadata": {},
     "output_type": "display_data"
    },
    {
     "data": {
      "text/html": [
       "<pre>| 205716       | 7.3e+10 | 58.0538     | 19m 6s       |</pre>"
      ],
      "text/plain": [
       "| 205716       | 7.3e+10 | 58.0538     | 19m 6s       |"
      ]
     },
     "metadata": {},
     "output_type": "display_data"
    },
    {
     "data": {
      "text/html": [
       "<pre>| 206252       | 7.3e+10 | 58.205      | 19m 9s       |</pre>"
      ],
      "text/plain": [
       "| 206252       | 7.3e+10 | 58.205      | 19m 9s       |"
      ]
     },
     "metadata": {},
     "output_type": "display_data"
    },
    {
     "data": {
      "text/html": [
       "<pre>| 206789       | 7.3e+10 | 58.3567     | 19m 12s      |</pre>"
      ],
      "text/plain": [
       "| 206789       | 7.3e+10 | 58.3567     | 19m 12s      |"
      ]
     },
     "metadata": {},
     "output_type": "display_data"
    },
    {
     "data": {
      "text/html": [
       "<pre>| 207323       | 7.3e+10 | 58.5074     | 19m 15s      |</pre>"
      ],
      "text/plain": [
       "| 207323       | 7.3e+10 | 58.5074     | 19m 15s      |"
      ]
     },
     "metadata": {},
     "output_type": "display_data"
    },
    {
     "data": {
      "text/html": [
       "<pre>| 207866       | 7.4e+10 | 58.6606     | 19m 18s      |</pre>"
      ],
      "text/plain": [
       "| 207866       | 7.4e+10 | 58.6606     | 19m 18s      |"
      ]
     },
     "metadata": {},
     "output_type": "display_data"
    },
    {
     "data": {
      "text/html": [
       "<pre>| 208405       | 7.4e+10 | 58.8126     | 19m 21s      |</pre>"
      ],
      "text/plain": [
       "| 208405       | 7.4e+10 | 58.8126     | 19m 21s      |"
      ]
     },
     "metadata": {},
     "output_type": "display_data"
    },
    {
     "data": {
      "text/html": [
       "<pre>| 208943       | 7.4e+10 | 58.9646     | 19m 24s      |</pre>"
      ],
      "text/plain": [
       "| 208943       | 7.4e+10 | 58.9646     | 19m 24s      |"
      ]
     },
     "metadata": {},
     "output_type": "display_data"
    },
    {
     "data": {
      "text/html": [
       "<pre>| 209490       | 7.4e+10 | 59.1188     | 19m 27s      |</pre>"
      ],
      "text/plain": [
       "| 209490       | 7.4e+10 | 59.1188     | 19m 27s      |"
      ]
     },
     "metadata": {},
     "output_type": "display_data"
    },
    {
     "data": {
      "text/html": [
       "<pre>| 210034       | 7.4e+10 | 59.2723     | 19m 30s      |</pre>"
      ],
      "text/plain": [
       "| 210034       | 7.4e+10 | 59.2723     | 19m 30s      |"
      ]
     },
     "metadata": {},
     "output_type": "display_data"
    },
    {
     "data": {
      "text/html": [
       "<pre>| 210572       | 7.5e+10 | 59.4241     | 19m 33s      |</pre>"
      ],
      "text/plain": [
       "| 210572       | 7.5e+10 | 59.4241     | 19m 33s      |"
      ]
     },
     "metadata": {},
     "output_type": "display_data"
    },
    {
     "data": {
      "text/html": [
       "<pre>| 211107       | 7.5e+10 | 59.575      | 19m 36s      |</pre>"
      ],
      "text/plain": [
       "| 211107       | 7.5e+10 | 59.575      | 19m 36s      |"
      ]
     },
     "metadata": {},
     "output_type": "display_data"
    },
    {
     "data": {
      "text/html": [
       "<pre>| 211655       |         | 59.7297     | 19m 39s      |</pre>"
      ],
      "text/plain": [
       "| 211655       |         | 59.7297     | 19m 39s      |"
      ]
     },
     "metadata": {},
     "output_type": "display_data"
    },
    {
     "data": {
      "text/html": [
       "<pre>| 212200       | 7.5e+10 | 59.8835     | 19m 42s      |</pre>"
      ],
      "text/plain": [
       "| 212200       | 7.5e+10 | 59.8835     | 19m 42s      |"
      ]
     },
     "metadata": {},
     "output_type": "display_data"
    },
    {
     "data": {
      "text/html": [
       "<pre>| 212740       | 7.5e+10 | 60.0359     | 19m 45s      |</pre>"
      ],
      "text/plain": [
       "| 212740       | 7.5e+10 | 60.0359     | 19m 45s      |"
      ]
     },
     "metadata": {},
     "output_type": "display_data"
    },
    {
     "data": {
      "text/html": [
       "<pre>| 213288       | 7.6e+10 | 60.1906     | 19m 48s      |</pre>"
      ],
      "text/plain": [
       "| 213288       | 7.6e+10 | 60.1906     | 19m 48s      |"
      ]
     },
     "metadata": {},
     "output_type": "display_data"
    },
    {
     "data": {
      "text/html": [
       "<pre>| 213840       | 7.6e+10 | 60.3464     | 19m 51s      |</pre>"
      ],
      "text/plain": [
       "| 213840       | 7.6e+10 | 60.3464     | 19m 51s      |"
      ]
     },
     "metadata": {},
     "output_type": "display_data"
    },
    {
     "data": {
      "text/html": [
       "<pre>| 214388       | 7.6e+10 | 60.5011     | 19m 54s      |</pre>"
      ],
      "text/plain": [
       "| 214388       | 7.6e+10 | 60.5011     | 19m 54s      |"
      ]
     },
     "metadata": {},
     "output_type": "display_data"
    },
    {
     "data": {
      "text/html": [
       "<pre>| 214936       | 7.6e+10 | 60.6558     | 19m 57s      |</pre>"
      ],
      "text/plain": [
       "| 214936       | 7.6e+10 | 60.6558     | 19m 57s      |"
      ]
     },
     "metadata": {},
     "output_type": "display_data"
    },
    {
     "data": {
      "text/html": [
       "<pre>| 215480       | 7.6e+10 | 60.8092     | 20m 0s       |</pre>"
      ],
      "text/plain": [
       "| 215480       | 7.6e+10 | 60.8092     | 20m 0s       |"
      ]
     },
     "metadata": {},
     "output_type": "display_data"
    },
    {
     "data": {
      "text/html": [
       "<pre>| 216031       | 7.7e+10 | 60.9648     | 20m 3s       |</pre>"
      ],
      "text/plain": [
       "| 216031       | 7.7e+10 | 60.9648     | 20m 3s       |"
      ]
     },
     "metadata": {},
     "output_type": "display_data"
    },
    {
     "data": {
      "text/html": [
       "<pre>| 216574       | 7.7e+10 | 61.1179     | 20m 6s       |</pre>"
      ],
      "text/plain": [
       "| 216574       | 7.7e+10 | 61.1179     | 20m 6s       |"
      ]
     },
     "metadata": {},
     "output_type": "display_data"
    },
    {
     "data": {
      "text/html": [
       "<pre>| 217125       | 7.7e+10 | 61.2735     | 20m 9s       |</pre>"
      ],
      "text/plain": [
       "| 217125       | 7.7e+10 | 61.2735     | 20m 9s       |"
      ]
     },
     "metadata": {},
     "output_type": "display_data"
    },
    {
     "data": {
      "text/html": [
       "<pre>| 217675       | 7.7e+10 | 61.4287     | 20m 12s      |</pre>"
      ],
      "text/plain": [
       "| 217675       | 7.7e+10 | 61.4287     | 20m 12s      |"
      ]
     },
     "metadata": {},
     "output_type": "display_data"
    },
    {
     "data": {
      "text/html": [
       "<pre>| 218225       | 7.7e+10 | 61.584      | 20m 15s      |</pre>"
      ],
      "text/plain": [
       "| 218225       | 7.7e+10 | 61.584      | 20m 15s      |"
      ]
     },
     "metadata": {},
     "output_type": "display_data"
    },
    {
     "data": {
      "text/html": [
       "<pre>| 218781       | 7.8e+10 | 61.7407     | 20m 18s      |</pre>"
      ],
      "text/plain": [
       "| 218781       | 7.8e+10 | 61.7407     | 20m 18s      |"
      ]
     },
     "metadata": {},
     "output_type": "display_data"
    },
    {
     "data": {
      "text/html": [
       "<pre>| 219329       | 7.8e+10 | 61.8954     | 20m 21s      |</pre>"
      ],
      "text/plain": [
       "| 219329       | 7.8e+10 | 61.8954     | 20m 21s      |"
      ]
     },
     "metadata": {},
     "output_type": "display_data"
    },
    {
     "data": {
      "text/html": [
       "<pre>| 219883       | 7.8e+10 | 62.0516     | 20m 24s      |</pre>"
      ],
      "text/plain": [
       "| 219883       | 7.8e+10 | 62.0516     | 20m 24s      |"
      ]
     },
     "metadata": {},
     "output_type": "display_data"
    },
    {
     "data": {
      "text/html": [
       "<pre>| 220437       | 7.8e+10 | 62.2082     | 20m 27s      |</pre>"
      ],
      "text/plain": [
       "| 220437       | 7.8e+10 | 62.2082     | 20m 27s      |"
      ]
     },
     "metadata": {},
     "output_type": "display_data"
    },
    {
     "data": {
      "text/html": [
       "<pre>| 220998       | 7.8e+10 | 62.3664     | 20m 30s      |</pre>"
      ],
      "text/plain": [
       "| 220998       | 7.8e+10 | 62.3664     | 20m 30s      |"
      ]
     },
     "metadata": {},
     "output_type": "display_data"
    },
    {
     "data": {
      "text/html": [
       "<pre>| 221503       | 7.8e+10 | 62.5088     | 20m 33s      |</pre>"
      ],
      "text/plain": [
       "| 221503       | 7.8e+10 | 62.5088     | 20m 33s      |"
      ]
     },
     "metadata": {},
     "output_type": "display_data"
    },
    {
     "data": {
      "text/html": [
       "<pre>| 222017       | 7.9e+10 | 62.6538     | 20m 36s      |</pre>"
      ],
      "text/plain": [
       "| 222017       | 7.9e+10 | 62.6538     | 20m 36s      |"
      ]
     },
     "metadata": {},
     "output_type": "display_data"
    },
    {
     "data": {
      "text/html": [
       "<pre>| 222560       | 7.9e+10 | 62.8073     | 20m 39s      |</pre>"
      ],
      "text/plain": [
       "| 222560       | 7.9e+10 | 62.8073     | 20m 39s      |"
      ]
     },
     "metadata": {},
     "output_type": "display_data"
    },
    {
     "data": {
      "text/html": [
       "<pre>| 223094       | 7.9e+10 | 62.9578     | 20m 42s      |</pre>"
      ],
      "text/plain": [
       "| 223094       | 7.9e+10 | 62.9578     | 20m 42s      |"
      ]
     },
     "metadata": {},
     "output_type": "display_data"
    },
    {
     "data": {
      "text/html": [
       "<pre>| 223629       | 7.9e+10 | 63.1089     | 20m 45s      |</pre>"
      ],
      "text/plain": [
       "| 223629       | 7.9e+10 | 63.1089     | 20m 45s      |"
      ]
     },
     "metadata": {},
     "output_type": "display_data"
    },
    {
     "data": {
      "text/html": [
       "<pre>| 224159       | 7.9e+10 | 63.2583     | 20m 48s      |</pre>"
      ],
      "text/plain": [
       "| 224159       | 7.9e+10 | 63.2583     | 20m 48s      |"
      ]
     },
     "metadata": {},
     "output_type": "display_data"
    },
    {
     "data": {
      "text/html": [
       "<pre>| 224694       | 8e+10   | 63.4096     | 20m 51s      |</pre>"
      ],
      "text/plain": [
       "| 224694       | 8e+10   | 63.4096     | 20m 51s      |"
      ]
     },
     "metadata": {},
     "output_type": "display_data"
    },
    {
     "data": {
      "text/html": [
       "<pre>| 225224       | 8e+10   | 63.5591     | 20m 54s      |</pre>"
      ],
      "text/plain": [
       "| 225224       | 8e+10   | 63.5591     | 20m 54s      |"
      ]
     },
     "metadata": {},
     "output_type": "display_data"
    },
    {
     "data": {
      "text/html": [
       "<pre>| 225756       |         | 63.709      | 20m 57s      |</pre>"
      ],
      "text/plain": [
       "| 225756       |         | 63.709      | 20m 57s      |"
      ]
     },
     "metadata": {},
     "output_type": "display_data"
    },
    {
     "data": {
      "text/html": [
       "<pre>| 226225       | 8e+10   | 63.8415     | 21m 0s       |</pre>"
      ],
      "text/plain": [
       "| 226225       | 8e+10   | 63.8415     | 21m 0s       |"
      ]
     },
     "metadata": {},
     "output_type": "display_data"
    },
    {
     "data": {
      "text/html": [
       "<pre>| 226744       | 8e+10   | 63.9879     | 21m 3s       |</pre>"
      ],
      "text/plain": [
       "| 226744       | 8e+10   | 63.9879     | 21m 3s       |"
      ]
     },
     "metadata": {},
     "output_type": "display_data"
    },
    {
     "data": {
      "text/html": [
       "<pre>| 227276       | 8.1e+10 | 64.1381     | 21m 6s       |</pre>"
      ],
      "text/plain": [
       "| 227276       | 8.1e+10 | 64.1381     | 21m 6s       |"
      ]
     },
     "metadata": {},
     "output_type": "display_data"
    },
    {
     "data": {
      "text/html": [
       "<pre>| 227807       | 8.1e+10 | 64.288      | 21m 9s       |</pre>"
      ],
      "text/plain": [
       "| 227807       | 8.1e+10 | 64.288      | 21m 9s       |"
      ]
     },
     "metadata": {},
     "output_type": "display_data"
    },
    {
     "data": {
      "text/html": [
       "<pre>| 228334       | 8.1e+10 | 64.4366     | 21m 12s      |</pre>"
      ],
      "text/plain": [
       "| 228334       | 8.1e+10 | 64.4366     | 21m 12s      |"
      ]
     },
     "metadata": {},
     "output_type": "display_data"
    },
    {
     "data": {
      "text/html": [
       "<pre>| 228865       | 8.1e+10 | 64.5865     | 21m 15s      |</pre>"
      ],
      "text/plain": [
       "| 228865       | 8.1e+10 | 64.5865     | 21m 15s      |"
      ]
     },
     "metadata": {},
     "output_type": "display_data"
    },
    {
     "data": {
      "text/html": [
       "<pre>| 229402       | 8.1e+10 | 64.7381     | 21m 18s      |</pre>"
      ],
      "text/plain": [
       "| 229402       | 8.1e+10 | 64.7381     | 21m 18s      |"
      ]
     },
     "metadata": {},
     "output_type": "display_data"
    },
    {
     "data": {
      "text/html": [
       "<pre>| 229938       | 8.1e+10 | 64.8894     | 21m 21s      |</pre>"
      ],
      "text/plain": [
       "| 229938       | 8.1e+10 | 64.8894     | 21m 21s      |"
      ]
     },
     "metadata": {},
     "output_type": "display_data"
    },
    {
     "data": {
      "text/html": [
       "<pre>| 230474       | 8.2e+10 | 65.0405     | 21m 24s      |</pre>"
      ],
      "text/plain": [
       "| 230474       | 8.2e+10 | 65.0405     | 21m 24s      |"
      ]
     },
     "metadata": {},
     "output_type": "display_data"
    },
    {
     "data": {
      "text/html": [
       "<pre>| 231012       | 8.2e+10 | 65.1923     | 21m 27s      |</pre>"
      ],
      "text/plain": [
       "| 231012       | 8.2e+10 | 65.1923     | 21m 27s      |"
      ]
     },
     "metadata": {},
     "output_type": "display_data"
    },
    {
     "data": {
      "text/html": [
       "<pre>| 231544       | 8.2e+10 | 65.3426     | 21m 30s      |</pre>"
      ],
      "text/plain": [
       "| 231544       | 8.2e+10 | 65.3426     | 21m 30s      |"
      ]
     },
     "metadata": {},
     "output_type": "display_data"
    },
    {
     "data": {
      "text/html": [
       "<pre>| 232086       | 8.2e+10 | 65.4955     | 21m 33s      |</pre>"
      ],
      "text/plain": [
       "| 232086       | 8.2e+10 | 65.4955     | 21m 33s      |"
      ]
     },
     "metadata": {},
     "output_type": "display_data"
    },
    {
     "data": {
      "text/html": [
       "<pre>| 232626       | 8.2e+10 | 65.6478     | 21m 36s      |</pre>"
      ],
      "text/plain": [
       "| 232626       | 8.2e+10 | 65.6478     | 21m 36s      |"
      ]
     },
     "metadata": {},
     "output_type": "display_data"
    },
    {
     "data": {
      "text/html": [
       "<pre>| 233165       | 8.3e+10 | 65.8001     | 21m 39s      |</pre>"
      ],
      "text/plain": [
       "| 233165       | 8.3e+10 | 65.8001     | 21m 39s      |"
      ]
     },
     "metadata": {},
     "output_type": "display_data"
    },
    {
     "data": {
      "text/html": [
       "<pre>| 233702       | 8.3e+10 | 65.9514     | 21m 42s      |</pre>"
      ],
      "text/plain": [
       "| 233702       | 8.3e+10 | 65.9514     | 21m 42s      |"
      ]
     },
     "metadata": {},
     "output_type": "display_data"
    },
    {
     "data": {
      "text/html": [
       "<pre>| 234241       |         | 66.1037     | 21m 45s      |</pre>"
      ],
      "text/plain": [
       "| 234241       |         | 66.1037     | 21m 45s      |"
      ]
     },
     "metadata": {},
     "output_type": "display_data"
    },
    {
     "data": {
      "text/html": [
       "<pre>| 234779       | 8.3e+10 | 66.2555     | 21m 48s      |</pre>"
      ],
      "text/plain": [
       "| 234779       | 8.3e+10 | 66.2555     | 21m 48s      |"
      ]
     },
     "metadata": {},
     "output_type": "display_data"
    },
    {
     "data": {
      "text/html": [
       "<pre>| 235328       | 8.3e+10 | 66.4103     | 21m 51s      |</pre>"
      ],
      "text/plain": [
       "| 235328       | 8.3e+10 | 66.4103     | 21m 51s      |"
      ]
     },
     "metadata": {},
     "output_type": "display_data"
    },
    {
     "data": {
      "text/html": [
       "<pre>| 235874       | 8.4e+10 | 66.5643     | 21m 54s      |</pre>"
      ],
      "text/plain": [
       "| 235874       | 8.4e+10 | 66.5643     | 21m 54s      |"
      ]
     },
     "metadata": {},
     "output_type": "display_data"
    },
    {
     "data": {
      "text/html": [
       "<pre>| 236419       | 8.4e+10 | 66.7183     | 21m 57s      |</pre>"
      ],
      "text/plain": [
       "| 236419       | 8.4e+10 | 66.7183     | 21m 57s      |"
      ]
     },
     "metadata": {},
     "output_type": "display_data"
    },
    {
     "data": {
      "text/html": [
       "<pre>| 236960       | 8.4e+10 | 66.8709     | 22m 0s       |</pre>"
      ],
      "text/plain": [
       "| 236960       | 8.4e+10 | 66.8709     | 22m 0s       |"
      ]
     },
     "metadata": {},
     "output_type": "display_data"
    },
    {
     "data": {
      "text/html": [
       "<pre>| 237510       | 8.4e+10 | 67.0262     | 22m 3s       |</pre>"
      ],
      "text/plain": [
       "| 237510       | 8.4e+10 | 67.0262     | 22m 3s       |"
      ]
     },
     "metadata": {},
     "output_type": "display_data"
    },
    {
     "data": {
      "text/html": [
       "<pre>| 238034       | 8.4e+10 | 67.1741     | 22m 6s       |</pre>"
      ],
      "text/plain": [
       "| 238034       | 8.4e+10 | 67.1741     | 22m 6s       |"
      ]
     },
     "metadata": {},
     "output_type": "display_data"
    },
    {
     "data": {
      "text/html": [
       "<pre>| 238575       | 8.5e+10 | 67.3267     | 22m 9s       |</pre>"
      ],
      "text/plain": [
       "| 238575       | 8.5e+10 | 67.3267     | 22m 9s       |"
      ]
     },
     "metadata": {},
     "output_type": "display_data"
    },
    {
     "data": {
      "text/html": [
       "<pre>| 239116       | 8.5e+10 | 67.4795     | 22m 12s      |</pre>"
      ],
      "text/plain": [
       "| 239116       | 8.5e+10 | 67.4795     | 22m 12s      |"
      ]
     },
     "metadata": {},
     "output_type": "display_data"
    },
    {
     "data": {
      "text/html": [
       "<pre>| 239656       | 8.5e+10 | 67.6318     | 22m 15s      |</pre>"
      ],
      "text/plain": [
       "| 239656       | 8.5e+10 | 67.6318     | 22m 15s      |"
      ]
     },
     "metadata": {},
     "output_type": "display_data"
    },
    {
     "data": {
      "text/html": [
       "<pre>| 240202       | 8.5e+10 | 67.7859     | 22m 18s      |</pre>"
      ],
      "text/plain": [
       "| 240202       | 8.5e+10 | 67.7859     | 22m 18s      |"
      ]
     },
     "metadata": {},
     "output_type": "display_data"
    },
    {
     "data": {
      "text/html": [
       "<pre>| 240748       | 8.5e+10 | 67.9399     | 22m 21s      |</pre>"
      ],
      "text/plain": [
       "| 240748       | 8.5e+10 | 67.9399     | 22m 21s      |"
      ]
     },
     "metadata": {},
     "output_type": "display_data"
    },
    {
     "data": {
      "text/html": [
       "<pre>| 241295       | 8.6e+10 | 68.0944     | 22m 24s      |</pre>"
      ],
      "text/plain": [
       "| 241295       | 8.6e+10 | 68.0944     | 22m 24s      |"
      ]
     },
     "metadata": {},
     "output_type": "display_data"
    },
    {
     "data": {
      "text/html": [
       "<pre>| 241834       | 8.6e+10 | 68.2465     | 22m 27s      |</pre>"
      ],
      "text/plain": [
       "| 241834       | 8.6e+10 | 68.2465     | 22m 27s      |"
      ]
     },
     "metadata": {},
     "output_type": "display_data"
    },
    {
     "data": {
      "text/html": [
       "<pre>| 242359       | 8.6e+10 | 68.3945     | 22m 30s      |</pre>"
      ],
      "text/plain": [
       "| 242359       | 8.6e+10 | 68.3945     | 22m 30s      |"
      ]
     },
     "metadata": {},
     "output_type": "display_data"
    },
    {
     "data": {
      "text/html": [
       "<pre>| 242840       | 8.6e+10 | 68.5303     | 22m 33s      |</pre>"
      ],
      "text/plain": [
       "| 242840       | 8.6e+10 | 68.5303     | 22m 33s      |"
      ]
     },
     "metadata": {},
     "output_type": "display_data"
    },
    {
     "data": {
      "text/html": [
       "<pre>| 243356       | 8.6e+10 | 68.676      | 22m 36s      |</pre>"
      ],
      "text/plain": [
       "| 243356       | 8.6e+10 | 68.676      | 22m 36s      |"
      ]
     },
     "metadata": {},
     "output_type": "display_data"
    },
    {
     "data": {
      "text/html": [
       "<pre>| 243875       | 8.6e+10 | 68.8223     | 22m 39s      |</pre>"
      ],
      "text/plain": [
       "| 243875       | 8.6e+10 | 68.8223     | 22m 39s      |"
      ]
     },
     "metadata": {},
     "output_type": "display_data"
    },
    {
     "data": {
      "text/html": [
       "<pre>| 244375       | 8.7e+10 | 68.9634     | 22m 42s      |</pre>"
      ],
      "text/plain": [
       "| 244375       | 8.7e+10 | 68.9634     | 22m 42s      |"
      ]
     },
     "metadata": {},
     "output_type": "display_data"
    },
    {
     "data": {
      "text/html": [
       "<pre>| 244912       | 8.7e+10 | 69.1151     | 22m 45s      |</pre>"
      ],
      "text/plain": [
       "| 244912       | 8.7e+10 | 69.1151     | 22m 45s      |"
      ]
     },
     "metadata": {},
     "output_type": "display_data"
    },
    {
     "data": {
      "text/html": [
       "<pre>| 245452       | 8.7e+10 | 69.2675     | 22m 48s      |</pre>"
      ],
      "text/plain": [
       "| 245452       | 8.7e+10 | 69.2675     | 22m 48s      |"
      ]
     },
     "metadata": {},
     "output_type": "display_data"
    },
    {
     "data": {
      "text/html": [
       "<pre>| 245998       | 8.7e+10 | 69.4214     | 22m 51s      |</pre>"
      ],
      "text/plain": [
       "| 245998       | 8.7e+10 | 69.4214     | 22m 51s      |"
      ]
     },
     "metadata": {},
     "output_type": "display_data"
    },
    {
     "data": {
      "text/html": [
       "<pre>| 246540       | 8.7e+10 | 69.5744     | 22m 54s      |</pre>"
      ],
      "text/plain": [
       "| 246540       | 8.7e+10 | 69.5744     | 22m 54s      |"
      ]
     },
     "metadata": {},
     "output_type": "display_data"
    },
    {
     "data": {
      "text/html": [
       "<pre>| 247083       | 8.8e+10 | 69.7276     | 22m 57s      |</pre>"
      ],
      "text/plain": [
       "| 247083       | 8.8e+10 | 69.7276     | 22m 57s      |"
      ]
     },
     "metadata": {},
     "output_type": "display_data"
    },
    {
     "data": {
      "text/html": [
       "<pre>| 247623       | 8.8e+10 | 69.88       | 23m 0s       |</pre>"
      ],
      "text/plain": [
       "| 247623       | 8.8e+10 | 69.88       | 23m 0s       |"
      ]
     },
     "metadata": {},
     "output_type": "display_data"
    },
    {
     "data": {
      "text/html": [
       "<pre>| 248171       | 8.8e+10 | 70.0347     | 23m 3s       |</pre>"
      ],
      "text/plain": [
       "| 248171       | 8.8e+10 | 70.0347     | 23m 3s       |"
      ]
     },
     "metadata": {},
     "output_type": "display_data"
    },
    {
     "data": {
      "text/html": [
       "<pre>| 248712       | 8.8e+10 | 70.1874     | 23m 6s       |</pre>"
      ],
      "text/plain": [
       "| 248712       | 8.8e+10 | 70.1874     | 23m 6s       |"
      ]
     },
     "metadata": {},
     "output_type": "display_data"
    },
    {
     "data": {
      "text/html": [
       "<pre>| 249253       | 8.8e+10 | 70.34       | 23m 9s       |</pre>"
      ],
      "text/plain": [
       "| 249253       | 8.8e+10 | 70.34       | 23m 9s       |"
      ]
     },
     "metadata": {},
     "output_type": "display_data"
    },
    {
     "data": {
      "text/html": [
       "<pre>| 249798       | 8.9e+10 | 70.494      | 23m 12s      |</pre>"
      ],
      "text/plain": [
       "| 249798       | 8.9e+10 | 70.494      | 23m 12s      |"
      ]
     },
     "metadata": {},
     "output_type": "display_data"
    },
    {
     "data": {
      "text/html": [
       "<pre>| 250340       | 8.9e+10 | 70.6469     | 23m 15s      |</pre>"
      ],
      "text/plain": [
       "| 250340       | 8.9e+10 | 70.6469     | 23m 15s      |"
      ]
     },
     "metadata": {},
     "output_type": "display_data"
    },
    {
     "data": {
      "text/html": [
       "<pre>| 250885       | 8.9e+10 | 70.8005     | 23m 18s      |</pre>"
      ],
      "text/plain": [
       "| 250885       | 8.9e+10 | 70.8005     | 23m 18s      |"
      ]
     },
     "metadata": {},
     "output_type": "display_data"
    },
    {
     "data": {
      "text/html": [
       "<pre>| 251425       | 8.9e+10 | 70.953      | 23m 21s      |</pre>"
      ],
      "text/plain": [
       "| 251425       | 8.9e+10 | 70.953      | 23m 21s      |"
      ]
     },
     "metadata": {},
     "output_type": "display_data"
    },
    {
     "data": {
      "text/html": [
       "<pre>| 251973       | 8.9e+10 | 71.1076     | 23m 24s      |</pre>"
      ],
      "text/plain": [
       "| 251973       | 8.9e+10 | 71.1076     | 23m 24s      |"
      ]
     },
     "metadata": {},
     "output_type": "display_data"
    },
    {
     "data": {
      "text/html": [
       "<pre>| 252521       | 8.9e+10 | 71.2623     | 23m 27s      |</pre>"
      ],
      "text/plain": [
       "| 252521       | 8.9e+10 | 71.2623     | 23m 27s      |"
      ]
     },
     "metadata": {},
     "output_type": "display_data"
    },
    {
     "data": {
      "text/html": [
       "<pre>| 253067       | 9e+10   | 71.4164     | 23m 30s      |</pre>"
      ],
      "text/plain": [
       "| 253067       | 9e+10   | 71.4164     | 23m 30s      |"
      ]
     },
     "metadata": {},
     "output_type": "display_data"
    },
    {
     "data": {
      "text/html": [
       "<pre>| 253615       | 9e+10   | 71.5712     | 23m 33s      |</pre>"
      ],
      "text/plain": [
       "| 253615       | 9e+10   | 71.5712     | 23m 33s      |"
      ]
     },
     "metadata": {},
     "output_type": "display_data"
    },
    {
     "data": {
      "text/html": [
       "<pre>| 254159       | 9e+10   | 71.7247     | 23m 36s      |</pre>"
      ],
      "text/plain": [
       "| 254159       | 9e+10   | 71.7247     | 23m 36s      |"
      ]
     },
     "metadata": {},
     "output_type": "display_data"
    },
    {
     "data": {
      "text/html": [
       "<pre>| 254700       | 9e+10   | 71.8772     | 23m 39s      |</pre>"
      ],
      "text/plain": [
       "| 254700       | 9e+10   | 71.8772     | 23m 39s      |"
      ]
     },
     "metadata": {},
     "output_type": "display_data"
    },
    {
     "data": {
      "text/html": [
       "<pre>| 255244       | 9e+10   | 72.0308     | 23m 42s      |</pre>"
      ],
      "text/plain": [
       "| 255244       | 9e+10   | 72.0308     | 23m 42s      |"
      ]
     },
     "metadata": {},
     "output_type": "display_data"
    },
    {
     "data": {
      "text/html": [
       "<pre>| 255792       | 9.1e+10 | 72.1855     | 23m 45s      |</pre>"
      ],
      "text/plain": [
       "| 255792       | 9.1e+10 | 72.1855     | 23m 45s      |"
      ]
     },
     "metadata": {},
     "output_type": "display_data"
    },
    {
     "data": {
      "text/html": [
       "<pre>| 256346       | 9.1e+10 | 72.3417     | 23m 48s      |</pre>"
      ],
      "text/plain": [
       "| 256346       | 9.1e+10 | 72.3417     | 23m 48s      |"
      ]
     },
     "metadata": {},
     "output_type": "display_data"
    },
    {
     "data": {
      "text/html": [
       "<pre>| 256894       | 9.1e+10 | 72.4964     | 23m 51s      |</pre>"
      ],
      "text/plain": [
       "| 256894       | 9.1e+10 | 72.4964     | 23m 51s      |"
      ]
     },
     "metadata": {},
     "output_type": "display_data"
    },
    {
     "data": {
      "text/html": [
       "<pre>| 257442       | 9.1e+10 | 72.6509     | 23m 54s      |</pre>"
      ],
      "text/plain": [
       "| 257442       | 9.1e+10 | 72.6509     | 23m 54s      |"
      ]
     },
     "metadata": {},
     "output_type": "display_data"
    },
    {
     "data": {
      "text/html": [
       "<pre>| 257996       | 9.1e+10 | 72.8072     | 23m 57s      |</pre>"
      ],
      "text/plain": [
       "| 257996       | 9.1e+10 | 72.8072     | 23m 57s      |"
      ]
     },
     "metadata": {},
     "output_type": "display_data"
    },
    {
     "data": {
      "text/html": [
       "<pre>| 258549       | 9.2e+10 | 72.9634     | 24m 0s       |</pre>"
      ],
      "text/plain": [
       "| 258549       | 9.2e+10 | 72.9634     | 24m 0s       |"
      ]
     },
     "metadata": {},
     "output_type": "display_data"
    },
    {
     "data": {
      "text/html": [
       "<pre>| 259097       | 9.2e+10 | 73.1181     | 24m 3s       |</pre>"
      ],
      "text/plain": [
       "| 259097       | 9.2e+10 | 73.1181     | 24m 3s       |"
      ]
     },
     "metadata": {},
     "output_type": "display_data"
    },
    {
     "data": {
      "text/html": [
       "<pre>| 259638       |         | 73.2708     | 24m 6s       |</pre>"
      ],
      "text/plain": [
       "| 259638       |         | 73.2708     | 24m 6s       |"
      ]
     },
     "metadata": {},
     "output_type": "display_data"
    },
    {
     "data": {
      "text/html": [
       "<pre>| 260183       | 9.2e+10 | 73.4245     | 24m 9s       |</pre>"
      ],
      "text/plain": [
       "| 260183       | 9.2e+10 | 73.4245     | 24m 9s       |"
      ]
     },
     "metadata": {},
     "output_type": "display_data"
    },
    {
     "data": {
      "text/html": [
       "<pre>| 260735       | 9.2e+10 | 73.5802     | 24m 12s      |</pre>"
      ],
      "text/plain": [
       "| 260735       | 9.2e+10 | 73.5802     | 24m 12s      |"
      ]
     },
     "metadata": {},
     "output_type": "display_data"
    },
    {
     "data": {
      "text/html": [
       "<pre>| 261290       | 9.3e+10 | 73.737      | 24m 15s      |</pre>"
      ],
      "text/plain": [
       "| 261290       | 9.3e+10 | 73.737      | 24m 15s      |"
      ]
     },
     "metadata": {},
     "output_type": "display_data"
    },
    {
     "data": {
      "text/html": [
       "<pre>| 261841       | 9.3e+10 | 73.8923     | 24m 18s      |</pre>"
      ],
      "text/plain": [
       "| 261841       | 9.3e+10 | 73.8923     | 24m 18s      |"
      ]
     },
     "metadata": {},
     "output_type": "display_data"
    },
    {
     "data": {
      "text/html": [
       "<pre>| 262391       | 9.3e+10 | 74.0478     | 24m 21s      |</pre>"
      ],
      "text/plain": [
       "| 262391       | 9.3e+10 | 74.0478     | 24m 21s      |"
      ]
     },
     "metadata": {},
     "output_type": "display_data"
    },
    {
     "data": {
      "text/html": [
       "<pre>| 262940       | 9.3e+10 | 74.2025     | 24m 24s      |</pre>"
      ],
      "text/plain": [
       "| 262940       | 9.3e+10 | 74.2025     | 24m 24s      |"
      ]
     },
     "metadata": {},
     "output_type": "display_data"
    },
    {
     "data": {
      "text/html": [
       "<pre>| 263492       | 9.3e+10 | 74.3582     | 24m 27s      |</pre>"
      ],
      "text/plain": [
       "| 263492       | 9.3e+10 | 74.3582     | 24m 27s      |"
      ]
     },
     "metadata": {},
     "output_type": "display_data"
    },
    {
     "data": {
      "text/html": [
       "<pre>| 264046       | 9.4e+10 | 74.5146     | 24m 30s      |</pre>"
      ],
      "text/plain": [
       "| 264046       | 9.4e+10 | 74.5146     | 24m 30s      |"
      ]
     },
     "metadata": {},
     "output_type": "display_data"
    },
    {
     "data": {
      "text/html": [
       "<pre>| 264598       | 9.4e+10 | 74.6706     | 24m 33s      |</pre>"
      ],
      "text/plain": [
       "| 264598       | 9.4e+10 | 74.6706     | 24m 33s      |"
      ]
     },
     "metadata": {},
     "output_type": "display_data"
    },
    {
     "data": {
      "text/html": [
       "<pre>| 265157       | 9.4e+10 | 74.8282     | 24m 36s      |</pre>"
      ],
      "text/plain": [
       "| 265157       | 9.4e+10 | 74.8282     | 24m 36s      |"
      ]
     },
     "metadata": {},
     "output_type": "display_data"
    },
    {
     "data": {
      "text/html": [
       "<pre>| 265712       | 9.4e+10 | 74.9849     | 24m 39s      |</pre>"
      ],
      "text/plain": [
       "| 265712       | 9.4e+10 | 74.9849     | 24m 39s      |"
      ]
     },
     "metadata": {},
     "output_type": "display_data"
    },
    {
     "data": {
      "text/html": [
       "<pre>| 266167       | 9.4e+10 | 75.1133     | 24m 42s      |</pre>"
      ],
      "text/plain": [
       "| 266167       | 9.4e+10 | 75.1133     | 24m 42s      |"
      ]
     },
     "metadata": {},
     "output_type": "display_data"
    },
    {
     "data": {
      "text/html": [
       "<pre>| 266704       | 9.5e+10 | 75.2649     | 24m 45s      |</pre>"
      ],
      "text/plain": [
       "| 266704       | 9.5e+10 | 75.2649     | 24m 45s      |"
      ]
     },
     "metadata": {},
     "output_type": "display_data"
    },
    {
     "data": {
      "text/html": [
       "<pre>| 267239       | 9.5e+10 | 75.4159     | 24m 48s      |</pre>"
      ],
      "text/plain": [
       "| 267239       | 9.5e+10 | 75.4159     | 24m 48s      |"
      ]
     },
     "metadata": {},
     "output_type": "display_data"
    },
    {
     "data": {
      "text/html": [
       "<pre>| 267772       | 9.5e+10 | 75.5661     | 24m 51s      |</pre>"
      ],
      "text/plain": [
       "| 267772       | 9.5e+10 | 75.5661     | 24m 51s      |"
      ]
     },
     "metadata": {},
     "output_type": "display_data"
    },
    {
     "data": {
      "text/html": [
       "<pre>| 268301       | 9.5e+10 | 75.7156     | 24m 54s      |</pre>"
      ],
      "text/plain": [
       "| 268301       | 9.5e+10 | 75.7156     | 24m 54s      |"
      ]
     },
     "metadata": {},
     "output_type": "display_data"
    },
    {
     "data": {
      "text/html": [
       "<pre>| 268831       | 9.5e+10 | 75.8651     | 24m 57s      |</pre>"
      ],
      "text/plain": [
       "| 268831       | 9.5e+10 | 75.8651     | 24m 57s      |"
      ]
     },
     "metadata": {},
     "output_type": "display_data"
    },
    {
     "data": {
      "text/html": [
       "<pre>| 269357       | 9.5e+10 | 76.0136     | 25m 0s       |</pre>"
      ],
      "text/plain": [
       "| 269357       | 9.5e+10 | 76.0136     | 25m 0s       |"
      ]
     },
     "metadata": {},
     "output_type": "display_data"
    },
    {
     "data": {
      "text/html": [
       "<pre>| 269886       | 9.6e+10 | 76.1628     | 25m 3s       |</pre>"
      ],
      "text/plain": [
       "| 269886       | 9.6e+10 | 76.1628     | 25m 3s       |"
      ]
     },
     "metadata": {},
     "output_type": "display_data"
    },
    {
     "data": {
      "text/html": [
       "<pre>| 270416       | 9.6e+10 | 76.3122     | 25m 6s       |</pre>"
      ],
      "text/plain": [
       "| 270416       | 9.6e+10 | 76.3122     | 25m 6s       |"
      ]
     },
     "metadata": {},
     "output_type": "display_data"
    },
    {
     "data": {
      "text/html": [
       "<pre>| 270946       | 9.6e+10 | 76.4619     | 25m 9s       |</pre>"
      ],
      "text/plain": [
       "| 270946       | 9.6e+10 | 76.4619     | 25m 9s       |"
      ]
     },
     "metadata": {},
     "output_type": "display_data"
    },
    {
     "data": {
      "text/html": [
       "<pre>| 271478       | 9.6e+10 | 76.6119     | 25m 12s      |</pre>"
      ],
      "text/plain": [
       "| 271478       | 9.6e+10 | 76.6119     | 25m 12s      |"
      ]
     },
     "metadata": {},
     "output_type": "display_data"
    },
    {
     "data": {
      "text/html": [
       "<pre>| 272008       | 9.6e+10 | 76.7615     | 25m 15s      |</pre>"
      ],
      "text/plain": [
       "| 272008       | 9.6e+10 | 76.7615     | 25m 15s      |"
      ]
     },
     "metadata": {},
     "output_type": "display_data"
    },
    {
     "data": {
      "text/html": [
       "<pre>| 272539       | 9.7e+10 | 76.9113     | 25m 18s      |</pre>"
      ],
      "text/plain": [
       "| 272539       | 9.7e+10 | 76.9113     | 25m 18s      |"
      ]
     },
     "metadata": {},
     "output_type": "display_data"
    },
    {
     "data": {
      "text/html": [
       "<pre>| 273066       | 9.7e+10 | 77.0602     | 25m 21s      |</pre>"
      ],
      "text/plain": [
       "| 273066       | 9.7e+10 | 77.0602     | 25m 21s      |"
      ]
     },
     "metadata": {},
     "output_type": "display_data"
    },
    {
     "data": {
      "text/html": [
       "<pre>| 273595       | 9.7e+10 | 77.2094     | 25m 24s      |</pre>"
      ],
      "text/plain": [
       "| 273595       | 9.7e+10 | 77.2094     | 25m 24s      |"
      ]
     },
     "metadata": {},
     "output_type": "display_data"
    },
    {
     "data": {
      "text/html": [
       "<pre>| 274122       | 9.7e+10 | 77.3581     | 25m 27s      |</pre>"
      ],
      "text/plain": [
       "| 274122       | 9.7e+10 | 77.3581     | 25m 27s      |"
      ]
     },
     "metadata": {},
     "output_type": "display_data"
    },
    {
     "data": {
      "text/html": [
       "<pre>| 274648       | 9.7e+10 | 77.5067     | 25m 30s      |</pre>"
      ],
      "text/plain": [
       "| 274648       | 9.7e+10 | 77.5067     | 25m 30s      |"
      ]
     },
     "metadata": {},
     "output_type": "display_data"
    },
    {
     "data": {
      "text/html": [
       "<pre>| 275169       | 9.8e+10 | 77.6537     | 25m 33s      |</pre>"
      ],
      "text/plain": [
       "| 275169       | 9.8e+10 | 77.6537     | 25m 33s      |"
      ]
     },
     "metadata": {},
     "output_type": "display_data"
    },
    {
     "data": {
      "text/html": [
       "<pre>| 275697       | 9.8e+10 | 77.8027     | 25m 36s      |</pre>"
      ],
      "text/plain": [
       "| 275697       | 9.8e+10 | 77.8027     | 25m 36s      |"
      ]
     },
     "metadata": {},
     "output_type": "display_data"
    },
    {
     "data": {
      "text/html": [
       "<pre>| 276232       | 9.8e+10 | 77.9536     | 25m 39s      |</pre>"
      ],
      "text/plain": [
       "| 276232       | 9.8e+10 | 77.9536     | 25m 39s      |"
      ]
     },
     "metadata": {},
     "output_type": "display_data"
    },
    {
     "data": {
      "text/html": [
       "<pre>| 276759       | 9.8e+10 | 78.1024     | 25m 42s      |</pre>"
      ],
      "text/plain": [
       "| 276759       | 9.8e+10 | 78.1024     | 25m 42s      |"
      ]
     },
     "metadata": {},
     "output_type": "display_data"
    },
    {
     "data": {
      "text/html": [
       "<pre>| 277289       | 9.8e+10 | 78.252      | 25m 45s      |</pre>"
      ],
      "text/plain": [
       "| 277289       | 9.8e+10 | 78.252      | 25m 45s      |"
      ]
     },
     "metadata": {},
     "output_type": "display_data"
    },
    {
     "data": {
      "text/html": [
       "<pre>| 277819       | 9.8e+10 | 78.4015     | 25m 48s      |</pre>"
      ],
      "text/plain": [
       "| 277819       | 9.8e+10 | 78.4015     | 25m 48s      |"
      ]
     },
     "metadata": {},
     "output_type": "display_data"
    },
    {
     "data": {
      "text/html": [
       "<pre>| 278350       | 9.9e+10 | 78.5512     | 25m 51s      |</pre>"
      ],
      "text/plain": [
       "| 278350       | 9.9e+10 | 78.5512     | 25m 51s      |"
      ]
     },
     "metadata": {},
     "output_type": "display_data"
    },
    {
     "data": {
      "text/html": [
       "<pre>| 278876       | 9.9e+10 | 78.6996     | 25m 54s      |</pre>"
      ],
      "text/plain": [
       "| 278876       | 9.9e+10 | 78.6996     | 25m 54s      |"
      ]
     },
     "metadata": {},
     "output_type": "display_data"
    },
    {
     "data": {
      "text/html": [
       "<pre>| 279409       | 9.9e+10 | 78.8502     | 25m 57s      |</pre>"
      ],
      "text/plain": [
       "| 279409       | 9.9e+10 | 78.8502     | 25m 57s      |"
      ]
     },
     "metadata": {},
     "output_type": "display_data"
    },
    {
     "data": {
      "text/html": [
       "<pre>| 279941       | 9.9e+10 | 79.0003     | 26m 0s       |</pre>"
      ],
      "text/plain": [
       "| 279941       | 9.9e+10 | 79.0003     | 26m 0s       |"
      ]
     },
     "metadata": {},
     "output_type": "display_data"
    },
    {
     "data": {
      "text/html": [
       "<pre>| 280465       | 9.9e+10 | 79.1481     | 26m 3s       |</pre>"
      ],
      "text/plain": [
       "| 280465       | 9.9e+10 | 79.1481     | 26m 3s       |"
      ]
     },
     "metadata": {},
     "output_type": "display_data"
    },
    {
     "data": {
      "text/html": [
       "<pre>| 280949       | 1e+11   | 79.2849     | 26m 6s       |</pre>"
      ],
      "text/plain": [
       "| 280949       | 1e+11   | 79.2849     | 26m 6s       |"
      ]
     },
     "metadata": {},
     "output_type": "display_data"
    },
    {
     "data": {
      "text/html": [
       "<pre>| 281476       | 1e+11   | 79.4334     | 26m 9s       |</pre>"
      ],
      "text/plain": [
       "| 281476       | 1e+11   | 79.4334     | 26m 9s       |"
      ]
     },
     "metadata": {},
     "output_type": "display_data"
    },
    {
     "data": {
      "text/html": [
       "<pre>| 281957       | 1e+11   | 79.5692     | 26m 12s      |</pre>"
      ],
      "text/plain": [
       "| 281957       | 1e+11   | 79.5692     | 26m 12s      |"
      ]
     },
     "metadata": {},
     "output_type": "display_data"
    },
    {
     "data": {
      "text/html": [
       "<pre>| 282418       | 1e+11   | 79.6994     | 26m 15s      |</pre>"
      ],
      "text/plain": [
       "| 282418       | 1e+11   | 79.6994     | 26m 15s      |"
      ]
     },
     "metadata": {},
     "output_type": "display_data"
    },
    {
     "data": {
      "text/html": [
       "<pre>| 282915       | 1e+11   | 79.8396     | 26m 18s      |</pre>"
      ],
      "text/plain": [
       "| 282915       | 1e+11   | 79.8396     | 26m 18s      |"
      ]
     },
     "metadata": {},
     "output_type": "display_data"
    },
    {
     "data": {
      "text/html": [
       "<pre>| 283359       | 1e+11   | 79.9649     | 26m 21s      |</pre>"
      ],
      "text/plain": [
       "| 283359       | 1e+11   | 79.9649     | 26m 21s      |"
      ]
     },
     "metadata": {},
     "output_type": "display_data"
    },
    {
     "data": {
      "text/html": [
       "<pre>| 283850       | 1e+11   | 80.1036     | 26m 24s      |</pre>"
      ],
      "text/plain": [
       "| 283850       | 1e+11   | 80.1036     | 26m 24s      |"
      ]
     },
     "metadata": {},
     "output_type": "display_data"
    },
    {
     "data": {
      "text/html": [
       "<pre>| 284379       | 1e+11   | 80.2527     | 26m 27s      |</pre>"
      ],
      "text/plain": [
       "| 284379       | 1e+11   | 80.2527     | 26m 27s      |"
      ]
     },
     "metadata": {},
     "output_type": "display_data"
    },
    {
     "data": {
      "text/html": [
       "<pre>| 284857       | 1e+11   | 80.3875     | 26m 30s      |</pre>"
      ],
      "text/plain": [
       "| 284857       | 1e+11   | 80.3875     | 26m 30s      |"
      ]
     },
     "metadata": {},
     "output_type": "display_data"
    },
    {
     "data": {
      "text/html": [
       "<pre>| 285384       | 1e+11   | 80.5362     | 26m 33s      |</pre>"
      ],
      "text/plain": [
       "| 285384       | 1e+11   | 80.5362     | 26m 33s      |"
      ]
     },
     "metadata": {},
     "output_type": "display_data"
    },
    {
     "data": {
      "text/html": [
       "<pre>| 285893       | 1e+11   | 80.6798     | 26m 36s      |</pre>"
      ],
      "text/plain": [
       "| 285893       | 1e+11   | 80.6798     | 26m 36s      |"
      ]
     },
     "metadata": {},
     "output_type": "display_data"
    },
    {
     "data": {
      "text/html": [
       "<pre>| 286328       | 1e+11   | 80.8027     | 26m 39s      |</pre>"
      ],
      "text/plain": [
       "| 286328       | 1e+11   | 80.8027     | 26m 39s      |"
      ]
     },
     "metadata": {},
     "output_type": "display_data"
    },
    {
     "data": {
      "text/html": [
       "<pre>| 286796       | 1e+11   | 80.9347     | 26m 42s      |</pre>"
      ],
      "text/plain": [
       "| 286796       | 1e+11   | 80.9347     | 26m 42s      |"
      ]
     },
     "metadata": {},
     "output_type": "display_data"
    },
    {
     "data": {
      "text/html": [
       "<pre>| 287311       | 1e+11   | 81.08       | 26m 45s      |</pre>"
      ],
      "text/plain": [
       "| 287311       | 1e+11   | 81.08       | 26m 45s      |"
      ]
     },
     "metadata": {},
     "output_type": "display_data"
    },
    {
     "data": {
      "text/html": [
       "<pre>| 287809       | 1e+11   | 81.2208     | 26m 48s      |</pre>"
      ],
      "text/plain": [
       "| 287809       | 1e+11   | 81.2208     | 26m 48s      |"
      ]
     },
     "metadata": {},
     "output_type": "display_data"
    },
    {
     "data": {
      "text/html": [
       "<pre>| 288309       | 1e+11   | 81.3617     | 26m 51s      |</pre>"
      ],
      "text/plain": [
       "| 288309       | 1e+11   | 81.3617     | 26m 51s      |"
      ]
     },
     "metadata": {},
     "output_type": "display_data"
    },
    {
     "data": {
      "text/html": [
       "<pre>| 288816       | 1e+11   | 81.5047     | 26m 54s      |</pre>"
      ],
      "text/plain": [
       "| 288816       | 1e+11   | 81.5047     | 26m 54s      |"
      ]
     },
     "metadata": {},
     "output_type": "display_data"
    },
    {
     "data": {
      "text/html": [
       "<pre>| 289326       | 1e+11   | 81.6487     | 26m 57s      |</pre>"
      ],
      "text/plain": [
       "| 289326       | 1e+11   | 81.6487     | 26m 57s      |"
      ]
     },
     "metadata": {},
     "output_type": "display_data"
    },
    {
     "data": {
      "text/html": [
       "<pre>| 289836       | 1e+11   | 81.7926     | 27m 0s       |</pre>"
      ],
      "text/plain": [
       "| 289836       | 1e+11   | 81.7926     | 27m 0s       |"
      ]
     },
     "metadata": {},
     "output_type": "display_data"
    },
    {
     "data": {
      "text/html": [
       "<pre>| 290270       | 1e+11   | 81.9152     | 27m 3s       |</pre>"
      ],
      "text/plain": [
       "| 290270       | 1e+11   | 81.9152     | 27m 3s       |"
      ]
     },
     "metadata": {},
     "output_type": "display_data"
    },
    {
     "data": {
      "text/html": [
       "<pre>| 290713       | 1e+11   | 82.0403     | 27m 6s       |</pre>"
      ],
      "text/plain": [
       "| 290713       | 1e+11   | 82.0403     | 27m 6s       |"
      ]
     },
     "metadata": {},
     "output_type": "display_data"
    },
    {
     "data": {
      "text/html": [
       "<pre>| 291193       | 1e+11   | 82.1756     | 27m 9s       |</pre>"
      ],
      "text/plain": [
       "| 291193       | 1e+11   | 82.1756     | 27m 9s       |"
      ]
     },
     "metadata": {},
     "output_type": "display_data"
    },
    {
     "data": {
      "text/html": [
       "<pre>| 291700       | 1e+11   | 82.3186     | 27m 12s      |</pre>"
      ],
      "text/plain": [
       "| 291700       | 1e+11   | 82.3186     | 27m 12s      |"
      ]
     },
     "metadata": {},
     "output_type": "display_data"
    },
    {
     "data": {
      "text/html": [
       "<pre>| 292209       | 1e+11   | 82.4625     | 27m 15s      |</pre>"
      ],
      "text/plain": [
       "| 292209       | 1e+11   | 82.4625     | 27m 15s      |"
      ]
     },
     "metadata": {},
     "output_type": "display_data"
    },
    {
     "data": {
      "text/html": [
       "<pre>| 292715       | 1e+11   | 82.6051     | 27m 18s      |</pre>"
      ],
      "text/plain": [
       "| 292715       | 1e+11   | 82.6051     | 27m 18s      |"
      ]
     },
     "metadata": {},
     "output_type": "display_data"
    },
    {
     "data": {
      "text/html": [
       "<pre>| 293219       | 1e+11   | 82.7472     | 27m 21s      |</pre>"
      ],
      "text/plain": [
       "| 293219       | 1e+11   | 82.7472     | 27m 21s      |"
      ]
     },
     "metadata": {},
     "output_type": "display_data"
    },
    {
     "data": {
      "text/html": [
       "<pre>| 293728       | 1e+11   | 82.891      | 27m 24s      |</pre>"
      ],
      "text/plain": [
       "| 293728       | 1e+11   | 82.891      | 27m 24s      |"
      ]
     },
     "metadata": {},
     "output_type": "display_data"
    },
    {
     "data": {
      "text/html": [
       "<pre>| 294234       | 1e+11   | 83.0338     | 27m 27s      |</pre>"
      ],
      "text/plain": [
       "| 294234       | 1e+11   | 83.0338     | 27m 27s      |"
      ]
     },
     "metadata": {},
     "output_type": "display_data"
    },
    {
     "data": {
      "text/html": [
       "<pre>| 294714       | 1e+11   | 83.1692     | 27m 30s      |</pre>"
      ],
      "text/plain": [
       "| 294714       | 1e+11   | 83.1692     | 27m 30s      |"
      ]
     },
     "metadata": {},
     "output_type": "display_data"
    },
    {
     "data": {
      "text/html": [
       "<pre>| 295183       | 1e+11   | 83.3017     | 27m 33s      |</pre>"
      ],
      "text/plain": [
       "| 295183       | 1e+11   | 83.3017     | 27m 33s      |"
      ]
     },
     "metadata": {},
     "output_type": "display_data"
    },
    {
     "data": {
      "text/html": [
       "<pre>| 295662       | 1e+11   | 83.4369     | 27m 36s      |</pre>"
      ],
      "text/plain": [
       "| 295662       | 1e+11   | 83.4369     | 27m 36s      |"
      ]
     },
     "metadata": {},
     "output_type": "display_data"
    },
    {
     "data": {
      "text/html": [
       "<pre>| 296188       | 1e+11   | 83.5853     | 27m 39s      |</pre>"
      ],
      "text/plain": [
       "| 296188       | 1e+11   | 83.5853     | 27m 39s      |"
      ]
     },
     "metadata": {},
     "output_type": "display_data"
    },
    {
     "data": {
      "text/html": [
       "<pre>| 296715       | 1.1e+11 | 83.7341     | 27m 42s      |</pre>"
      ],
      "text/plain": [
       "| 296715       | 1.1e+11 | 83.7341     | 27m 42s      |"
      ]
     },
     "metadata": {},
     "output_type": "display_data"
    },
    {
     "data": {
      "text/html": [
       "<pre>| 297243       | 1.1e+11 | 83.883      | 27m 45s      |</pre>"
      ],
      "text/plain": [
       "| 297243       | 1.1e+11 | 83.883      | 27m 45s      |"
      ]
     },
     "metadata": {},
     "output_type": "display_data"
    },
    {
     "data": {
      "text/html": [
       "<pre>| 297775       | 1.1e+11 | 84.0332     | 27m 48s      |</pre>"
      ],
      "text/plain": [
       "| 297775       | 1.1e+11 | 84.0332     | 27m 48s      |"
      ]
     },
     "metadata": {},
     "output_type": "display_data"
    },
    {
     "data": {
      "text/html": [
       "<pre>| 298299       | 1.1e+11 | 84.181      | 27m 51s      |</pre>"
      ],
      "text/plain": [
       "| 298299       | 1.1e+11 | 84.181      | 27m 51s      |"
      ]
     },
     "metadata": {},
     "output_type": "display_data"
    },
    {
     "data": {
      "text/html": [
       "<pre>| 298811       | 1.1e+11 | 84.3254     | 27m 54s      |</pre>"
      ],
      "text/plain": [
       "| 298811       | 1.1e+11 | 84.3254     | 27m 54s      |"
      ]
     },
     "metadata": {},
     "output_type": "display_data"
    },
    {
     "data": {
      "text/html": [
       "<pre>| 299326       | 1.1e+11 | 84.4708     | 27m 57s      |</pre>"
      ],
      "text/plain": [
       "| 299326       | 1.1e+11 | 84.4708     | 27m 57s      |"
      ]
     },
     "metadata": {},
     "output_type": "display_data"
    },
    {
     "data": {
      "text/html": [
       "<pre>| 299852       | 1.1e+11 | 84.6192     | 28m 0s       |</pre>"
      ],
      "text/plain": [
       "| 299852       | 1.1e+11 | 84.6192     | 28m 0s       |"
      ]
     },
     "metadata": {},
     "output_type": "display_data"
    },
    {
     "data": {
      "text/html": [
       "<pre>| 300380       | 1.1e+11 | 84.7684     | 28m 3s       |</pre>"
      ],
      "text/plain": [
       "| 300380       | 1.1e+11 | 84.7684     | 28m 3s       |"
      ]
     },
     "metadata": {},
     "output_type": "display_data"
    },
    {
     "data": {
      "text/html": [
       "<pre>| 300901       | 1.1e+11 | 84.9151     | 28m 6s       |</pre>"
      ],
      "text/plain": [
       "| 300901       | 1.1e+11 | 84.9151     | 28m 6s       |"
      ]
     },
     "metadata": {},
     "output_type": "display_data"
    },
    {
     "data": {
      "text/html": [
       "<pre>| 301428       | 1.1e+11 | 85.064      | 28m 9s       |</pre>"
      ],
      "text/plain": [
       "| 301428       | 1.1e+11 | 85.064      | 28m 9s       |"
      ]
     },
     "metadata": {},
     "output_type": "display_data"
    },
    {
     "data": {
      "text/html": [
       "<pre>| 301958       | 1.1e+11 | 85.2136     | 28m 12s      |</pre>"
      ],
      "text/plain": [
       "| 301958       | 1.1e+11 | 85.2136     | 28m 12s      |"
      ]
     },
     "metadata": {},
     "output_type": "display_data"
    },
    {
     "data": {
      "text/html": [
       "<pre>| 302486       | 1.1e+11 | 85.3624     | 28m 15s      |</pre>"
      ],
      "text/plain": [
       "| 302486       | 1.1e+11 | 85.3624     | 28m 15s      |"
      ]
     },
     "metadata": {},
     "output_type": "display_data"
    },
    {
     "data": {
      "text/html": [
       "<pre>| 302980       | 1.1e+11 | 85.5018     | 28m 18s      |</pre>"
      ],
      "text/plain": [
       "| 302980       | 1.1e+11 | 85.5018     | 28m 18s      |"
      ]
     },
     "metadata": {},
     "output_type": "display_data"
    },
    {
     "data": {
      "text/html": [
       "<pre>| 303484       | 1.1e+11 | 85.6441     | 28m 21s      |</pre>"
      ],
      "text/plain": [
       "| 303484       | 1.1e+11 | 85.6441     | 28m 21s      |"
      ]
     },
     "metadata": {},
     "output_type": "display_data"
    },
    {
     "data": {
      "text/html": [
       "<pre>| 303982       | 1.1e+11 | 85.7847     | 28m 24s      |</pre>"
      ],
      "text/plain": [
       "| 303982       | 1.1e+11 | 85.7847     | 28m 24s      |"
      ]
     },
     "metadata": {},
     "output_type": "display_data"
    },
    {
     "data": {
      "text/html": [
       "<pre>| 304492       | 1.1e+11 | 85.9286     | 28m 27s      |</pre>"
      ],
      "text/plain": [
       "| 304492       | 1.1e+11 | 85.9286     | 28m 27s      |"
      ]
     },
     "metadata": {},
     "output_type": "display_data"
    },
    {
     "data": {
      "text/html": [
       "<pre>| 305004       | 1.1e+11 | 86.0731     | 28m 30s      |</pre>"
      ],
      "text/plain": [
       "| 305004       | 1.1e+11 | 86.0731     | 28m 30s      |"
      ]
     },
     "metadata": {},
     "output_type": "display_data"
    },
    {
     "data": {
      "text/html": [
       "<pre>| 305513       | 1.1e+11 | 86.2169     | 28m 33s      |</pre>"
      ],
      "text/plain": [
       "| 305513       | 1.1e+11 | 86.2169     | 28m 33s      |"
      ]
     },
     "metadata": {},
     "output_type": "display_data"
    },
    {
     "data": {
      "text/html": [
       "<pre>| 306026       | 1.1e+11 | 86.3615     | 28m 36s      |</pre>"
      ],
      "text/plain": [
       "| 306026       | 1.1e+11 | 86.3615     | 28m 36s      |"
      ]
     },
     "metadata": {},
     "output_type": "display_data"
    },
    {
     "data": {
      "text/html": [
       "<pre>| 306534       | 1.1e+11 | 86.5049     | 28m 39s      |</pre>"
      ],
      "text/plain": [
       "| 306534       | 1.1e+11 | 86.5049     | 28m 39s      |"
      ]
     },
     "metadata": {},
     "output_type": "display_data"
    },
    {
     "data": {
      "text/html": [
       "<pre>| 307032       | 1.1e+11 | 86.6454     | 28m 42s      |</pre>"
      ],
      "text/plain": [
       "| 307032       | 1.1e+11 | 86.6454     | 28m 42s      |"
      ]
     },
     "metadata": {},
     "output_type": "display_data"
    },
    {
     "data": {
      "text/html": [
       "<pre>| 307551       | 1.1e+11 | 86.792      | 28m 45s      |</pre>"
      ],
      "text/plain": [
       "| 307551       | 1.1e+11 | 86.792      | 28m 45s      |"
      ]
     },
     "metadata": {},
     "output_type": "display_data"
    },
    {
     "data": {
      "text/html": [
       "<pre>| 308083       | 1.1e+11 | 86.9421     | 28m 48s      |</pre>"
      ],
      "text/plain": [
       "| 308083       | 1.1e+11 | 86.9421     | 28m 48s      |"
      ]
     },
     "metadata": {},
     "output_type": "display_data"
    },
    {
     "data": {
      "text/html": [
       "<pre>| 308612       | 1.1e+11 | 87.0913     | 28m 51s      |</pre>"
      ],
      "text/plain": [
       "| 308612       | 1.1e+11 | 87.0913     | 28m 51s      |"
      ]
     },
     "metadata": {},
     "output_type": "display_data"
    },
    {
     "data": {
      "text/html": [
       "<pre>| 309144       | 1.1e+11 | 87.2413     | 28m 54s      |</pre>"
      ],
      "text/plain": [
       "| 309144       | 1.1e+11 | 87.2413     | 28m 54s      |"
      ]
     },
     "metadata": {},
     "output_type": "display_data"
    },
    {
     "data": {
      "text/html": [
       "<pre>| 309675       | 1.1e+11 | 87.3914     | 28m 57s      |</pre>"
      ],
      "text/plain": [
       "| 309675       | 1.1e+11 | 87.3914     | 28m 57s      |"
      ]
     },
     "metadata": {},
     "output_type": "display_data"
    },
    {
     "data": {
      "text/html": [
       "<pre>| 310100       | 1.1e+11 | 87.5111     | 29m 0s       |</pre>"
      ],
      "text/plain": [
       "| 310100       | 1.1e+11 | 87.5111     | 29m 0s       |"
      ]
     },
     "metadata": {},
     "output_type": "display_data"
    },
    {
     "data": {
      "text/html": [
       "<pre>| 310634       | 1.1e+11 | 87.662      | 29m 3s       |</pre>"
      ],
      "text/plain": [
       "| 310634       | 1.1e+11 | 87.662      | 29m 3s       |"
      ]
     },
     "metadata": {},
     "output_type": "display_data"
    },
    {
     "data": {
      "text/html": [
       "<pre>| 311129       | 1.1e+11 | 87.8017     | 29m 6s       |</pre>"
      ],
      "text/plain": [
       "| 311129       | 1.1e+11 | 87.8017     | 29m 6s       |"
      ]
     },
     "metadata": {},
     "output_type": "display_data"
    },
    {
     "data": {
      "text/html": [
       "<pre>| 311638       | 1.1e+11 | 87.9454     | 29m 9s       |</pre>"
      ],
      "text/plain": [
       "| 311638       | 1.1e+11 | 87.9454     | 29m 9s       |"
      ]
     },
     "metadata": {},
     "output_type": "display_data"
    },
    {
     "data": {
      "text/html": [
       "<pre>| 312149       | 1.1e+11 | 88.0895     | 29m 12s      |</pre>"
      ],
      "text/plain": [
       "| 312149       | 1.1e+11 | 88.0895     | 29m 12s      |"
      ]
     },
     "metadata": {},
     "output_type": "display_data"
    },
    {
     "data": {
      "text/html": [
       "<pre>| 312660       | 1.1e+11 | 88.2337     | 29m 15s      |</pre>"
      ],
      "text/plain": [
       "| 312660       | 1.1e+11 | 88.2337     | 29m 15s      |"
      ]
     },
     "metadata": {},
     "output_type": "display_data"
    },
    {
     "data": {
      "text/html": [
       "<pre>| 313135       | 1.1e+11 | 88.3676     | 29m 18s      |</pre>"
      ],
      "text/plain": [
       "| 313135       | 1.1e+11 | 88.3676     | 29m 18s      |"
      ]
     },
     "metadata": {},
     "output_type": "display_data"
    },
    {
     "data": {
      "text/html": [
       "<pre>| 313616       | 1.1e+11 | 88.5034     | 29m 21s      |</pre>"
      ],
      "text/plain": [
       "| 313616       | 1.1e+11 | 88.5034     | 29m 21s      |"
      ]
     },
     "metadata": {},
     "output_type": "display_data"
    },
    {
     "data": {
      "text/html": [
       "<pre>| 314122       | 1.1e+11 | 88.6462     | 29m 24s      |</pre>"
      ],
      "text/plain": [
       "| 314122       | 1.1e+11 | 88.6462     | 29m 24s      |"
      ]
     },
     "metadata": {},
     "output_type": "display_data"
    },
    {
     "data": {
      "text/html": [
       "<pre>| 314631       | 1.1e+11 | 88.79       | 29m 27s      |</pre>"
      ],
      "text/plain": [
       "| 314631       | 1.1e+11 | 88.79       | 29m 27s      |"
      ]
     },
     "metadata": {},
     "output_type": "display_data"
    },
    {
     "data": {
      "text/html": [
       "<pre>| 315143       | 1.1e+11 | 88.9344     | 29m 30s      |</pre>"
      ],
      "text/plain": [
       "| 315143       | 1.1e+11 | 88.9344     | 29m 30s      |"
      ]
     },
     "metadata": {},
     "output_type": "display_data"
    },
    {
     "data": {
      "text/html": [
       "<pre>| 315641       | 1.1e+11 | 89.075      | 29m 33s      |</pre>"
      ],
      "text/plain": [
       "| 315641       | 1.1e+11 | 89.075      | 29m 33s      |"
      ]
     },
     "metadata": {},
     "output_type": "display_data"
    },
    {
     "data": {
      "text/html": [
       "<pre>| 316161       | 1.1e+11 | 89.2218     | 29m 36s      |</pre>"
      ],
      "text/plain": [
       "| 316161       | 1.1e+11 | 89.2218     | 29m 36s      |"
      ]
     },
     "metadata": {},
     "output_type": "display_data"
    },
    {
     "data": {
      "text/html": [
       "<pre>| 316693       | 1.1e+11 | 89.3718     | 29m 39s      |</pre>"
      ],
      "text/plain": [
       "| 316693       | 1.1e+11 | 89.3718     | 29m 39s      |"
      ]
     },
     "metadata": {},
     "output_type": "display_data"
    },
    {
     "data": {
      "text/html": [
       "<pre>| 317214       | 1.1e+11 | 89.5188     | 29m 42s      |</pre>"
      ],
      "text/plain": [
       "| 317214       | 1.1e+11 | 89.5188     | 29m 42s      |"
      ]
     },
     "metadata": {},
     "output_type": "display_data"
    },
    {
     "data": {
      "text/html": [
       "<pre>| 317742       | 1.1e+11 | 89.6679     | 29m 45s      |</pre>"
      ],
      "text/plain": [
       "| 317742       | 1.1e+11 | 89.6679     | 29m 45s      |"
      ]
     },
     "metadata": {},
     "output_type": "display_data"
    },
    {
     "data": {
      "text/html": [
       "<pre>| 318269       | 1.1e+11 | 89.8165     | 29m 48s      |</pre>"
      ],
      "text/plain": [
       "| 318269       | 1.1e+11 | 89.8165     | 29m 48s      |"
      ]
     },
     "metadata": {},
     "output_type": "display_data"
    },
    {
     "data": {
      "text/html": [
       "<pre>| 318799       | 1.1e+11 | 89.9661     | 29m 51s      |</pre>"
      ],
      "text/plain": [
       "| 318799       | 1.1e+11 | 89.9661     | 29m 51s      |"
      ]
     },
     "metadata": {},
     "output_type": "display_data"
    },
    {
     "data": {
      "text/html": [
       "<pre>| 319321       | 1.1e+11 | 90.1134     | 29m 54s      |</pre>"
      ],
      "text/plain": [
       "| 319321       | 1.1e+11 | 90.1134     | 29m 54s      |"
      ]
     },
     "metadata": {},
     "output_type": "display_data"
    },
    {
     "data": {
      "text/html": [
       "<pre>| 319851       | 1.1e+11 | 90.263      | 29m 57s      |</pre>"
      ],
      "text/plain": [
       "| 319851       | 1.1e+11 | 90.263      | 29m 57s      |"
      ]
     },
     "metadata": {},
     "output_type": "display_data"
    },
    {
     "data": {
      "text/html": [
       "<pre>| 320379       | 1.1e+11 | 90.412      | 30m 0s       |</pre>"
      ],
      "text/plain": [
       "| 320379       | 1.1e+11 | 90.412      | 30m 0s       |"
      ]
     },
     "metadata": {},
     "output_type": "display_data"
    },
    {
     "data": {
      "text/html": [
       "<pre>| 320865       | 1.1e+11 | 90.5491     | 30m 3s       |</pre>"
      ],
      "text/plain": [
       "| 320865       | 1.1e+11 | 90.5491     | 30m 3s       |"
      ]
     },
     "metadata": {},
     "output_type": "display_data"
    },
    {
     "data": {
      "text/html": [
       "<pre>| 321350       | 1.1e+11 | 90.686      | 30m 6s       |</pre>"
      ],
      "text/plain": [
       "| 321350       | 1.1e+11 | 90.686      | 30m 6s       |"
      ]
     },
     "metadata": {},
     "output_type": "display_data"
    },
    {
     "data": {
      "text/html": [
       "<pre>| 321846       | 1.1e+11 | 90.8261     | 30m 9s       |</pre>"
      ],
      "text/plain": [
       "| 321846       | 1.1e+11 | 90.8261     | 30m 9s       |"
      ]
     },
     "metadata": {},
     "output_type": "display_data"
    },
    {
     "data": {
      "text/html": [
       "<pre>| 322371       | 1.1e+11 | 90.974      | 30m 12s      |</pre>"
      ],
      "text/plain": [
       "| 322371       | 1.1e+11 | 90.974      | 30m 12s      |"
      ]
     },
     "metadata": {},
     "output_type": "display_data"
    },
    {
     "data": {
      "text/html": [
       "<pre>| 322901       | 1.1e+11 | 91.1237     | 30m 15s      |</pre>"
      ],
      "text/plain": [
       "| 322901       | 1.1e+11 | 91.1237     | 30m 15s      |"
      ]
     },
     "metadata": {},
     "output_type": "display_data"
    },
    {
     "data": {
      "text/html": [
       "<pre>| 323427       | 1.1e+11 | 91.2721     | 30m 18s      |</pre>"
      ],
      "text/plain": [
       "| 323427       | 1.1e+11 | 91.2721     | 30m 18s      |"
      ]
     },
     "metadata": {},
     "output_type": "display_data"
    },
    {
     "data": {
      "text/html": [
       "<pre>| 323957       | 1.1e+11 | 91.4217     | 30m 21s      |</pre>"
      ],
      "text/plain": [
       "| 323957       | 1.1e+11 | 91.4217     | 30m 21s      |"
      ]
     },
     "metadata": {},
     "output_type": "display_data"
    },
    {
     "data": {
      "text/html": [
       "<pre>| 324487       | 1.1e+11 | 91.5714     | 30m 24s      |</pre>"
      ],
      "text/plain": [
       "| 324487       | 1.1e+11 | 91.5714     | 30m 24s      |"
      ]
     },
     "metadata": {},
     "output_type": "display_data"
    },
    {
     "data": {
      "text/html": [
       "<pre>| 325016       | 1.2e+11 | 91.7207     | 30m 27s      |</pre>"
      ],
      "text/plain": [
       "| 325016       | 1.2e+11 | 91.7207     | 30m 27s      |"
      ]
     },
     "metadata": {},
     "output_type": "display_data"
    },
    {
     "data": {
      "text/html": [
       "<pre>| 325547       | 1.2e+11 | 91.8705     | 30m 30s      |</pre>"
      ],
      "text/plain": [
       "| 325547       | 1.2e+11 | 91.8705     | 30m 30s      |"
      ]
     },
     "metadata": {},
     "output_type": "display_data"
    },
    {
     "data": {
      "text/html": [
       "<pre>| 326080       | 1.2e+11 | 92.0209     | 30m 33s      |</pre>"
      ],
      "text/plain": [
       "| 326080       | 1.2e+11 | 92.0209     | 30m 33s      |"
      ]
     },
     "metadata": {},
     "output_type": "display_data"
    },
    {
     "data": {
      "text/html": [
       "<pre>| 326575       | 1.2e+11 | 92.1607     | 30m 36s      |</pre>"
      ],
      "text/plain": [
       "| 326575       | 1.2e+11 | 92.1607     | 30m 36s      |"
      ]
     },
     "metadata": {},
     "output_type": "display_data"
    },
    {
     "data": {
      "text/html": [
       "<pre>| 327094       | 1.2e+11 | 92.307      | 30m 39s      |</pre>"
      ],
      "text/plain": [
       "| 327094       | 1.2e+11 | 92.307      | 30m 39s      |"
      ]
     },
     "metadata": {},
     "output_type": "display_data"
    },
    {
     "data": {
      "text/html": [
       "<pre>| 327606       | 1.2e+11 | 92.4515     | 30m 42s      |</pre>"
      ],
      "text/plain": [
       "| 327606       | 1.2e+11 | 92.4515     | 30m 42s      |"
      ]
     },
     "metadata": {},
     "output_type": "display_data"
    },
    {
     "data": {
      "text/html": [
       "<pre>| 328136       | 1.2e+11 | 92.6011     | 30m 45s      |</pre>"
      ],
      "text/plain": [
       "| 328136       | 1.2e+11 | 92.6011     | 30m 45s      |"
      ]
     },
     "metadata": {},
     "output_type": "display_data"
    },
    {
     "data": {
      "text/html": [
       "<pre>| 328670       | 1.2e+11 | 92.7518     | 30m 48s      |</pre>"
      ],
      "text/plain": [
       "| 328670       | 1.2e+11 | 92.7518     | 30m 48s      |"
      ]
     },
     "metadata": {},
     "output_type": "display_data"
    },
    {
     "data": {
      "text/html": [
       "<pre>| 329202       | 1.2e+11 | 92.9018     | 30m 51s      |</pre>"
      ],
      "text/plain": [
       "| 329202       | 1.2e+11 | 92.9018     | 30m 51s      |"
      ]
     },
     "metadata": {},
     "output_type": "display_data"
    },
    {
     "data": {
      "text/html": [
       "<pre>| 329731       | 1.2e+11 | 93.0513     | 30m 54s      |</pre>"
      ],
      "text/plain": [
       "| 329731       | 1.2e+11 | 93.0513     | 30m 54s      |"
      ]
     },
     "metadata": {},
     "output_type": "display_data"
    },
    {
     "data": {
      "text/html": [
       "<pre>| 330255       | 1.2e+11 | 93.199      | 30m 57s      |</pre>"
      ],
      "text/plain": [
       "| 330255       | 1.2e+11 | 93.199      | 30m 57s      |"
      ]
     },
     "metadata": {},
     "output_type": "display_data"
    },
    {
     "data": {
      "text/html": [
       "<pre>| 330781       | 1.2e+11 | 93.3476     | 31m 0s       |</pre>"
      ],
      "text/plain": [
       "| 330781       | 1.2e+11 | 93.3476     | 31m 0s       |"
      ]
     },
     "metadata": {},
     "output_type": "display_data"
    },
    {
     "data": {
      "text/html": [
       "<pre>| 331308       | 1.2e+11 | 93.4961     | 31m 3s       |</pre>"
      ],
      "text/plain": [
       "| 331308       | 1.2e+11 | 93.4961     | 31m 3s       |"
      ]
     },
     "metadata": {},
     "output_type": "display_data"
    },
    {
     "data": {
      "text/html": [
       "<pre>| 331836       | 1.2e+11 | 93.6452     | 31m 6s       |</pre>"
      ],
      "text/plain": [
       "| 331836       | 1.2e+11 | 93.6452     | 31m 6s       |"
      ]
     },
     "metadata": {},
     "output_type": "display_data"
    },
    {
     "data": {
      "text/html": [
       "<pre>| 332330       | 1.2e+11 | 93.7845     | 31m 9s       |</pre>"
      ],
      "text/plain": [
       "| 332330       | 1.2e+11 | 93.7845     | 31m 9s       |"
      ]
     },
     "metadata": {},
     "output_type": "display_data"
    },
    {
     "data": {
      "text/html": [
       "<pre>| 332828       | 1.2e+11 | 93.9253     | 31m 12s      |</pre>"
      ],
      "text/plain": [
       "| 332828       | 1.2e+11 | 93.9253     | 31m 12s      |"
      ]
     },
     "metadata": {},
     "output_type": "display_data"
    },
    {
     "data": {
      "text/html": [
       "<pre>| 333347       | 1.2e+11 | 94.0715     | 31m 15s      |</pre>"
      ],
      "text/plain": [
       "| 333347       | 1.2e+11 | 94.0715     | 31m 15s      |"
      ]
     },
     "metadata": {},
     "output_type": "display_data"
    },
    {
     "data": {
      "text/html": [
       "<pre>| 333871       | 1.2e+11 | 94.2194     | 31m 18s      |</pre>"
      ],
      "text/plain": [
       "| 333871       | 1.2e+11 | 94.2194     | 31m 18s      |"
      ]
     },
     "metadata": {},
     "output_type": "display_data"
    },
    {
     "data": {
      "text/html": [
       "<pre>| 334397       | 1.2e+11 | 94.3678     | 31m 21s      |</pre>"
      ],
      "text/plain": [
       "| 334397       | 1.2e+11 | 94.3678     | 31m 21s      |"
      ]
     },
     "metadata": {},
     "output_type": "display_data"
    },
    {
     "data": {
      "text/html": [
       "<pre>| 334921       | 1.2e+11 | 94.5158     | 31m 24s      |</pre>"
      ],
      "text/plain": [
       "| 334921       | 1.2e+11 | 94.5158     | 31m 24s      |"
      ]
     },
     "metadata": {},
     "output_type": "display_data"
    },
    {
     "data": {
      "text/html": [
       "<pre>| 335422       | 1.2e+11 | 94.6571     | 31m 27s      |</pre>"
      ],
      "text/plain": [
       "| 335422       | 1.2e+11 | 94.6571     | 31m 27s      |"
      ]
     },
     "metadata": {},
     "output_type": "display_data"
    },
    {
     "data": {
      "text/html": [
       "<pre>| 335933       | 1.2e+11 | 94.8013     | 31m 30s      |</pre>"
      ],
      "text/plain": [
       "| 335933       | 1.2e+11 | 94.8013     | 31m 30s      |"
      ]
     },
     "metadata": {},
     "output_type": "display_data"
    },
    {
     "data": {
      "text/html": [
       "<pre>| 336456       | 1.2e+11 | 94.949      | 31m 33s      |</pre>"
      ],
      "text/plain": [
       "| 336456       | 1.2e+11 | 94.949      | 31m 33s      |"
      ]
     },
     "metadata": {},
     "output_type": "display_data"
    },
    {
     "data": {
      "text/html": [
       "<pre>| 336976       | 1.2e+11 | 95.0958     | 31m 36s      |</pre>"
      ],
      "text/plain": [
       "| 336976       | 1.2e+11 | 95.0958     | 31m 36s      |"
      ]
     },
     "metadata": {},
     "output_type": "display_data"
    },
    {
     "data": {
      "text/html": [
       "<pre>| 337502       | 1.2e+11 | 95.2442     | 31m 39s      |</pre>"
      ],
      "text/plain": [
       "| 337502       | 1.2e+11 | 95.2442     | 31m 39s      |"
      ]
     },
     "metadata": {},
     "output_type": "display_data"
    },
    {
     "data": {
      "text/html": [
       "<pre>| 338022       | 1.2e+11 | 95.391      | 31m 42s      |</pre>"
      ],
      "text/plain": [
       "| 338022       | 1.2e+11 | 95.391      | 31m 42s      |"
      ]
     },
     "metadata": {},
     "output_type": "display_data"
    },
    {
     "data": {
      "text/html": [
       "<pre>| 338533       |         | 95.5351     | 31m 45s      |</pre>"
      ],
      "text/plain": [
       "| 338533       |         | 95.5351     | 31m 45s      |"
      ]
     },
     "metadata": {},
     "output_type": "display_data"
    },
    {
     "data": {
      "text/html": [
       "<pre>| 339026       | 1.2e+11 | 95.6742     | 31m 48s      |</pre>"
      ],
      "text/plain": [
       "| 339026       | 1.2e+11 | 95.6742     | 31m 48s      |"
      ]
     },
     "metadata": {},
     "output_type": "display_data"
    },
    {
     "data": {
      "text/html": [
       "<pre>| 339533       | 1.2e+11 | 95.8173     | 31m 51s      |</pre>"
      ],
      "text/plain": [
       "| 339533       | 1.2e+11 | 95.8173     | 31m 51s      |"
      ]
     },
     "metadata": {},
     "output_type": "display_data"
    },
    {
     "data": {
      "text/html": [
       "<pre>| 340049       | 1.2e+11 | 95.9631     | 31m 54s      |</pre>"
      ],
      "text/plain": [
       "| 340049       | 1.2e+11 | 95.9631     | 31m 54s      |"
      ]
     },
     "metadata": {},
     "output_type": "display_data"
    },
    {
     "data": {
      "text/html": [
       "<pre>| 340575       | 1.2e+11 | 96.1114     | 31m 57s      |</pre>"
      ],
      "text/plain": [
       "| 340575       | 1.2e+11 | 96.1114     | 31m 57s      |"
      ]
     },
     "metadata": {},
     "output_type": "display_data"
    },
    {
     "data": {
      "text/html": [
       "<pre>| 341101       | 1.2e+11 | 96.2599     | 32m 0s       |</pre>"
      ],
      "text/plain": [
       "| 341101       | 1.2e+11 | 96.2599     | 32m 0s       |"
      ]
     },
     "metadata": {},
     "output_type": "display_data"
    },
    {
     "data": {
      "text/html": [
       "<pre>| 341626       | 1.2e+11 | 96.4079     | 32m 3s       |</pre>"
      ],
      "text/plain": [
       "| 341626       | 1.2e+11 | 96.4079     | 32m 3s       |"
      ]
     },
     "metadata": {},
     "output_type": "display_data"
    },
    {
     "data": {
      "text/html": [
       "<pre>| 342122       | 1.2e+11 | 96.5479     | 32m 6s       |</pre>"
      ],
      "text/plain": [
       "| 342122       | 1.2e+11 | 96.5479     | 32m 6s       |"
      ]
     },
     "metadata": {},
     "output_type": "display_data"
    },
    {
     "data": {
      "text/html": [
       "<pre>| 342620       | 1.2e+11 | 96.6886     | 32m 9s       |</pre>"
      ],
      "text/plain": [
       "| 342620       | 1.2e+11 | 96.6886     | 32m 9s       |"
      ]
     },
     "metadata": {},
     "output_type": "display_data"
    },
    {
     "data": {
      "text/html": [
       "<pre>| 343132       | 1.2e+11 | 96.8331     | 32m 12s      |</pre>"
      ],
      "text/plain": [
       "| 343132       | 1.2e+11 | 96.8331     | 32m 12s      |"
      ]
     },
     "metadata": {},
     "output_type": "display_data"
    },
    {
     "data": {
      "text/html": [
       "<pre>| 343635       | 1.2e+11 | 96.975      | 32m 15s      |</pre>"
      ],
      "text/plain": [
       "| 343635       | 1.2e+11 | 96.975      | 32m 15s      |"
      ]
     },
     "metadata": {},
     "output_type": "display_data"
    },
    {
     "data": {
      "text/html": [
       "<pre>| 344142       | 1.2e+11 | 97.1181     | 32m 18s      |</pre>"
      ],
      "text/plain": [
       "| 344142       | 1.2e+11 | 97.1181     | 32m 18s      |"
      ]
     },
     "metadata": {},
     "output_type": "display_data"
    },
    {
     "data": {
      "text/html": [
       "<pre>| 344659       | 1.2e+11 | 97.2638     | 32m 21s      |</pre>"
      ],
      "text/plain": [
       "| 344659       | 1.2e+11 | 97.2638     | 32m 21s      |"
      ]
     },
     "metadata": {},
     "output_type": "display_data"
    },
    {
     "data": {
      "text/html": [
       "<pre>| 345172       | 1.2e+11 | 97.4086     | 32m 24s      |</pre>"
      ],
      "text/plain": [
       "| 345172       | 1.2e+11 | 97.4086     | 32m 24s      |"
      ]
     },
     "metadata": {},
     "output_type": "display_data"
    },
    {
     "data": {
      "text/html": [
       "<pre>| 345685       | 1.2e+11 | 97.5533     | 32m 27s      |</pre>"
      ],
      "text/plain": [
       "| 345685       | 1.2e+11 | 97.5533     | 32m 27s      |"
      ]
     },
     "metadata": {},
     "output_type": "display_data"
    },
    {
     "data": {
      "text/html": [
       "<pre>| 346198       | 1.2e+11 | 97.6983     | 32m 30s      |</pre>"
      ],
      "text/plain": [
       "| 346198       | 1.2e+11 | 97.6983     | 32m 30s      |"
      ]
     },
     "metadata": {},
     "output_type": "display_data"
    },
    {
     "data": {
      "text/html": [
       "<pre>| 346693       | 1.2e+11 | 97.8379     | 32m 33s      |</pre>"
      ],
      "text/plain": [
       "| 346693       | 1.2e+11 | 97.8379     | 32m 33s      |"
      ]
     },
     "metadata": {},
     "output_type": "display_data"
    },
    {
     "data": {
      "text/html": [
       "<pre>| 347175       | 1.2e+11 | 97.974      | 32m 36s      |</pre>"
      ],
      "text/plain": [
       "| 347175       | 1.2e+11 | 97.974      | 32m 36s      |"
      ]
     },
     "metadata": {},
     "output_type": "display_data"
    },
    {
     "data": {
      "text/html": [
       "<pre>| 347681       | 1.2e+11 | 98.1166     | 32m 39s      |</pre>"
      ],
      "text/plain": [
       "| 347681       | 1.2e+11 | 98.1166     | 32m 39s      |"
      ]
     },
     "metadata": {},
     "output_type": "display_data"
    },
    {
     "data": {
      "text/html": [
       "<pre>| 348182       | 1.2e+11 | 98.2581     | 32m 42s      |</pre>"
      ],
      "text/plain": [
       "| 348182       | 1.2e+11 | 98.2581     | 32m 42s      |"
      ]
     },
     "metadata": {},
     "output_type": "display_data"
    },
    {
     "data": {
      "text/html": [
       "<pre>| 348704       | 1.2e+11 | 98.4053     | 32m 45s      |</pre>"
      ],
      "text/plain": [
       "| 348704       | 1.2e+11 | 98.4053     | 32m 45s      |"
      ]
     },
     "metadata": {},
     "output_type": "display_data"
    },
    {
     "data": {
      "text/html": [
       "<pre>| 349232       | 1.2e+11 | 98.5543     | 32m 48s      |</pre>"
      ],
      "text/plain": [
       "| 349232       | 1.2e+11 | 98.5543     | 32m 48s      |"
      ]
     },
     "metadata": {},
     "output_type": "display_data"
    },
    {
     "data": {
      "text/html": [
       "<pre>| 349756       | 1.2e+11 | 98.7022     | 32m 51s      |</pre>"
      ],
      "text/plain": [
       "| 349756       | 1.2e+11 | 98.7022     | 32m 51s      |"
      ]
     },
     "metadata": {},
     "output_type": "display_data"
    },
    {
     "data": {
      "text/html": [
       "<pre>| 350280       | 1.2e+11 | 98.8501     | 32m 54s      |</pre>"
      ],
      "text/plain": [
       "| 350280       | 1.2e+11 | 98.8501     | 32m 54s      |"
      ]
     },
     "metadata": {},
     "output_type": "display_data"
    },
    {
     "data": {
      "text/html": [
       "<pre>| 350807       | 1.2e+11 | 98.999      | 32m 57s      |</pre>"
      ],
      "text/plain": [
       "| 350807       | 1.2e+11 | 98.999      | 32m 57s      |"
      ]
     },
     "metadata": {},
     "output_type": "display_data"
    },
    {
     "data": {
      "text/html": [
       "<pre>| 351332       | 1.2e+11 | 99.1472     | 33m 0s       |</pre>"
      ],
      "text/plain": [
       "| 351332       | 1.2e+11 | 99.1472     | 33m 0s       |"
      ]
     },
     "metadata": {},
     "output_type": "display_data"
    },
    {
     "data": {
      "text/html": [
       "<pre>| 351846       | 1.2e+11 | 99.292      | 33m 3s       |</pre>"
      ],
      "text/plain": [
       "| 351846       | 1.2e+11 | 99.292      | 33m 3s       |"
      ]
     },
     "metadata": {},
     "output_type": "display_data"
    },
    {
     "data": {
      "text/html": [
       "<pre>| 352346       | 1.2e+11 | 99.4333     | 33m 6s       |</pre>"
      ],
      "text/plain": [
       "| 352346       | 1.2e+11 | 99.4333     | 33m 6s       |"
      ]
     },
     "metadata": {},
     "output_type": "display_data"
    },
    {
     "data": {
      "text/html": [
       "<pre>| 352863       | 1.3e+11 | 99.5791     | 33m 9s       |</pre>"
      ],
      "text/plain": [
       "| 352863       | 1.3e+11 | 99.5791     | 33m 9s       |"
      ]
     },
     "metadata": {},
     "output_type": "display_data"
    },
    {
     "data": {
      "text/html": [
       "<pre>| 353380       | 1.3e+11 | 99.725      | 33m 12s      |</pre>"
      ],
      "text/plain": [
       "| 353380       | 1.3e+11 | 99.725      | 33m 12s      |"
      ]
     },
     "metadata": {},
     "output_type": "display_data"
    },
    {
     "data": {
      "text/html": [
       "<pre>| 353910       | 1.3e+11 | 99.8747     | 33m 15s      |</pre>"
      ],
      "text/plain": [
       "| 353910       | 1.3e+11 | 99.8747     | 33m 15s      |"
      ]
     },
     "metadata": {},
     "output_type": "display_data"
    },
    {
     "data": {
      "text/html": [
       "<pre>| Done         |         | 100         | 33m 18s      |</pre>"
      ],
      "text/plain": [
       "| Done         |         | 100         | 33m 18s      |"
      ]
     },
     "metadata": {},
     "output_type": "display_data"
    },
    {
     "data": {
      "text/html": [
       "<pre>+--------------+---------+-------------+--------------+</pre>"
      ],
      "text/plain": [
       "+--------------+---------+-------------+--------------+"
      ]
     },
     "metadata": {},
     "output_type": "display_data"
    },
    {
     "data": {
      "text/html": [
       "<pre>Preparing data set.</pre>"
      ],
      "text/plain": [
       "Preparing data set."
      ]
     },
     "metadata": {},
     "output_type": "display_data"
    },
    {
     "data": {
      "text/html": [
       "<pre>    Data has 229002 observations with 16753 users and 354355 items.</pre>"
      ],
      "text/plain": [
       "    Data has 229002 observations with 16753 users and 354355 items."
      ]
     },
     "metadata": {},
     "output_type": "display_data"
    },
    {
     "data": {
      "text/html": [
       "<pre>    Data prepared in: 35.8038s</pre>"
      ],
      "text/plain": [
       "    Data prepared in: 35.8038s"
      ]
     },
     "metadata": {},
     "output_type": "display_data"
    },
    {
     "data": {
      "text/html": [
       "<pre>Loading user-provided nearest items.</pre>"
      ],
      "text/plain": [
       "Loading user-provided nearest items."
      ]
     },
     "metadata": {},
     "output_type": "display_data"
    },
    {
     "data": {
      "text/html": [
       "<pre>Generating candidate set for working with new users.</pre>"
      ],
      "text/plain": [
       "Generating candidate set for working with new users."
      ]
     },
     "metadata": {},
     "output_type": "display_data"
    },
    {
     "data": {
      "text/html": [
       "<pre>Finished training in 2.76678s</pre>"
      ],
      "text/plain": [
       "Finished training in 2.76678s"
      ]
     },
     "metadata": {},
     "output_type": "display_data"
    }
   ],
   "source": [
    "model_ic = gl.item_content_recommender.create(\n",
    "    observation_data  = gl.SFrame(training_filtered), \n",
    "    user_id = 'chb',\n",
    "    item_id = 'sys_numb',\n",
    "    max_item_neighborhood_size=512,\n",
    "    item_data = gl.SFrame(items))"
   ]
  },
  {
   "cell_type": "code",
   "execution_count": 32,
   "metadata": {},
   "outputs": [
    {
     "data": {
      "text/html": [
       "<pre>recommendations finished on 1000/16753 queries. users per second: 765.642</pre>"
      ],
      "text/plain": [
       "recommendations finished on 1000/16753 queries. users per second: 765.642"
      ]
     },
     "metadata": {},
     "output_type": "display_data"
    },
    {
     "data": {
      "text/html": [
       "<pre>recommendations finished on 2000/16753 queries. users per second: 774.599</pre>"
      ],
      "text/plain": [
       "recommendations finished on 2000/16753 queries. users per second: 774.599"
      ]
     },
     "metadata": {},
     "output_type": "display_data"
    },
    {
     "data": {
      "text/html": [
       "<pre>recommendations finished on 3000/16753 queries. users per second: 783.401</pre>"
      ],
      "text/plain": [
       "recommendations finished on 3000/16753 queries. users per second: 783.401"
      ]
     },
     "metadata": {},
     "output_type": "display_data"
    },
    {
     "data": {
      "text/html": [
       "<pre>recommendations finished on 4000/16753 queries. users per second: 791.919</pre>"
      ],
      "text/plain": [
       "recommendations finished on 4000/16753 queries. users per second: 791.919"
      ]
     },
     "metadata": {},
     "output_type": "display_data"
    },
    {
     "data": {
      "text/html": [
       "<pre>recommendations finished on 5000/16753 queries. users per second: 795.102</pre>"
      ],
      "text/plain": [
       "recommendations finished on 5000/16753 queries. users per second: 795.102"
      ]
     },
     "metadata": {},
     "output_type": "display_data"
    },
    {
     "data": {
      "text/html": [
       "<pre>recommendations finished on 6000/16753 queries. users per second: 799.272</pre>"
      ],
      "text/plain": [
       "recommendations finished on 6000/16753 queries. users per second: 799.272"
      ]
     },
     "metadata": {},
     "output_type": "display_data"
    },
    {
     "data": {
      "text/html": [
       "<pre>recommendations finished on 7000/16753 queries. users per second: 801.863</pre>"
      ],
      "text/plain": [
       "recommendations finished on 7000/16753 queries. users per second: 801.863"
      ]
     },
     "metadata": {},
     "output_type": "display_data"
    },
    {
     "data": {
      "text/html": [
       "<pre>recommendations finished on 8000/16753 queries. users per second: 803.691</pre>"
      ],
      "text/plain": [
       "recommendations finished on 8000/16753 queries. users per second: 803.691"
      ]
     },
     "metadata": {},
     "output_type": "display_data"
    },
    {
     "data": {
      "text/html": [
       "<pre>recommendations finished on 9000/16753 queries. users per second: 805.274</pre>"
      ],
      "text/plain": [
       "recommendations finished on 9000/16753 queries. users per second: 805.274"
      ]
     },
     "metadata": {},
     "output_type": "display_data"
    },
    {
     "data": {
      "text/html": [
       "<pre>recommendations finished on 10000/16753 queries. users per second: 806.808</pre>"
      ],
      "text/plain": [
       "recommendations finished on 10000/16753 queries. users per second: 806.808"
      ]
     },
     "metadata": {},
     "output_type": "display_data"
    },
    {
     "data": {
      "text/html": [
       "<pre>recommendations finished on 11000/16753 queries. users per second: 808.371</pre>"
      ],
      "text/plain": [
       "recommendations finished on 11000/16753 queries. users per second: 808.371"
      ]
     },
     "metadata": {},
     "output_type": "display_data"
    },
    {
     "data": {
      "text/html": [
       "<pre>recommendations finished on 12000/16753 queries. users per second: 809.082</pre>"
      ],
      "text/plain": [
       "recommendations finished on 12000/16753 queries. users per second: 809.082"
      ]
     },
     "metadata": {},
     "output_type": "display_data"
    },
    {
     "data": {
      "text/html": [
       "<pre>recommendations finished on 13000/16753 queries. users per second: 809.933</pre>"
      ],
      "text/plain": [
       "recommendations finished on 13000/16753 queries. users per second: 809.933"
      ]
     },
     "metadata": {},
     "output_type": "display_data"
    },
    {
     "data": {
      "text/html": [
       "<pre>recommendations finished on 14000/16753 queries. users per second: 810.416</pre>"
      ],
      "text/plain": [
       "recommendations finished on 14000/16753 queries. users per second: 810.416"
      ]
     },
     "metadata": {},
     "output_type": "display_data"
    },
    {
     "data": {
      "text/html": [
       "<pre>recommendations finished on 15000/16753 queries. users per second: 811.204</pre>"
      ],
      "text/plain": [
       "recommendations finished on 15000/16753 queries. users per second: 811.204"
      ]
     },
     "metadata": {},
     "output_type": "display_data"
    },
    {
     "data": {
      "text/html": [
       "<pre>recommendations finished on 16000/16753 queries. users per second: 811.754</pre>"
      ],
      "text/plain": [
       "recommendations finished on 16000/16753 queries. users per second: 811.754"
      ]
     },
     "metadata": {},
     "output_type": "display_data"
    }
   ],
   "source": [
    "results_i = model_ic.recommend(k=20)"
   ]
  },
  {
   "cell_type": "code",
   "execution_count": 33,
   "metadata": {},
   "outputs": [],
   "source": [
    "solution_i = results_i.to_dataframe()\n",
    "solution_i = solution_i[['chb','sys_numb']]\n",
    "solution_i.to_csv(\"solution_i_ix.csv\", index=False, sep=';')"
   ]
  },
  {
   "cell_type": "code",
   "execution_count": 34,
   "metadata": {},
   "outputs": [],
   "source": [
    "solution_i = results_i.to_dataframe()\n",
    "solution = results.to_dataframe()"
   ]
  },
  {
   "cell_type": "code",
   "execution_count": 35,
   "metadata": {},
   "outputs": [],
   "source": [
    "solution_i = solution_i[['chb','sys_numb','score']]\n",
    "solution = solution[['chb','sys_numb','score']]"
   ]
  },
  {
   "cell_type": "code",
   "execution_count": 41,
   "metadata": {},
   "outputs": [],
   "source": [
    "df3 = pd.concat([solution, solution_i]).groupby(by = ['chb','sys_numb']).mean()"
   ]
  },
  {
   "cell_type": "code",
   "execution_count": 42,
   "metadata": {},
   "outputs": [],
   "source": [
    "solution_final = df3.sort_values('score').groupby(level=0).tail(20).sort_index().reset_index()"
   ]
  },
  {
   "cell_type": "code",
   "execution_count": 39,
   "metadata": {},
   "outputs": [],
   "source": [
    "solution_final = solution_final[['chb','sys_numb']]\n",
    "solution_final.to_csv(\"solution_final.csv\", index=False, sep=';')"
   ]
  },
  {
   "cell_type": "code",
   "execution_count": null,
   "metadata": {},
   "outputs": [],
   "source": []
  }
 ],
 "metadata": {
  "colab": {
   "collapsed_sections": [],
   "name": "baseline.ipynb",
   "provenance": []
  },
  "kernelspec": {
   "display_name": "Python 3 (ipykernel)",
   "language": "python",
   "name": "python3"
  },
  "language_info": {
   "codemirror_mode": {
    "name": "ipython",
    "version": 3
   },
   "file_extension": ".py",
   "mimetype": "text/x-python",
   "name": "python",
   "nbconvert_exporter": "python",
   "pygments_lexer": "ipython3",
   "version": "3.8.13"
  },
  "nbTranslate": {
   "displayLangs": [
    "ru",
    "en"
   ],
   "hotkey": "alt-t",
   "langInMainMenu": true,
   "sourceLang": "en",
   "targetLang": "ru",
   "useGoogleTranslate": true
  },
  "widgets": {
   "application/vnd.jupyter.widget-state+json": {
    "0593ed0e5f114ce19b98638ebff2e107": {
     "model_module": "@jupyter-widgets/base",
     "model_module_version": "1.2.0",
     "model_name": "LayoutModel",
     "state": {
      "_model_module": "@jupyter-widgets/base",
      "_model_module_version": "1.2.0",
      "_model_name": "LayoutModel",
      "_view_count": null,
      "_view_module": "@jupyter-widgets/base",
      "_view_module_version": "1.2.0",
      "_view_name": "LayoutView",
      "align_content": null,
      "align_items": null,
      "align_self": null,
      "border": null,
      "bottom": null,
      "display": null,
      "flex": null,
      "flex_flow": null,
      "grid_area": null,
      "grid_auto_columns": null,
      "grid_auto_flow": null,
      "grid_auto_rows": null,
      "grid_column": null,
      "grid_gap": null,
      "grid_row": null,
      "grid_template_areas": null,
      "grid_template_columns": null,
      "grid_template_rows": null,
      "height": null,
      "justify_content": null,
      "justify_items": null,
      "left": null,
      "margin": null,
      "max_height": null,
      "max_width": null,
      "min_height": null,
      "min_width": null,
      "object_fit": null,
      "object_position": null,
      "order": null,
      "overflow": null,
      "overflow_x": null,
      "overflow_y": null,
      "padding": null,
      "right": null,
      "top": null,
      "visibility": null,
      "width": null
     }
    },
    "0a8179380583411785f4610ab541d6ec": {
     "model_module": "@jupyter-widgets/controls",
     "model_module_version": "1.5.0",
     "model_name": "DescriptionStyleModel",
     "state": {
      "_model_module": "@jupyter-widgets/controls",
      "_model_module_version": "1.5.0",
      "_model_name": "DescriptionStyleModel",
      "_view_count": null,
      "_view_module": "@jupyter-widgets/base",
      "_view_module_version": "1.2.0",
      "_view_name": "StyleView",
      "description_width": ""
     }
    },
    "1af4fefd505f48d794821396f5b9fc1b": {
     "model_module": "@jupyter-widgets/controls",
     "model_module_version": "1.5.0",
     "model_name": "FloatProgressModel",
     "state": {
      "_dom_classes": [],
      "_model_module": "@jupyter-widgets/controls",
      "_model_module_version": "1.5.0",
      "_model_name": "FloatProgressModel",
      "_view_count": null,
      "_view_module": "@jupyter-widgets/controls",
      "_view_module_version": "1.5.0",
      "_view_name": "ProgressView",
      "bar_style": "success",
      "description": "",
      "description_tooltip": null,
      "layout": "IPY_MODEL_0593ed0e5f114ce19b98638ebff2e107",
      "max": 15,
      "min": 0,
      "orientation": "horizontal",
      "style": "IPY_MODEL_fac76e7c28494a078cea00a3503e6ae4",
      "value": 15
     }
    },
    "1fcd51026434444fba4c19e014a4fd44": {
     "model_module": "@jupyter-widgets/base",
     "model_module_version": "1.2.0",
     "model_name": "LayoutModel",
     "state": {
      "_model_module": "@jupyter-widgets/base",
      "_model_module_version": "1.2.0",
      "_model_name": "LayoutModel",
      "_view_count": null,
      "_view_module": "@jupyter-widgets/base",
      "_view_module_version": "1.2.0",
      "_view_name": "LayoutView",
      "align_content": null,
      "align_items": null,
      "align_self": null,
      "border": null,
      "bottom": null,
      "display": null,
      "flex": null,
      "flex_flow": null,
      "grid_area": null,
      "grid_auto_columns": null,
      "grid_auto_flow": null,
      "grid_auto_rows": null,
      "grid_column": null,
      "grid_gap": null,
      "grid_row": null,
      "grid_template_areas": null,
      "grid_template_columns": null,
      "grid_template_rows": null,
      "height": null,
      "justify_content": null,
      "justify_items": null,
      "left": null,
      "margin": null,
      "max_height": null,
      "max_width": null,
      "min_height": null,
      "min_width": null,
      "object_fit": null,
      "object_position": null,
      "order": null,
      "overflow": null,
      "overflow_x": null,
      "overflow_y": null,
      "padding": null,
      "right": null,
      "top": null,
      "visibility": null,
      "width": null
     }
    },
    "224b4e830a974af7a2b3d50f7964e63d": {
     "model_module": "@jupyter-widgets/base",
     "model_module_version": "1.2.0",
     "model_name": "LayoutModel",
     "state": {
      "_model_module": "@jupyter-widgets/base",
      "_model_module_version": "1.2.0",
      "_model_name": "LayoutModel",
      "_view_count": null,
      "_view_module": "@jupyter-widgets/base",
      "_view_module_version": "1.2.0",
      "_view_name": "LayoutView",
      "align_content": null,
      "align_items": null,
      "align_self": null,
      "border": null,
      "bottom": null,
      "display": null,
      "flex": null,
      "flex_flow": null,
      "grid_area": null,
      "grid_auto_columns": null,
      "grid_auto_flow": null,
      "grid_auto_rows": null,
      "grid_column": null,
      "grid_gap": null,
      "grid_row": null,
      "grid_template_areas": null,
      "grid_template_columns": null,
      "grid_template_rows": null,
      "height": null,
      "justify_content": null,
      "justify_items": null,
      "left": null,
      "margin": null,
      "max_height": null,
      "max_width": null,
      "min_height": null,
      "min_width": null,
      "object_fit": null,
      "object_position": null,
      "order": null,
      "overflow": null,
      "overflow_x": null,
      "overflow_y": null,
      "padding": null,
      "right": null,
      "top": null,
      "visibility": null,
      "width": null
     }
    },
    "23d91341a43349b9a49f19ffd81c9e02": {
     "model_module": "@jupyter-widgets/controls",
     "model_module_version": "1.5.0",
     "model_name": "DescriptionStyleModel",
     "state": {
      "_model_module": "@jupyter-widgets/controls",
      "_model_module_version": "1.5.0",
      "_model_name": "DescriptionStyleModel",
      "_view_count": null,
      "_view_module": "@jupyter-widgets/base",
      "_view_module_version": "1.2.0",
      "_view_name": "StyleView",
      "description_width": ""
     }
    },
    "313a2d8b1d0d4da791ce6a926e15fa19": {
     "model_module": "@jupyter-widgets/controls",
     "model_module_version": "1.5.0",
     "model_name": "ProgressStyleModel",
     "state": {
      "_model_module": "@jupyter-widgets/controls",
      "_model_module_version": "1.5.0",
      "_model_name": "ProgressStyleModel",
      "_view_count": null,
      "_view_module": "@jupyter-widgets/base",
      "_view_module_version": "1.2.0",
      "_view_name": "StyleView",
      "bar_color": null,
      "description_width": ""
     }
    },
    "3a361ace8315401b9faf50b7e377b654": {
     "model_module": "@jupyter-widgets/base",
     "model_module_version": "1.2.0",
     "model_name": "LayoutModel",
     "state": {
      "_model_module": "@jupyter-widgets/base",
      "_model_module_version": "1.2.0",
      "_model_name": "LayoutModel",
      "_view_count": null,
      "_view_module": "@jupyter-widgets/base",
      "_view_module_version": "1.2.0",
      "_view_name": "LayoutView",
      "align_content": null,
      "align_items": null,
      "align_self": null,
      "border": null,
      "bottom": null,
      "display": null,
      "flex": null,
      "flex_flow": null,
      "grid_area": null,
      "grid_auto_columns": null,
      "grid_auto_flow": null,
      "grid_auto_rows": null,
      "grid_column": null,
      "grid_gap": null,
      "grid_row": null,
      "grid_template_areas": null,
      "grid_template_columns": null,
      "grid_template_rows": null,
      "height": null,
      "justify_content": null,
      "justify_items": null,
      "left": null,
      "margin": null,
      "max_height": null,
      "max_width": null,
      "min_height": null,
      "min_width": null,
      "object_fit": null,
      "object_position": null,
      "order": null,
      "overflow": null,
      "overflow_x": null,
      "overflow_y": null,
      "padding": null,
      "right": null,
      "top": null,
      "visibility": null,
      "width": null
     }
    },
    "3db833df7f034c1199d52188b242610c": {
     "model_module": "@jupyter-widgets/base",
     "model_module_version": "1.2.0",
     "model_name": "LayoutModel",
     "state": {
      "_model_module": "@jupyter-widgets/base",
      "_model_module_version": "1.2.0",
      "_model_name": "LayoutModel",
      "_view_count": null,
      "_view_module": "@jupyter-widgets/base",
      "_view_module_version": "1.2.0",
      "_view_name": "LayoutView",
      "align_content": null,
      "align_items": null,
      "align_self": null,
      "border": null,
      "bottom": null,
      "display": null,
      "flex": null,
      "flex_flow": null,
      "grid_area": null,
      "grid_auto_columns": null,
      "grid_auto_flow": null,
      "grid_auto_rows": null,
      "grid_column": null,
      "grid_gap": null,
      "grid_row": null,
      "grid_template_areas": null,
      "grid_template_columns": null,
      "grid_template_rows": null,
      "height": null,
      "justify_content": null,
      "justify_items": null,
      "left": null,
      "margin": null,
      "max_height": null,
      "max_width": null,
      "min_height": null,
      "min_width": null,
      "object_fit": null,
      "object_position": null,
      "order": null,
      "overflow": null,
      "overflow_x": null,
      "overflow_y": null,
      "padding": null,
      "right": null,
      "top": null,
      "visibility": null,
      "width": null
     }
    },
    "3eac1aa497e142348cc7ddd3d3149d07": {
     "model_module": "@jupyter-widgets/base",
     "model_module_version": "1.2.0",
     "model_name": "LayoutModel",
     "state": {
      "_model_module": "@jupyter-widgets/base",
      "_model_module_version": "1.2.0",
      "_model_name": "LayoutModel",
      "_view_count": null,
      "_view_module": "@jupyter-widgets/base",
      "_view_module_version": "1.2.0",
      "_view_name": "LayoutView",
      "align_content": null,
      "align_items": null,
      "align_self": null,
      "border": null,
      "bottom": null,
      "display": null,
      "flex": null,
      "flex_flow": null,
      "grid_area": null,
      "grid_auto_columns": null,
      "grid_auto_flow": null,
      "grid_auto_rows": null,
      "grid_column": null,
      "grid_gap": null,
      "grid_row": null,
      "grid_template_areas": null,
      "grid_template_columns": null,
      "grid_template_rows": null,
      "height": null,
      "justify_content": null,
      "justify_items": null,
      "left": null,
      "margin": null,
      "max_height": null,
      "max_width": null,
      "min_height": null,
      "min_width": null,
      "object_fit": null,
      "object_position": null,
      "order": null,
      "overflow": null,
      "overflow_x": null,
      "overflow_y": null,
      "padding": null,
      "right": null,
      "top": null,
      "visibility": null,
      "width": null
     }
    },
    "428c136d31964fd093e2aadca93ef5c7": {
     "model_module": "@jupyter-widgets/controls",
     "model_module_version": "1.5.0",
     "model_name": "HTMLModel",
     "state": {
      "_dom_classes": [],
      "_model_module": "@jupyter-widgets/controls",
      "_model_module_version": "1.5.0",
      "_model_name": "HTMLModel",
      "_view_count": null,
      "_view_module": "@jupyter-widgets/controls",
      "_view_module_version": "1.5.0",
      "_view_name": "HTMLView",
      "description": "",
      "description_tooltip": null,
      "layout": "IPY_MODEL_f279b84231f247e391ae3e70913c2f8d",
      "placeholder": "​",
      "style": "IPY_MODEL_0a8179380583411785f4610ab541d6ec",
      "value": " 16753/16753 [04:54&lt;00:00, 57.85it/s]"
     }
    },
    "455829e8241d45c099fa872d015d76ee": {
     "model_module": "@jupyter-widgets/controls",
     "model_module_version": "1.5.0",
     "model_name": "FloatProgressModel",
     "state": {
      "_dom_classes": [],
      "_model_module": "@jupyter-widgets/controls",
      "_model_module_version": "1.5.0",
      "_model_name": "FloatProgressModel",
      "_view_count": null,
      "_view_module": "@jupyter-widgets/controls",
      "_view_module_version": "1.5.0",
      "_view_name": "ProgressView",
      "bar_style": "success",
      "description": "",
      "description_tooltip": null,
      "layout": "IPY_MODEL_5d4246d46d6c42baa66f0ee341be7c72",
      "max": 12406,
      "min": 0,
      "orientation": "horizontal",
      "style": "IPY_MODEL_bc76eef610b34ee5bd3198c2e59b5571",
      "value": 12406
     }
    },
    "4ac5a4756d884e3c8dce1d8eb5ee8df4": {
     "model_module": "@jupyter-widgets/base",
     "model_module_version": "1.2.0",
     "model_name": "LayoutModel",
     "state": {
      "_model_module": "@jupyter-widgets/base",
      "_model_module_version": "1.2.0",
      "_model_name": "LayoutModel",
      "_view_count": null,
      "_view_module": "@jupyter-widgets/base",
      "_view_module_version": "1.2.0",
      "_view_name": "LayoutView",
      "align_content": null,
      "align_items": null,
      "align_self": null,
      "border": null,
      "bottom": null,
      "display": null,
      "flex": null,
      "flex_flow": null,
      "grid_area": null,
      "grid_auto_columns": null,
      "grid_auto_flow": null,
      "grid_auto_rows": null,
      "grid_column": null,
      "grid_gap": null,
      "grid_row": null,
      "grid_template_areas": null,
      "grid_template_columns": null,
      "grid_template_rows": null,
      "height": null,
      "justify_content": null,
      "justify_items": null,
      "left": null,
      "margin": null,
      "max_height": null,
      "max_width": null,
      "min_height": null,
      "min_width": null,
      "object_fit": null,
      "object_position": null,
      "order": null,
      "overflow": null,
      "overflow_x": null,
      "overflow_y": null,
      "padding": null,
      "right": null,
      "top": null,
      "visibility": null,
      "width": null
     }
    },
    "4bd7c42ca78d4672b3a5b2a4ad508b13": {
     "model_module": "@jupyter-widgets/controls",
     "model_module_version": "1.5.0",
     "model_name": "DescriptionStyleModel",
     "state": {
      "_model_module": "@jupyter-widgets/controls",
      "_model_module_version": "1.5.0",
      "_model_name": "DescriptionStyleModel",
      "_view_count": null,
      "_view_module": "@jupyter-widgets/base",
      "_view_module_version": "1.2.0",
      "_view_name": "StyleView",
      "description_width": ""
     }
    },
    "58097bbf6fef4e2b95f41f558a0a300a": {
     "model_module": "@jupyter-widgets/controls",
     "model_module_version": "1.5.0",
     "model_name": "HBoxModel",
     "state": {
      "_dom_classes": [],
      "_model_module": "@jupyter-widgets/controls",
      "_model_module_version": "1.5.0",
      "_model_name": "HBoxModel",
      "_view_count": null,
      "_view_module": "@jupyter-widgets/controls",
      "_view_module_version": "1.5.0",
      "_view_name": "HBoxView",
      "box_style": "",
      "children": [
       "IPY_MODEL_dced4c19d6d3431ebedb6a5a9fd29a00",
       "IPY_MODEL_455829e8241d45c099fa872d015d76ee",
       "IPY_MODEL_708e0d7bd9e348d1b99185ddcbe27cc0"
      ],
      "layout": "IPY_MODEL_6aded57491184c279c28ae4d4e7407f6"
     }
    },
    "583c1f2d5430452a9cf76ed438c65e64": {
     "model_module": "@jupyter-widgets/controls",
     "model_module_version": "1.5.0",
     "model_name": "HTMLModel",
     "state": {
      "_dom_classes": [],
      "_model_module": "@jupyter-widgets/controls",
      "_model_module_version": "1.5.0",
      "_model_name": "HTMLModel",
      "_view_count": null,
      "_view_module": "@jupyter-widgets/controls",
      "_view_module_version": "1.5.0",
      "_view_name": "HTMLView",
      "description": "",
      "description_tooltip": null,
      "layout": "IPY_MODEL_3a361ace8315401b9faf50b7e377b654",
      "placeholder": "​",
      "style": "IPY_MODEL_e46e3d9623db4f2c957c81ece8f59c9a",
      "value": " 15/15 [02:08&lt;00:00,  7.71s/it]"
     }
    },
    "5d4246d46d6c42baa66f0ee341be7c72": {
     "model_module": "@jupyter-widgets/base",
     "model_module_version": "1.2.0",
     "model_name": "LayoutModel",
     "state": {
      "_model_module": "@jupyter-widgets/base",
      "_model_module_version": "1.2.0",
      "_model_name": "LayoutModel",
      "_view_count": null,
      "_view_module": "@jupyter-widgets/base",
      "_view_module_version": "1.2.0",
      "_view_name": "LayoutView",
      "align_content": null,
      "align_items": null,
      "align_self": null,
      "border": null,
      "bottom": null,
      "display": null,
      "flex": null,
      "flex_flow": null,
      "grid_area": null,
      "grid_auto_columns": null,
      "grid_auto_flow": null,
      "grid_auto_rows": null,
      "grid_column": null,
      "grid_gap": null,
      "grid_row": null,
      "grid_template_areas": null,
      "grid_template_columns": null,
      "grid_template_rows": null,
      "height": null,
      "justify_content": null,
      "justify_items": null,
      "left": null,
      "margin": null,
      "max_height": null,
      "max_width": null,
      "min_height": null,
      "min_width": null,
      "object_fit": null,
      "object_position": null,
      "order": null,
      "overflow": null,
      "overflow_x": null,
      "overflow_y": null,
      "padding": null,
      "right": null,
      "top": null,
      "visibility": null,
      "width": null
     }
    },
    "5e46694fefb542e0948270973c702954": {
     "model_module": "@jupyter-widgets/controls",
     "model_module_version": "1.5.0",
     "model_name": "FloatProgressModel",
     "state": {
      "_dom_classes": [],
      "_model_module": "@jupyter-widgets/controls",
      "_model_module_version": "1.5.0",
      "_model_name": "FloatProgressModel",
      "_view_count": null,
      "_view_module": "@jupyter-widgets/controls",
      "_view_module_version": "1.5.0",
      "_view_name": "ProgressView",
      "bar_style": "success",
      "description": "",
      "description_tooltip": null,
      "layout": "IPY_MODEL_4ac5a4756d884e3c8dce1d8eb5ee8df4",
      "max": 16753,
      "min": 0,
      "orientation": "horizontal",
      "style": "IPY_MODEL_313a2d8b1d0d4da791ce6a926e15fa19",
      "value": 16753
     }
    },
    "692b0e4b0f47424e848f943e9dc2920a": {
     "model_module": "@jupyter-widgets/base",
     "model_module_version": "1.2.0",
     "model_name": "LayoutModel",
     "state": {
      "_model_module": "@jupyter-widgets/base",
      "_model_module_version": "1.2.0",
      "_model_name": "LayoutModel",
      "_view_count": null,
      "_view_module": "@jupyter-widgets/base",
      "_view_module_version": "1.2.0",
      "_view_name": "LayoutView",
      "align_content": null,
      "align_items": null,
      "align_self": null,
      "border": null,
      "bottom": null,
      "display": null,
      "flex": null,
      "flex_flow": null,
      "grid_area": null,
      "grid_auto_columns": null,
      "grid_auto_flow": null,
      "grid_auto_rows": null,
      "grid_column": null,
      "grid_gap": null,
      "grid_row": null,
      "grid_template_areas": null,
      "grid_template_columns": null,
      "grid_template_rows": null,
      "height": null,
      "justify_content": null,
      "justify_items": null,
      "left": null,
      "margin": null,
      "max_height": null,
      "max_width": null,
      "min_height": null,
      "min_width": null,
      "object_fit": null,
      "object_position": null,
      "order": null,
      "overflow": null,
      "overflow_x": null,
      "overflow_y": null,
      "padding": null,
      "right": null,
      "top": null,
      "visibility": null,
      "width": null
     }
    },
    "6aded57491184c279c28ae4d4e7407f6": {
     "model_module": "@jupyter-widgets/base",
     "model_module_version": "1.2.0",
     "model_name": "LayoutModel",
     "state": {
      "_model_module": "@jupyter-widgets/base",
      "_model_module_version": "1.2.0",
      "_model_name": "LayoutModel",
      "_view_count": null,
      "_view_module": "@jupyter-widgets/base",
      "_view_module_version": "1.2.0",
      "_view_name": "LayoutView",
      "align_content": null,
      "align_items": null,
      "align_self": null,
      "border": null,
      "bottom": null,
      "display": null,
      "flex": null,
      "flex_flow": null,
      "grid_area": null,
      "grid_auto_columns": null,
      "grid_auto_flow": null,
      "grid_auto_rows": null,
      "grid_column": null,
      "grid_gap": null,
      "grid_row": null,
      "grid_template_areas": null,
      "grid_template_columns": null,
      "grid_template_rows": null,
      "height": null,
      "justify_content": null,
      "justify_items": null,
      "left": null,
      "margin": null,
      "max_height": null,
      "max_width": null,
      "min_height": null,
      "min_width": null,
      "object_fit": null,
      "object_position": null,
      "order": null,
      "overflow": null,
      "overflow_x": null,
      "overflow_y": null,
      "padding": null,
      "right": null,
      "top": null,
      "visibility": null,
      "width": null
     }
    },
    "6bf87b161b954999952a6d337577a664": {
     "model_module": "@jupyter-widgets/controls",
     "model_module_version": "1.5.0",
     "model_name": "HTMLModel",
     "state": {
      "_dom_classes": [],
      "_model_module": "@jupyter-widgets/controls",
      "_model_module_version": "1.5.0",
      "_model_name": "HTMLModel",
      "_view_count": null,
      "_view_module": "@jupyter-widgets/controls",
      "_view_module_version": "1.5.0",
      "_view_name": "HTMLView",
      "description": "",
      "description_tooltip": null,
      "layout": "IPY_MODEL_692b0e4b0f47424e848f943e9dc2920a",
      "placeholder": "​",
      "style": "IPY_MODEL_23d91341a43349b9a49f19ffd81c9e02",
      "value": "100%"
     }
    },
    "708e0d7bd9e348d1b99185ddcbe27cc0": {
     "model_module": "@jupyter-widgets/controls",
     "model_module_version": "1.5.0",
     "model_name": "HTMLModel",
     "state": {
      "_dom_classes": [],
      "_model_module": "@jupyter-widgets/controls",
      "_model_module_version": "1.5.0",
      "_model_name": "HTMLModel",
      "_view_count": null,
      "_view_module": "@jupyter-widgets/controls",
      "_view_module_version": "1.5.0",
      "_view_name": "HTMLView",
      "description": "",
      "description_tooltip": null,
      "layout": "IPY_MODEL_3eac1aa497e142348cc7ddd3d3149d07",
      "placeholder": "​",
      "style": "IPY_MODEL_9a5eaae1ccb34ef99eb1ceef37c2b0ad",
      "value": " 12406/12406 [02:07&lt;00:00, 101.69it/s]"
     }
    },
    "9a5eaae1ccb34ef99eb1ceef37c2b0ad": {
     "model_module": "@jupyter-widgets/controls",
     "model_module_version": "1.5.0",
     "model_name": "DescriptionStyleModel",
     "state": {
      "_model_module": "@jupyter-widgets/controls",
      "_model_module_version": "1.5.0",
      "_model_name": "DescriptionStyleModel",
      "_view_count": null,
      "_view_module": "@jupyter-widgets/base",
      "_view_module_version": "1.2.0",
      "_view_name": "StyleView",
      "description_width": ""
     }
    },
    "9e35014db65e438fada932a477dfebf2": {
     "model_module": "@jupyter-widgets/controls",
     "model_module_version": "1.5.0",
     "model_name": "HBoxModel",
     "state": {
      "_dom_classes": [],
      "_model_module": "@jupyter-widgets/controls",
      "_model_module_version": "1.5.0",
      "_model_name": "HBoxModel",
      "_view_count": null,
      "_view_module": "@jupyter-widgets/controls",
      "_view_module_version": "1.5.0",
      "_view_name": "HBoxView",
      "box_style": "",
      "children": [
       "IPY_MODEL_cd3f85754e844696a20fd41eacc89b40",
       "IPY_MODEL_1af4fefd505f48d794821396f5b9fc1b",
       "IPY_MODEL_583c1f2d5430452a9cf76ed438c65e64"
      ],
      "layout": "IPY_MODEL_3db833df7f034c1199d52188b242610c"
     }
    },
    "bc76eef610b34ee5bd3198c2e59b5571": {
     "model_module": "@jupyter-widgets/controls",
     "model_module_version": "1.5.0",
     "model_name": "ProgressStyleModel",
     "state": {
      "_model_module": "@jupyter-widgets/controls",
      "_model_module_version": "1.5.0",
      "_model_name": "ProgressStyleModel",
      "_view_count": null,
      "_view_module": "@jupyter-widgets/base",
      "_view_module_version": "1.2.0",
      "_view_name": "StyleView",
      "bar_color": null,
      "description_width": ""
     }
    },
    "be58df1cad224991b004a318f0c69322": {
     "model_module": "@jupyter-widgets/controls",
     "model_module_version": "1.5.0",
     "model_name": "HBoxModel",
     "state": {
      "_dom_classes": [],
      "_model_module": "@jupyter-widgets/controls",
      "_model_module_version": "1.5.0",
      "_model_name": "HBoxModel",
      "_view_count": null,
      "_view_module": "@jupyter-widgets/controls",
      "_view_module_version": "1.5.0",
      "_view_name": "HBoxView",
      "box_style": "",
      "children": [
       "IPY_MODEL_6bf87b161b954999952a6d337577a664",
       "IPY_MODEL_5e46694fefb542e0948270973c702954",
       "IPY_MODEL_428c136d31964fd093e2aadca93ef5c7"
      ],
      "layout": "IPY_MODEL_e7880e2ddc5e4f9080f78d652db0bade"
     }
    },
    "c1bed85b821845fd88a0fc3d13c24f61": {
     "model_module": "@jupyter-widgets/controls",
     "model_module_version": "1.5.0",
     "model_name": "DescriptionStyleModel",
     "state": {
      "_model_module": "@jupyter-widgets/controls",
      "_model_module_version": "1.5.0",
      "_model_name": "DescriptionStyleModel",
      "_view_count": null,
      "_view_module": "@jupyter-widgets/base",
      "_view_module_version": "1.2.0",
      "_view_name": "StyleView",
      "description_width": ""
     }
    },
    "cd3f85754e844696a20fd41eacc89b40": {
     "model_module": "@jupyter-widgets/controls",
     "model_module_version": "1.5.0",
     "model_name": "HTMLModel",
     "state": {
      "_dom_classes": [],
      "_model_module": "@jupyter-widgets/controls",
      "_model_module_version": "1.5.0",
      "_model_name": "HTMLModel",
      "_view_count": null,
      "_view_module": "@jupyter-widgets/controls",
      "_view_module_version": "1.5.0",
      "_view_name": "HTMLView",
      "description": "",
      "description_tooltip": null,
      "layout": "IPY_MODEL_1fcd51026434444fba4c19e014a4fd44",
      "placeholder": "​",
      "style": "IPY_MODEL_c1bed85b821845fd88a0fc3d13c24f61",
      "value": "100%"
     }
    },
    "dced4c19d6d3431ebedb6a5a9fd29a00": {
     "model_module": "@jupyter-widgets/controls",
     "model_module_version": "1.5.0",
     "model_name": "HTMLModel",
     "state": {
      "_dom_classes": [],
      "_model_module": "@jupyter-widgets/controls",
      "_model_module_version": "1.5.0",
      "_model_name": "HTMLModel",
      "_view_count": null,
      "_view_module": "@jupyter-widgets/controls",
      "_view_module_version": "1.5.0",
      "_view_name": "HTMLView",
      "description": "",
      "description_tooltip": null,
      "layout": "IPY_MODEL_224b4e830a974af7a2b3d50f7964e63d",
      "placeholder": "​",
      "style": "IPY_MODEL_4bd7c42ca78d4672b3a5b2a4ad508b13",
      "value": "100%"
     }
    },
    "e46e3d9623db4f2c957c81ece8f59c9a": {
     "model_module": "@jupyter-widgets/controls",
     "model_module_version": "1.5.0",
     "model_name": "DescriptionStyleModel",
     "state": {
      "_model_module": "@jupyter-widgets/controls",
      "_model_module_version": "1.5.0",
      "_model_name": "DescriptionStyleModel",
      "_view_count": null,
      "_view_module": "@jupyter-widgets/base",
      "_view_module_version": "1.2.0",
      "_view_name": "StyleView",
      "description_width": ""
     }
    },
    "e7880e2ddc5e4f9080f78d652db0bade": {
     "model_module": "@jupyter-widgets/base",
     "model_module_version": "1.2.0",
     "model_name": "LayoutModel",
     "state": {
      "_model_module": "@jupyter-widgets/base",
      "_model_module_version": "1.2.0",
      "_model_name": "LayoutModel",
      "_view_count": null,
      "_view_module": "@jupyter-widgets/base",
      "_view_module_version": "1.2.0",
      "_view_name": "LayoutView",
      "align_content": null,
      "align_items": null,
      "align_self": null,
      "border": null,
      "bottom": null,
      "display": null,
      "flex": null,
      "flex_flow": null,
      "grid_area": null,
      "grid_auto_columns": null,
      "grid_auto_flow": null,
      "grid_auto_rows": null,
      "grid_column": null,
      "grid_gap": null,
      "grid_row": null,
      "grid_template_areas": null,
      "grid_template_columns": null,
      "grid_template_rows": null,
      "height": null,
      "justify_content": null,
      "justify_items": null,
      "left": null,
      "margin": null,
      "max_height": null,
      "max_width": null,
      "min_height": null,
      "min_width": null,
      "object_fit": null,
      "object_position": null,
      "order": null,
      "overflow": null,
      "overflow_x": null,
      "overflow_y": null,
      "padding": null,
      "right": null,
      "top": null,
      "visibility": null,
      "width": null
     }
    },
    "f279b84231f247e391ae3e70913c2f8d": {
     "model_module": "@jupyter-widgets/base",
     "model_module_version": "1.2.0",
     "model_name": "LayoutModel",
     "state": {
      "_model_module": "@jupyter-widgets/base",
      "_model_module_version": "1.2.0",
      "_model_name": "LayoutModel",
      "_view_count": null,
      "_view_module": "@jupyter-widgets/base",
      "_view_module_version": "1.2.0",
      "_view_name": "LayoutView",
      "align_content": null,
      "align_items": null,
      "align_self": null,
      "border": null,
      "bottom": null,
      "display": null,
      "flex": null,
      "flex_flow": null,
      "grid_area": null,
      "grid_auto_columns": null,
      "grid_auto_flow": null,
      "grid_auto_rows": null,
      "grid_column": null,
      "grid_gap": null,
      "grid_row": null,
      "grid_template_areas": null,
      "grid_template_columns": null,
      "grid_template_rows": null,
      "height": null,
      "justify_content": null,
      "justify_items": null,
      "left": null,
      "margin": null,
      "max_height": null,
      "max_width": null,
      "min_height": null,
      "min_width": null,
      "object_fit": null,
      "object_position": null,
      "order": null,
      "overflow": null,
      "overflow_x": null,
      "overflow_y": null,
      "padding": null,
      "right": null,
      "top": null,
      "visibility": null,
      "width": null
     }
    },
    "fac76e7c28494a078cea00a3503e6ae4": {
     "model_module": "@jupyter-widgets/controls",
     "model_module_version": "1.5.0",
     "model_name": "ProgressStyleModel",
     "state": {
      "_model_module": "@jupyter-widgets/controls",
      "_model_module_version": "1.5.0",
      "_model_name": "ProgressStyleModel",
      "_view_count": null,
      "_view_module": "@jupyter-widgets/base",
      "_view_module_version": "1.2.0",
      "_view_name": "StyleView",
      "bar_color": null,
      "description_width": ""
     }
    }
   }
  }
 },
 "nbformat": 4,
 "nbformat_minor": 1
}
